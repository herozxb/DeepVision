{
 "cells": [
  {
   "cell_type": "code",
   "execution_count": 2,
   "metadata": {
    "collapsed": false
   },
   "outputs": [],
   "source": [
    "#! /usr/bin/env python\n",
    "from selenium import webdriver\n",
    "from selenium.webdriver.common.keys import Keys\n",
    "from selenium.webdriver import ActionChains\n",
    "from selenium.webdriver.support.ui import WebDriverWait\n",
    "\n",
    "import urllib.request\n",
    "#from urllib2 import urlopen\n",
    "import time\n",
    "import os.path\n"
   ]
  },
  {
   "cell_type": "code",
   "execution_count": 3,
   "metadata": {
    "collapsed": true
   },
   "outputs": [],
   "source": [
    "def insert_book(types, install_date,color,working,location,cnx):\n",
    "    query = \"INSERT INTO equipment (type, install_date, color, working, location) \" \\\n",
    "            \"VALUES(%s,%s,%s,%s,%s)\"\n",
    "    args = (types, install_date,color,working,location)\n",
    " \n",
    "    try:\n",
    "\n",
    "        cursor = cnx.cursor()\n",
    "        cursor.execute(query, args)\n",
    " \n",
    "        if cursor.lastrowid:\n",
    "            print('last insert id', cursor.lastrowid)\n",
    "        else:\n",
    "            print('last insert id not found')\n",
    " \n",
    "        cnx.commit()\n",
    "    except Error as error:\n",
    "        print(error)\n",
    " \n",
    "    finally:\n",
    "        cursor.close()"
   ]
  },
  {
   "cell_type": "code",
   "execution_count": 4,
   "metadata": {
    "collapsed": true
   },
   "outputs": [],
   "source": [
    "def insert_books(books):\n",
    "    query = \"INSERT INTO equipment (type, install_date, color, working, location) \" \\\n",
    "            \"VALUES(%s,%s,%s,%s,%s)\"\n",
    " \n",
    "    try:\n",
    "        cnx = mysql.connector.connect(user='root', password='hero2009', host='127.0.0.1',database='myDB')\n",
    " \n",
    "        cursor = cnx.cursor()\n",
    "        cursor.executemany(query, books)\n",
    " \n",
    "        cnx.commit()\n",
    "    except Error as e:\n",
    "        print('Error:', e)\n",
    " \n",
    "    finally:\n",
    "        cursor.close()\n",
    "        cnx.close()"
   ]
  },
  {
   "cell_type": "code",
   "execution_count": 5,
   "metadata": {
    "collapsed": false
   },
   "outputs": [
    {
     "name": "stdout",
     "output_type": "stream",
     "text": [
      "('Southwest Corner',)\n",
      "('Northwest Corner',)\n",
      "('Southwest Corner',)\n",
      "('cursor Corner',)\n",
      "('Sudden Corner',)\n",
      "('close Corner',)\n",
      "('Southwest Sudden',)\n",
      "('Southwest Corner',)\n",
      "('cursor Corner',)\n",
      "('Sudden Corner',)\n",
      "('close Corner',)\n",
      "('Southwest Sudden',)\n",
      "('Southwest Corner',)\n",
      "('cursor Corner',)\n",
      "('Sudden Corner',)\n",
      "('close Corner',)\n",
      "('Southwest Sudden',)\n"
     ]
    }
   ],
   "source": [
    "import mysql.connector\n",
    "\n",
    "cnx = mysql.connector.connect(user='root', password='hero2009',\n",
    "                              host='127.0.0.1',\n",
    "                              database='myDB')\n",
    "cursor = cnx.cursor()\n",
    "query = (\"SELECT location FROM equipment\")\n",
    "cursor.execute(query)\n",
    "\n",
    "for (location) in cursor:\n",
    "    print(location)\n",
    "\n",
    "cursor.close()\n",
    "cnx.close()"
   ]
  },
  {
   "cell_type": "code",
   "execution_count": 6,
   "metadata": {
    "collapsed": false
   },
   "outputs": [],
   "source": [
    "inputs=[(\"zero\", \"2016-12-30\", \"blue\", 1, \"Southwest Corner\"),\n",
    "       (\"one\", \"2016-12-31\", \"blue\", 1, \"cursor Corner\"),\n",
    "       (\"two\", \"2016-12-29\", \"blue\", 1, \"Sudden Corner\"),\n",
    "       (\"three\", \"2016-12-28\", \"blue\", 1, \"close Corner\"),\n",
    "       (\"four\", \"2016-12-27\", \"blue\", 1, \"Southwest Sudden\")]\n",
    "\n",
    "\n",
    "insert_books(inputs)"
   ]
  },
  {
   "cell_type": "code",
   "execution_count": 7,
   "metadata": {
    "collapsed": false
   },
   "outputs": [],
   "source": [
    "def setUp(url):\n",
    "    #open the website by url\n",
    "    #! /usr/bin/env python\n",
    "    #driver = webdriver.Firefox(executable_path=\"/usr/bin/firefox\")\n",
    "    #driver = webdriver.Chrome(\"/home/king/Downloads/chromedriver\")\n",
    "    driver = webdriver.Firefox()\n",
    "    driver.get(url)\n",
    "    driver.maximize_window()\n",
    "    return driver\n",
    "\n",
    "def downloadBigImage(dirver,imageName,dirName):\n",
    "    print(\"start******************************************\") \n",
    "    \n",
    "    if downloadBigImage.counter ==0:        \n",
    "        print(\"here^^^^^^^^^^^^^^^^^^^^^^^^^^^^^^^^^^^^^^^^^^^^^^^^^^\")        \n",
    "        #Make a dir\n",
    "        if os.path.isdir(\"/media/king/DeepVision/JDimage/\"+dirName): #/home/king/test/\n",
    "            print(\"here^^^^^^^^^^^^^^^^^^^^^^^^^^^^^^^^^^^^^^^^^^^^^^^^^^\") \n",
    "            return True\n",
    "        else:\n",
    "            os.makedirs(\"/media/king/DeepVision/JDimage/\"+dirName)\n",
    "            img = driver.find_element_by_xpath('//div[@id=\"biger\"]/img')\n",
    "            src = img.get_attribute('src')\n",
    "            #download file\n",
    "            imagefile = open(\"/media/king/DeepVision/JDimage/\"+dirName+\"/\"+imageName,\"wb\")\n",
    "            imagefile.write(urllib.request.urlopen(src).read())\n",
    "            #imagefile.write(urlopen(src).read())\n",
    "            imagefile.close()\n",
    "            downloadBigImage.counter += 1\n",
    "            print(\"here##########################################################\")\n",
    "            return None\n",
    "    \n",
    "    \n",
    "    if os.path.isdir(\"/media/king/DeepVision/JDimage/\"+dirName): #/home/king/test/\n",
    "        print(\"here^^^^^^^^^^^^^^^^^^^^^^^^^^^^^^^^^^^^^^^^^^^^^^^^^^\") \n",
    "        downloadBigImage.counter += 1\n",
    "        pass\n",
    "    else:\n",
    "        os.makedirs(\"/media/king/DeepVision/JDimage/\"+dirName) #/home/king/test/\n",
    "        downloadBigImage.counter += 1\n",
    "    \n",
    "    #move mouse\n",
    "    hoverElem = WebDriverWait(driver,10).until(lambda driver:driver.find_element_by_xpath(\"//div[@id='biger']\"))\n",
    "    ActionChains(driver).move_to_element(hoverElem).perform()\n",
    " \n",
    "\n",
    "    #click next\n",
    "    elem = WebDriverWait(driver,10).until(lambda driver:driver.find_element_by_xpath(\"//a[@class='control next']\"))\n",
    "    elem.click()\n",
    "    print(\"here%%%%%%%%%%%%%%%%%%%%%%%%%%%%%%%%%%%%%%%%%%%%%%%%%%%%%%%%%%%%%\") \n",
    "    \n",
    "    \n",
    "    \n",
    "    #download image\n",
    "    img = driver.find_element_by_xpath('//div[@id=\"biger\"]/img')\n",
    "    src = img.get_attribute('src')\n",
    "\n",
    "    imagefile = open(\"/media/king/DeepVision/JDimage/\"+dirName+\"/\"+imageName,\"wb\") #/home/king/test/\n",
    "    imagefile.write(urllib.request.urlopen(src).read())\n",
    "    #imagefile.write(urlopen(src).read())\n",
    "    imagefile.close()\n",
    "    print(\"here6666666666666666666666666666666666666666666666666666\")\n",
    "\n",
    "    \n",
    "def insert_image_information(ID_0=0, chinese_name_1='None',price_2=0,saler_3='None',support_num_4=0,good_percent_5=0,with_pic_6=0,add_supoort_7=0,good_support_8=0,mid_support_9=0,bad_support_10=0,web_site_11='None',father_12=0,children_13=0,image_0_savepath_14='None',image_0_havefeature_15=0,image_1_savepath_16='None',image_1_havefeature_17=0,image_2_savepath_18='None',image_2_havefeature_19=0,image_3_savepath_20='None',image_3_havefeature_21=0,image_4_savepath_22='None',image_4_havefeature_23=0,image_5_savepath_24='None',image_5_havefeature_25=0,show_imagepath_26='None'):\n",
    "    query = \"INSERT INTO JDImage_information (ID_0, chinese_name_1,price_2,saler_3,support_num_4,good_percent_5,with_pic_6,add_supoort_7,good_support_8,mid_support_9,bad_support_10,web_site_11,father_12,children_13,image_0_savepath_14,image_0_havefeature_15,image_1_savepath_16,image_1_havefeature_17,image_2_savepath_18,image_2_havefeature_19,image_3_savepath_20,image_3_havefeature_21,image_4_savepath_22,image_4_havefeature_23,image_5_savepath_24,image_5_havefeature_25,show_imagepath_26) \" \\\n",
    "            \"VALUES(%s,%s,%s,%s,%s,%s,%s,%s,%s,%s,%s,%s,%s,%s,%s,%s,%s,%s,%s,%s,%s,%s,%s,%s,%s,%s,%s)\"\n",
    "    args = (ID_0, chinese_name_1,price_2,saler_3,support_num_4,good_percent_5,with_pic_6,add_supoort_7,good_support_8,mid_support_9,bad_support_10,web_site_11,father_12,children_13,image_0_savepath_14,image_0_havefeature_15,image_1_savepath_16,image_1_havefeature_17,image_2_savepath_18,image_2_havefeature_19,image_3_savepath_20,image_3_havefeature_21,image_4_savepath_22,image_4_havefeature_23,image_5_savepath_24,image_5_havefeature_25,show_imagepath_26)\n",
    " \n",
    "    try:\n",
    "\n",
    "        cursor = cnx.cursor()\n",
    "        cursor.execute(query, args)\n",
    " \n",
    "        if cursor.lastrowid:\n",
    "            print('last insert id', cursor.lastrowid)\n",
    "        else:\n",
    "            print('last insert id not found')\n",
    " \n",
    "        cnx.commit()\n",
    "    #except Error as error:\n",
    "    #    print(error)\n",
    " \n",
    "    finally:\n",
    "        cursor.close()"
   ]
  },
  {
   "cell_type": "code",
   "execution_count": 8,
   "metadata": {
    "collapsed": false
   },
   "outputs": [
    {
     "name": "stdout",
     "output_type": "stream",
     "text": [
      "last insert id 5\n",
      "(1,)\n",
      "(2,)\n",
      "(3,)\n",
      "(4,)\n",
      "(5,)\n"
     ]
    }
   ],
   "source": [
    "#mysql part\n",
    "import mysql.connector\n",
    "\n",
    "cnx = mysql.connector.connect(user='root', password='hero2009',\n",
    "                              host='127.0.0.1',\n",
    "                              database='test_JD_photos')\n",
    "\n",
    "insert_image_information()\n",
    "cursor = cnx.cursor()\n",
    "query = (\"SELECT sign_id FROM JDImage_information\")\n",
    "cursor.execute(query)\n",
    "\n",
    "for (ID_0) in cursor:\n",
    "    print(ID_0)\n",
    "\n",
    "cursor.close()\n",
    "cnx.close()"
   ]
  },
  {
   "cell_type": "code",
   "execution_count": 13,
   "metadata": {
    "collapsed": false
   },
   "outputs": [
    {
     "name": "stdout",
     "output_type": "stream",
     "text": [
      "<generator object <genexpr> at 0x7efc1dbc7b48>\n"
     ]
    }
   ],
   "source": [
    "driverMain = setUp(\"https://list.jd.com/list.html?cat=652,654,831&page=2&trans=1&JL=6_0_0#J_main\")\n",
    "price = driverMain.find_elements_by_xpath('//strong[@class=\"J_price\"]')\n",
    "for test in price:\n",
    "    print(test.get_attribute('i'))"
   ]
  },
  {
   "cell_type": "code",
   "execution_count": 18,
   "metadata": {
    "collapsed": false
   },
   "outputs": [
    {
     "name": "stdout",
     "output_type": "stream",
     "text": [
      "899.00\n"
     ]
    }
   ],
   "source": [
    "elemName = \"https://item.jd.com/\"+str(3072256)+\".html\"\n",
    "driver = setUp(elemName)\n",
    "xpathName = '//span[@class=\"price J-p-' + str(3072256) + '\"]'\n",
    "testName = driver.find_elements_by_xpath(xpathName)\n",
    "print(testName[0].text)"
   ]
  },
  {
   "cell_type": "code",
   "execution_count": 19,
   "metadata": {
    "collapsed": false
   },
   "outputs": [
    {
     "name": "stdout",
     "output_type": "stream",
     "text": [
      "荣耀官方旗舰店\n"
     ]
    }
   ],
   "source": [
    "elemName = \"https://item.jd.com/\"+str(3072256)+\".html\"\n",
    "driver = setUp(elemName)\n",
    "xpathName = '//div[@class=\"contact fr clearfix\"]/div/div/div/a'\n",
    "testName = driver.find_elements_by_xpath(xpathName)\n",
    "print(testName[0].text)"
   ]
  },
  {
   "cell_type": "code",
   "execution_count": 93,
   "metadata": {
    "collapsed": false
   },
   "outputs": [
    {
     "name": "stdout",
     "output_type": "stream",
     "text": [
      "[]\n"
     ]
    }
   ],
   "source": [
    "elemName = \"https://item.jd.com/\"+str(2967929)+\".html\"\n",
    "driver = setUp(elemName)\n",
    "#xpathName = '//div[@id=\"comment-count\"]/a'\n",
    "#testName = driver.find_elements_by_xpath(xpathName)\n",
    "#print(testName[0].text)\n",
    "\n",
    "#xpathName = '//div[@class=\"comment-percent\"]/strong'\n",
    "#testpercent = driver.find_elements_by_xpath(xpathName)\n",
    "#print(testpercent[0].text)\n",
    "\n",
    "\n",
    "\n",
    "#xpathName = \"//*[contains(@id,'comment-count')]/a\"\n",
    "#testpercent = driver.find_elements_by_xpath(xpathName)\n",
    "#print(testpercent[0].text)\n",
    "\n",
    "#xpathName = '//div[@class=\"tab-main large\"]/ul/li[@class=\"current\"]'\n",
    "#testpercent = driver.find_elements_by_xpath(xpathName)\n",
    "#print(testpercent[1].text)\n",
    "#商品介绍\n",
    "\n",
    "#xpathName = '//div[@id=\"comment\"]/div[@class=\"mt\"]/h3'\n",
    "#testpercent = driver.find_elements_by_xpath(xpathName)\n",
    "#print(testpercent[0].text)\n",
    "#商品评价\n",
    "time.sleep(10)\n",
    "\n",
    "xpathName = \"//*[contains(@class,'comment-percent')]\"\n",
    "testpercent = driver.find_elements_by_xpath(xpathName)\n",
    "print(testpercent)"
   ]
  },
  {
   "cell_type": "code",
   "execution_count": 9,
   "metadata": {
    "collapsed": false
   },
   "outputs": [
    {
     "data": {
      "text/plain": [
       "30948"
      ]
     },
     "execution_count": 9,
     "metadata": {},
     "output_type": "execute_result"
    }
   ],
   "source": [
    "elemName = \"https://item.jd.com/\"+str(2967929)+\".html\"\n",
    "driver = setUp(elemName)\n",
    "\n",
    "img = driver.find_element_by_xpath('//img[@id=\"spec-img\"]')\n",
    "src = img.get_attribute('src')\n",
    "imagefile = open(\"/media/king/DeepVision/JDimage/test.jpg\",\"wb\")\n",
    "imagefile.write(urllib.request.urlopen(src).read())"
   ]
  },
  {
   "cell_type": "code",
   "execution_count": 35,
   "metadata": {
    "collapsed": false
   },
   "outputs": [
    {
     "name": "stdout",
     "output_type": "stream",
     "text": [
      "3960886\n",
      "start******************************************\n",
      "here^^^^^^^^^^^^^^^^^^^^^^^^^^^^^^^^^^^^^^^^^^^^^^^^^^\n",
      "here##########################################################\n",
      "here##########################################################\n",
      "start******************************************\n",
      "here^^^^^^^^^^^^^^^^^^^^^^^^^^^^^^^^^^^^^^^^^^^^^^^^^^\n"
     ]
    },
    {
     "ename": "ElementNotVisibleException",
     "evalue": "Message: Element is not currently visible and so may not be interacted with\nStacktrace:\n    at fxdriver.preconditions.visible (file:///tmp/tmpj1_0rh_4/extensions/fxdriver@googlecode.com/components/command-processor.js:8959:12)\n    at DelayedCommand.prototype.checkPreconditions_ (file:///tmp/tmpj1_0rh_4/extensions/fxdriver@googlecode.com/components/command-processor.js:11618:15)\n    at DelayedCommand.prototype.executeInternal_/h (file:///tmp/tmpj1_0rh_4/extensions/fxdriver@googlecode.com/components/command-processor.js:11635:11)\n    at DelayedCommand.prototype.executeInternal_ (file:///tmp/tmpj1_0rh_4/extensions/fxdriver@googlecode.com/components/command-processor.js:11640:7)\n    at DelayedCommand.prototype.execute/< (file:///tmp/tmpj1_0rh_4/extensions/fxdriver@googlecode.com/components/command-processor.js:11582:5)",
     "output_type": "error",
     "traceback": [
      "\u001b[0;31m---------------------------------------------------------------------------\u001b[0m",
      "\u001b[0;31mElementNotVisibleException\u001b[0m                Traceback (most recent call last)",
      "\u001b[0;32m<ipython-input-35-9d3717e37d12>\u001b[0m in \u001b[0;36m<module>\u001b[0;34m()\u001b[0m\n\u001b[1;32m     27\u001b[0m \u001b[0;34m\u001b[0m\u001b[0m\n\u001b[1;32m     28\u001b[0m     \u001b[0;32mwhile\u001b[0m \u001b[0mloopEnd\u001b[0m \u001b[0;34m!=\u001b[0m \u001b[0;34m\"control next next-disabled\"\u001b[0m\u001b[0;34m:\u001b[0m\u001b[0;31m#\u001b[0m\u001b[0;34m\u001b[0m\u001b[0m\n\u001b[0;32m---> 29\u001b[0;31m         \u001b[0;32mif\u001b[0m \u001b[0;32mTrue\u001b[0m \u001b[0;34m==\u001b[0m \u001b[0mdownloadBigImage\u001b[0m\u001b[0;34m(\u001b[0m\u001b[0mdriver\u001b[0m\u001b[0;34m,\u001b[0m\u001b[0;34m\"___\"\u001b[0m\u001b[0;34m+\u001b[0m\u001b[0mstr\u001b[0m\u001b[0;34m(\u001b[0m\u001b[0mnameNum\u001b[0m\u001b[0;34m)\u001b[0m\u001b[0;34m+\u001b[0m\u001b[0;34m\"___\"\u001b[0m\u001b[0;34m+\u001b[0m\u001b[0mstr\u001b[0m\u001b[0;34m(\u001b[0m\u001b[0mi\u001b[0m\u001b[0;34m)\u001b[0m\u001b[0;34m+\u001b[0m\u001b[0;34m\".jpeg\"\u001b[0m\u001b[0;34m,\u001b[0m\u001b[0mstr\u001b[0m\u001b[0;34m(\u001b[0m\u001b[0mnameNum\u001b[0m\u001b[0;34m)\u001b[0m\u001b[0;34m)\u001b[0m\u001b[0;34m:\u001b[0m\u001b[0;34m\u001b[0m\u001b[0m\n\u001b[0m\u001b[1;32m     30\u001b[0m             \u001b[0;32mbreak\u001b[0m\u001b[0;34m\u001b[0m\u001b[0m\n\u001b[1;32m     31\u001b[0m         \u001b[0mprint\u001b[0m\u001b[0;34m(\u001b[0m\u001b[0;34m\"here##########################################################\"\u001b[0m\u001b[0;34m)\u001b[0m\u001b[0;34m\u001b[0m\u001b[0m\n",
      "\u001b[0;32m<ipython-input-6-284f87ee7071>\u001b[0m in \u001b[0;36mdownloadBigImage\u001b[0;34m(dirver, imageName, dirName)\u001b[0m\n\u001b[1;32m     47\u001b[0m     \u001b[0;31m#click next\u001b[0m\u001b[0;34m\u001b[0m\u001b[0;34m\u001b[0m\u001b[0m\n\u001b[1;32m     48\u001b[0m     \u001b[0melem\u001b[0m \u001b[0;34m=\u001b[0m \u001b[0mWebDriverWait\u001b[0m\u001b[0;34m(\u001b[0m\u001b[0mdriver\u001b[0m\u001b[0;34m,\u001b[0m\u001b[0;36m10\u001b[0m\u001b[0;34m)\u001b[0m\u001b[0;34m.\u001b[0m\u001b[0muntil\u001b[0m\u001b[0;34m(\u001b[0m\u001b[0;32mlambda\u001b[0m \u001b[0mdriver\u001b[0m\u001b[0;34m:\u001b[0m\u001b[0mdriver\u001b[0m\u001b[0;34m.\u001b[0m\u001b[0mfind_element_by_xpath\u001b[0m\u001b[0;34m(\u001b[0m\u001b[0;34m\"//a[@class='control next']\"\u001b[0m\u001b[0;34m)\u001b[0m\u001b[0;34m)\u001b[0m\u001b[0;34m\u001b[0m\u001b[0m\n\u001b[0;32m---> 49\u001b[0;31m     \u001b[0melem\u001b[0m\u001b[0;34m.\u001b[0m\u001b[0mclick\u001b[0m\u001b[0;34m(\u001b[0m\u001b[0;34m)\u001b[0m\u001b[0;34m\u001b[0m\u001b[0m\n\u001b[0m\u001b[1;32m     50\u001b[0m     \u001b[0mprint\u001b[0m\u001b[0;34m(\u001b[0m\u001b[0;34m\"here%%%%%%%%%%%%%%%%%%%%%%%%%%%%%%%%%%%%%%%%%%%%%%%%%%%%%%%%%%%%%\"\u001b[0m\u001b[0;34m)\u001b[0m\u001b[0;34m\u001b[0m\u001b[0m\n\u001b[1;32m     51\u001b[0m \u001b[0;34m\u001b[0m\u001b[0m\n",
      "\u001b[0;32m/home/king/anaconda2/envs/py3k/lib/python3.5/site-packages/selenium-2.44.0-py3.5.egg/selenium/webdriver/remote/webelement.py\u001b[0m in \u001b[0;36mclick\u001b[0;34m(self)\u001b[0m\n\u001b[1;32m     63\u001b[0m     \u001b[0;32mdef\u001b[0m \u001b[0mclick\u001b[0m\u001b[0;34m(\u001b[0m\u001b[0mself\u001b[0m\u001b[0;34m)\u001b[0m\u001b[0;34m:\u001b[0m\u001b[0;34m\u001b[0m\u001b[0m\n\u001b[1;32m     64\u001b[0m         \u001b[0;34m\"\"\"Clicks the element.\"\"\"\u001b[0m\u001b[0;34m\u001b[0m\u001b[0m\n\u001b[0;32m---> 65\u001b[0;31m         \u001b[0mself\u001b[0m\u001b[0;34m.\u001b[0m\u001b[0m_execute\u001b[0m\u001b[0;34m(\u001b[0m\u001b[0mCommand\u001b[0m\u001b[0;34m.\u001b[0m\u001b[0mCLICK_ELEMENT\u001b[0m\u001b[0;34m)\u001b[0m\u001b[0;34m\u001b[0m\u001b[0m\n\u001b[0m\u001b[1;32m     66\u001b[0m \u001b[0;34m\u001b[0m\u001b[0m\n\u001b[1;32m     67\u001b[0m     \u001b[0;32mdef\u001b[0m \u001b[0msubmit\u001b[0m\u001b[0;34m(\u001b[0m\u001b[0mself\u001b[0m\u001b[0;34m)\u001b[0m\u001b[0;34m:\u001b[0m\u001b[0;34m\u001b[0m\u001b[0m\n",
      "\u001b[0;32m/home/king/anaconda2/envs/py3k/lib/python3.5/site-packages/selenium-2.44.0-py3.5.egg/selenium/webdriver/remote/webelement.py\u001b[0m in \u001b[0;36m_execute\u001b[0;34m(self, command, params)\u001b[0m\n\u001b[1;32m    383\u001b[0m             \u001b[0mparams\u001b[0m \u001b[0;34m=\u001b[0m \u001b[0;34m{\u001b[0m\u001b[0;34m}\u001b[0m\u001b[0;34m\u001b[0m\u001b[0m\n\u001b[1;32m    384\u001b[0m         \u001b[0mparams\u001b[0m\u001b[0;34m[\u001b[0m\u001b[0;34m'id'\u001b[0m\u001b[0;34m]\u001b[0m \u001b[0;34m=\u001b[0m \u001b[0mself\u001b[0m\u001b[0;34m.\u001b[0m\u001b[0m_id\u001b[0m\u001b[0;34m\u001b[0m\u001b[0m\n\u001b[0;32m--> 385\u001b[0;31m         \u001b[0;32mreturn\u001b[0m \u001b[0mself\u001b[0m\u001b[0;34m.\u001b[0m\u001b[0m_parent\u001b[0m\u001b[0;34m.\u001b[0m\u001b[0mexecute\u001b[0m\u001b[0;34m(\u001b[0m\u001b[0mcommand\u001b[0m\u001b[0;34m,\u001b[0m \u001b[0mparams\u001b[0m\u001b[0;34m)\u001b[0m\u001b[0;34m\u001b[0m\u001b[0m\n\u001b[0m\u001b[1;32m    386\u001b[0m \u001b[0;34m\u001b[0m\u001b[0m\n\u001b[1;32m    387\u001b[0m     \u001b[0;32mdef\u001b[0m \u001b[0mfind_element\u001b[0m\u001b[0;34m(\u001b[0m\u001b[0mself\u001b[0m\u001b[0;34m,\u001b[0m \u001b[0mby\u001b[0m\u001b[0;34m=\u001b[0m\u001b[0mBy\u001b[0m\u001b[0;34m.\u001b[0m\u001b[0mID\u001b[0m\u001b[0;34m,\u001b[0m \u001b[0mvalue\u001b[0m\u001b[0;34m=\u001b[0m\u001b[0;32mNone\u001b[0m\u001b[0;34m)\u001b[0m\u001b[0;34m:\u001b[0m\u001b[0;34m\u001b[0m\u001b[0m\n",
      "\u001b[0;32m/home/king/anaconda2/envs/py3k/lib/python3.5/site-packages/selenium-2.44.0-py3.5.egg/selenium/webdriver/remote/webdriver.py\u001b[0m in \u001b[0;36mexecute\u001b[0;34m(self, driver_command, params)\u001b[0m\n\u001b[1;32m    171\u001b[0m         \u001b[0mresponse\u001b[0m \u001b[0;34m=\u001b[0m \u001b[0mself\u001b[0m\u001b[0;34m.\u001b[0m\u001b[0mcommand_executor\u001b[0m\u001b[0;34m.\u001b[0m\u001b[0mexecute\u001b[0m\u001b[0;34m(\u001b[0m\u001b[0mdriver_command\u001b[0m\u001b[0;34m,\u001b[0m \u001b[0mparams\u001b[0m\u001b[0;34m)\u001b[0m\u001b[0;34m\u001b[0m\u001b[0m\n\u001b[1;32m    172\u001b[0m         \u001b[0;32mif\u001b[0m \u001b[0mresponse\u001b[0m\u001b[0;34m:\u001b[0m\u001b[0;34m\u001b[0m\u001b[0m\n\u001b[0;32m--> 173\u001b[0;31m             \u001b[0mself\u001b[0m\u001b[0;34m.\u001b[0m\u001b[0merror_handler\u001b[0m\u001b[0;34m.\u001b[0m\u001b[0mcheck_response\u001b[0m\u001b[0;34m(\u001b[0m\u001b[0mresponse\u001b[0m\u001b[0;34m)\u001b[0m\u001b[0;34m\u001b[0m\u001b[0m\n\u001b[0m\u001b[1;32m    174\u001b[0m             response['value'] = self._unwrap_value(\n\u001b[1;32m    175\u001b[0m                 response.get('value', None))\n",
      "\u001b[0;32m/home/king/anaconda2/envs/py3k/lib/python3.5/site-packages/selenium-2.44.0-py3.5.egg/selenium/webdriver/remote/errorhandler.py\u001b[0m in \u001b[0;36mcheck_response\u001b[0;34m(self, response)\u001b[0m\n\u001b[1;32m    164\u001b[0m         \u001b[0;32melif\u001b[0m \u001b[0mexception_class\u001b[0m \u001b[0;34m==\u001b[0m \u001b[0mUnexpectedAlertPresentException\u001b[0m \u001b[0;32mand\u001b[0m \u001b[0;34m'alert'\u001b[0m \u001b[0;32min\u001b[0m \u001b[0mvalue\u001b[0m\u001b[0;34m:\u001b[0m\u001b[0;34m\u001b[0m\u001b[0m\n\u001b[1;32m    165\u001b[0m             \u001b[0;32mraise\u001b[0m \u001b[0mexception_class\u001b[0m\u001b[0;34m(\u001b[0m\u001b[0mmessage\u001b[0m\u001b[0;34m,\u001b[0m \u001b[0mscreen\u001b[0m\u001b[0;34m,\u001b[0m \u001b[0mstacktrace\u001b[0m\u001b[0;34m,\u001b[0m \u001b[0mvalue\u001b[0m\u001b[0;34m[\u001b[0m\u001b[0;34m'alert'\u001b[0m\u001b[0;34m]\u001b[0m\u001b[0;34m.\u001b[0m\u001b[0mget\u001b[0m\u001b[0;34m(\u001b[0m\u001b[0;34m'text'\u001b[0m\u001b[0;34m)\u001b[0m\u001b[0;34m)\u001b[0m\u001b[0;34m\u001b[0m\u001b[0m\n\u001b[0;32m--> 166\u001b[0;31m         \u001b[0;32mraise\u001b[0m \u001b[0mexception_class\u001b[0m\u001b[0;34m(\u001b[0m\u001b[0mmessage\u001b[0m\u001b[0;34m,\u001b[0m \u001b[0mscreen\u001b[0m\u001b[0;34m,\u001b[0m \u001b[0mstacktrace\u001b[0m\u001b[0;34m)\u001b[0m\u001b[0;34m\u001b[0m\u001b[0m\n\u001b[0m\u001b[1;32m    167\u001b[0m \u001b[0;34m\u001b[0m\u001b[0m\n\u001b[1;32m    168\u001b[0m     \u001b[0;32mdef\u001b[0m \u001b[0m_value_or_default\u001b[0m\u001b[0;34m(\u001b[0m\u001b[0mself\u001b[0m\u001b[0;34m,\u001b[0m \u001b[0mobj\u001b[0m\u001b[0;34m,\u001b[0m \u001b[0mkey\u001b[0m\u001b[0;34m,\u001b[0m \u001b[0mdefault\u001b[0m\u001b[0;34m)\u001b[0m\u001b[0;34m:\u001b[0m\u001b[0;34m\u001b[0m\u001b[0m\n",
      "\u001b[0;31mElementNotVisibleException\u001b[0m: Message: Element is not currently visible and so may not be interacted with\nStacktrace:\n    at fxdriver.preconditions.visible (file:///tmp/tmpj1_0rh_4/extensions/fxdriver@googlecode.com/components/command-processor.js:8959:12)\n    at DelayedCommand.prototype.checkPreconditions_ (file:///tmp/tmpj1_0rh_4/extensions/fxdriver@googlecode.com/components/command-processor.js:11618:15)\n    at DelayedCommand.prototype.executeInternal_/h (file:///tmp/tmpj1_0rh_4/extensions/fxdriver@googlecode.com/components/command-processor.js:11635:11)\n    at DelayedCommand.prototype.executeInternal_ (file:///tmp/tmpj1_0rh_4/extensions/fxdriver@googlecode.com/components/command-processor.js:11640:7)\n    at DelayedCommand.prototype.execute/< (file:///tmp/tmpj1_0rh_4/extensions/fxdriver@googlecode.com/components/command-processor.js:11582:5)"
     ]
    }
   ],
   "source": [
    "#!/usr/bin/env bash\n",
    "#open the list of item\n",
    "driverMain = setUp(\"https://list.jd.com/list.html?cat=652,654,831&page=2&trans=1&JL=6_0_0#J_main\")\n",
    "i = 0\n",
    "#find all item's name\n",
    "testName = driverMain.find_elements_by_xpath('//ul[@class=\"gl-warp clearfix \"]/li/div')\n",
    "for nameWeb in testName:\n",
    "    nameNum = nameWeb.get_attribute('data-sku') \n",
    "    print(nameNum)\n",
    "    #jump to each item page\n",
    "    if nameNum == None:\n",
    "        continue\n",
    "    elemName = \"http://item.jd.com/bigimage.aspx?id=\"+str(nameNum)\n",
    "    \n",
    "    driver = setUp(elemName)\n",
    "    i = 0\n",
    "\n",
    "    #find the condition of end of the loop\n",
    "    testEnd = driver.find_element_by_xpath('//div[@id=\"biger\"]/a[2]')\n",
    "    loopEnd = testEnd.get_attribute('class') \n",
    "    name    = testEnd.get_attribute('alt') \n",
    "    downloadBigImage.counter =0\n",
    "    #find the image name\n",
    "    img = driver.find_element_by_xpath('//div[@id=\"biger\"]/img')\n",
    "    name    = img.get_attribute('alt') \n",
    "    name = name.replace('/', '_')  \n",
    "\n",
    "    while loopEnd != \"control next next-disabled\":#\n",
    "        if True == downloadBigImage(driver,\"___\"+str(nameNum)+\"___\"+str(i)+\".jpeg\",str(nameNum)):\n",
    "            break\n",
    "        print(\"here##########################################################\")\n",
    "        i=i+1\n",
    "        testEnd = driver.find_element_by_xpath('//div[@id=\"biger\"]/a[2]')\n",
    "        loopEnd = testEnd.get_attribute('class') \n",
    "    #downloadBigImage.counter =0\n",
    "    print(\"Stop Process!!!\")\n",
    "    driver.close()\n",
    "    \n",
    "    \n",
    "    \n",
    "    \n",
    "    \n",
    "    ################################################################################################\n",
    "    ID_0=nameNum #done\n",
    "    chinese_name_1=name #done\n",
    "    price_2=0 #done\n",
    "    saler_3='None'#done\n",
    "    support_num_4=0#done\n",
    "    good_percent_5=0#JS\n",
    "    with_pic_6=0#JS\n",
    "    add_supoort_7=0#JS\n",
    "    good_support_8=0#JS\n",
    "    mid_support_9=0#JS\n",
    "    bad_support_10=0#JS\n",
    "    web_site_11='None'#done\n",
    "    father_12=0#after donwload\n",
    "    children_13=0#after donwload\n",
    "    image_0_savepath_14='None'#done\n",
    "    image_0_havefeature_15=0#after donwload\n",
    "    image_1_savepath_16='None'#done\n",
    "    image_1_havefeature_17=0#after donwload\n",
    "    image_2_savepath_18='None'#done\n",
    "    image_2_havefeature_19=0#after donwload\n",
    "    image_3_savepath_20='None'#done\n",
    "    image_3_havefeature_21=0#after donwload\n",
    "    image_4_savepath_22='None'#done\n",
    "    image_4_havefeature_23=0#after donwload\n",
    "    image_5_savepath_24='None'#done\n",
    "    image_5_havefeature_25=0#after donwload\n",
    "    \n",
    "    show_imagepath_26='None'#done\n",
    "    ################################################################################################\n",
    "    \n",
    "    \n",
    "    \n",
    "    \n",
    "    \n",
    "    \n",
    "    \n",
    "    \n",
    "    \n",
    "    \n",
    "    \n",
    "    \n",
    "    \n",
    "    \n",
    "    \n",
    "    \n",
    "    \n",
    "    \n",
    "    \n",
    "    \n",
    "    \n",
    "    \n",
    "    \n",
    "    \n",
    "    \n",
    "    \n",
    "    \n",
    "    \n",
    "    \n",
    "    \n",
    "driverMain.close()\n"
   ]
  },
  {
   "cell_type": "code",
   "execution_count": 3,
   "metadata": {
    "collapsed": false
   },
   "outputs": [
    {
     "ename": "KeyboardInterrupt",
     "evalue": "",
     "output_type": "error",
     "traceback": [
      "\u001b[0;31m---------------------------------------------------------------------------\u001b[0m",
      "\u001b[0;31mKeyboardInterrupt\u001b[0m                         Traceback (most recent call last)",
      "\u001b[0;32m<ipython-input-3-1b27875bb102>\u001b[0m in \u001b[0;36m<module>\u001b[0;34m()\u001b[0m\n\u001b[1;32m      2\u001b[0m \u001b[0;31m#open the list of item\u001b[0m\u001b[0;34m\u001b[0m\u001b[0;34m\u001b[0m\u001b[0m\n\u001b[1;32m      3\u001b[0m \u001b[0mfirstPageName\u001b[0m \u001b[0;34m=\u001b[0m \u001b[0;34m\"https://list.jd.com/list.html?cat=652,654,831\"\u001b[0m\u001b[0;34m\u001b[0m\u001b[0m\n\u001b[0;32m----> 4\u001b[0;31m \u001b[0mdriverfirstPage\u001b[0m \u001b[0;34m=\u001b[0m \u001b[0msetUp\u001b[0m\u001b[0;34m(\u001b[0m\u001b[0mfirstPageName\u001b[0m\u001b[0;34m)\u001b[0m\u001b[0;34m\u001b[0m\u001b[0m\n\u001b[0m\u001b[1;32m      5\u001b[0m \u001b[0mnumber\u001b[0m \u001b[0;34m=\u001b[0m \u001b[0mdriverfirstPage\u001b[0m\u001b[0;34m.\u001b[0m\u001b[0mfind_elements_by_xpath\u001b[0m\u001b[0;34m(\u001b[0m\u001b[0;34m'//span[@class=\"fp-text\"]/i'\u001b[0m\u001b[0;34m)\u001b[0m\u001b[0;34m[\u001b[0m\u001b[0;36m0\u001b[0m\u001b[0;34m]\u001b[0m\u001b[0;34m.\u001b[0m\u001b[0mtext\u001b[0m\u001b[0;34m\u001b[0m\u001b[0m\n\u001b[1;32m      6\u001b[0m \u001b[0;34m\u001b[0m\u001b[0m\n",
      "\u001b[0;32m<ipython-input-2-ec3d69ac7c15>\u001b[0m in \u001b[0;36msetUp\u001b[0;34m(url)\u001b[0m\n\u001b[1;32m      5\u001b[0m     \u001b[0;31m#driver = webdriver.Chrome(\"/home/king/Downloads/chromedriver\")\u001b[0m\u001b[0;34m\u001b[0m\u001b[0;34m\u001b[0m\u001b[0m\n\u001b[1;32m      6\u001b[0m     \u001b[0mdriver\u001b[0m \u001b[0;34m=\u001b[0m \u001b[0mwebdriver\u001b[0m\u001b[0;34m.\u001b[0m\u001b[0mFirefox\u001b[0m\u001b[0;34m(\u001b[0m\u001b[0;34m)\u001b[0m\u001b[0;34m\u001b[0m\u001b[0m\n\u001b[0;32m----> 7\u001b[0;31m     \u001b[0mdriver\u001b[0m\u001b[0;34m.\u001b[0m\u001b[0mget\u001b[0m\u001b[0;34m(\u001b[0m\u001b[0murl\u001b[0m\u001b[0;34m)\u001b[0m\u001b[0;34m\u001b[0m\u001b[0m\n\u001b[0m\u001b[1;32m      8\u001b[0m     \u001b[0mdriver\u001b[0m\u001b[0;34m.\u001b[0m\u001b[0mmaximize_window\u001b[0m\u001b[0;34m(\u001b[0m\u001b[0;34m)\u001b[0m\u001b[0;34m\u001b[0m\u001b[0m\n\u001b[1;32m      9\u001b[0m     \u001b[0;32mreturn\u001b[0m \u001b[0mdriver\u001b[0m\u001b[0;34m\u001b[0m\u001b[0m\n",
      "\u001b[0;32m/home/king/anaconda2/envs/py3k/lib/python3.5/site-packages/selenium-2.44.0-py3.5.egg/selenium/webdriver/remote/webdriver.py\u001b[0m in \u001b[0;36mget\u001b[0;34m(self, url)\u001b[0m\n\u001b[1;32m    183\u001b[0m         \u001b[0mLoads\u001b[0m \u001b[0ma\u001b[0m \u001b[0mweb\u001b[0m \u001b[0mpage\u001b[0m \u001b[0;32min\u001b[0m \u001b[0mthe\u001b[0m \u001b[0mcurrent\u001b[0m \u001b[0mbrowser\u001b[0m \u001b[0msession\u001b[0m\u001b[0;34m.\u001b[0m\u001b[0;34m\u001b[0m\u001b[0m\n\u001b[1;32m    184\u001b[0m         \"\"\"\n\u001b[0;32m--> 185\u001b[0;31m         \u001b[0mself\u001b[0m\u001b[0;34m.\u001b[0m\u001b[0mexecute\u001b[0m\u001b[0;34m(\u001b[0m\u001b[0mCommand\u001b[0m\u001b[0;34m.\u001b[0m\u001b[0mGET\u001b[0m\u001b[0;34m,\u001b[0m \u001b[0;34m{\u001b[0m\u001b[0;34m'url'\u001b[0m\u001b[0;34m:\u001b[0m \u001b[0murl\u001b[0m\u001b[0;34m}\u001b[0m\u001b[0;34m)\u001b[0m\u001b[0;34m\u001b[0m\u001b[0m\n\u001b[0m\u001b[1;32m    186\u001b[0m \u001b[0;34m\u001b[0m\u001b[0m\n\u001b[1;32m    187\u001b[0m     \u001b[0;34m@\u001b[0m\u001b[0mproperty\u001b[0m\u001b[0;34m\u001b[0m\u001b[0m\n",
      "\u001b[0;32m/home/king/anaconda2/envs/py3k/lib/python3.5/site-packages/selenium-2.44.0-py3.5.egg/selenium/webdriver/remote/webdriver.py\u001b[0m in \u001b[0;36mexecute\u001b[0;34m(self, driver_command, params)\u001b[0m\n\u001b[1;32m    169\u001b[0m \u001b[0;34m\u001b[0m\u001b[0m\n\u001b[1;32m    170\u001b[0m         \u001b[0mparams\u001b[0m \u001b[0;34m=\u001b[0m \u001b[0mself\u001b[0m\u001b[0;34m.\u001b[0m\u001b[0m_wrap_value\u001b[0m\u001b[0;34m(\u001b[0m\u001b[0mparams\u001b[0m\u001b[0;34m)\u001b[0m\u001b[0;34m\u001b[0m\u001b[0m\n\u001b[0;32m--> 171\u001b[0;31m         \u001b[0mresponse\u001b[0m \u001b[0;34m=\u001b[0m \u001b[0mself\u001b[0m\u001b[0;34m.\u001b[0m\u001b[0mcommand_executor\u001b[0m\u001b[0;34m.\u001b[0m\u001b[0mexecute\u001b[0m\u001b[0;34m(\u001b[0m\u001b[0mdriver_command\u001b[0m\u001b[0;34m,\u001b[0m \u001b[0mparams\u001b[0m\u001b[0;34m)\u001b[0m\u001b[0;34m\u001b[0m\u001b[0m\n\u001b[0m\u001b[1;32m    172\u001b[0m         \u001b[0;32mif\u001b[0m \u001b[0mresponse\u001b[0m\u001b[0;34m:\u001b[0m\u001b[0;34m\u001b[0m\u001b[0m\n\u001b[1;32m    173\u001b[0m             \u001b[0mself\u001b[0m\u001b[0;34m.\u001b[0m\u001b[0merror_handler\u001b[0m\u001b[0;34m.\u001b[0m\u001b[0mcheck_response\u001b[0m\u001b[0;34m(\u001b[0m\u001b[0mresponse\u001b[0m\u001b[0;34m)\u001b[0m\u001b[0;34m\u001b[0m\u001b[0m\n",
      "\u001b[0;32m/home/king/anaconda2/envs/py3k/lib/python3.5/site-packages/selenium-2.44.0-py3.5.egg/selenium/webdriver/remote/remote_connection.py\u001b[0m in \u001b[0;36mexecute\u001b[0;34m(self, command, params)\u001b[0m\n\u001b[1;32m    347\u001b[0m         \u001b[0mpath\u001b[0m \u001b[0;34m=\u001b[0m \u001b[0mstring\u001b[0m\u001b[0;34m.\u001b[0m\u001b[0mTemplate\u001b[0m\u001b[0;34m(\u001b[0m\u001b[0mcommand_info\u001b[0m\u001b[0;34m[\u001b[0m\u001b[0;36m1\u001b[0m\u001b[0;34m]\u001b[0m\u001b[0;34m)\u001b[0m\u001b[0;34m.\u001b[0m\u001b[0msubstitute\u001b[0m\u001b[0;34m(\u001b[0m\u001b[0mparams\u001b[0m\u001b[0;34m)\u001b[0m\u001b[0;34m\u001b[0m\u001b[0m\n\u001b[1;32m    348\u001b[0m         \u001b[0murl\u001b[0m \u001b[0;34m=\u001b[0m \u001b[0;34m'%s%s'\u001b[0m \u001b[0;34m%\u001b[0m \u001b[0;34m(\u001b[0m\u001b[0mself\u001b[0m\u001b[0;34m.\u001b[0m\u001b[0m_url\u001b[0m\u001b[0;34m,\u001b[0m \u001b[0mpath\u001b[0m\u001b[0;34m)\u001b[0m\u001b[0;34m\u001b[0m\u001b[0m\n\u001b[0;32m--> 349\u001b[0;31m         \u001b[0;32mreturn\u001b[0m \u001b[0mself\u001b[0m\u001b[0;34m.\u001b[0m\u001b[0m_request\u001b[0m\u001b[0;34m(\u001b[0m\u001b[0mcommand_info\u001b[0m\u001b[0;34m[\u001b[0m\u001b[0;36m0\u001b[0m\u001b[0;34m]\u001b[0m\u001b[0;34m,\u001b[0m \u001b[0murl\u001b[0m\u001b[0;34m,\u001b[0m \u001b[0mbody\u001b[0m\u001b[0;34m=\u001b[0m\u001b[0mdata\u001b[0m\u001b[0;34m)\u001b[0m\u001b[0;34m\u001b[0m\u001b[0m\n\u001b[0m\u001b[1;32m    350\u001b[0m \u001b[0;34m\u001b[0m\u001b[0m\n\u001b[1;32m    351\u001b[0m     \u001b[0;32mdef\u001b[0m \u001b[0m_request\u001b[0m\u001b[0;34m(\u001b[0m\u001b[0mself\u001b[0m\u001b[0;34m,\u001b[0m \u001b[0mmethod\u001b[0m\u001b[0;34m,\u001b[0m \u001b[0murl\u001b[0m\u001b[0;34m,\u001b[0m \u001b[0mbody\u001b[0m\u001b[0;34m=\u001b[0m\u001b[0;32mNone\u001b[0m\u001b[0;34m)\u001b[0m\u001b[0;34m:\u001b[0m\u001b[0;34m\u001b[0m\u001b[0m\n",
      "\u001b[0;32m/home/king/anaconda2/envs/py3k/lib/python3.5/site-packages/selenium-2.44.0-py3.5.egg/selenium/webdriver/remote/remote_connection.py\u001b[0m in \u001b[0;36m_request\u001b[0;34m(self, method, url, body)\u001b[0m\n\u001b[1;32m    378\u001b[0m             \u001b[0;32mtry\u001b[0m\u001b[0;34m:\u001b[0m\u001b[0;34m\u001b[0m\u001b[0m\n\u001b[1;32m    379\u001b[0m                 \u001b[0mself\u001b[0m\u001b[0;34m.\u001b[0m\u001b[0m_conn\u001b[0m\u001b[0;34m.\u001b[0m\u001b[0mrequest\u001b[0m\u001b[0;34m(\u001b[0m\u001b[0mmethod\u001b[0m\u001b[0;34m,\u001b[0m \u001b[0mparsed_url\u001b[0m\u001b[0;34m.\u001b[0m\u001b[0mpath\u001b[0m\u001b[0;34m,\u001b[0m \u001b[0mbody\u001b[0m\u001b[0;34m,\u001b[0m \u001b[0mheaders\u001b[0m\u001b[0;34m)\u001b[0m\u001b[0;34m\u001b[0m\u001b[0m\n\u001b[0;32m--> 380\u001b[0;31m                 \u001b[0mresp\u001b[0m \u001b[0;34m=\u001b[0m \u001b[0mself\u001b[0m\u001b[0;34m.\u001b[0m\u001b[0m_conn\u001b[0m\u001b[0;34m.\u001b[0m\u001b[0mgetresponse\u001b[0m\u001b[0;34m(\u001b[0m\u001b[0;34m)\u001b[0m\u001b[0;34m\u001b[0m\u001b[0m\n\u001b[0m\u001b[1;32m    381\u001b[0m             \u001b[0;32mexcept\u001b[0m \u001b[0mhttplib\u001b[0m\u001b[0;34m.\u001b[0m\u001b[0mHTTPException\u001b[0m\u001b[0;34m:\u001b[0m\u001b[0;34m\u001b[0m\u001b[0m\n\u001b[1;32m    382\u001b[0m                 \u001b[0mself\u001b[0m\u001b[0;34m.\u001b[0m\u001b[0m_conn\u001b[0m\u001b[0;34m.\u001b[0m\u001b[0mclose\u001b[0m\u001b[0;34m(\u001b[0m\u001b[0;34m)\u001b[0m\u001b[0;34m\u001b[0m\u001b[0m\n",
      "\u001b[0;32m/home/king/anaconda2/envs/py3k/lib/python3.5/http/client.py\u001b[0m in \u001b[0;36mgetresponse\u001b[0;34m(self)\u001b[0m\n\u001b[1;32m   1195\u001b[0m         \u001b[0;32mtry\u001b[0m\u001b[0;34m:\u001b[0m\u001b[0;34m\u001b[0m\u001b[0m\n\u001b[1;32m   1196\u001b[0m             \u001b[0;32mtry\u001b[0m\u001b[0;34m:\u001b[0m\u001b[0;34m\u001b[0m\u001b[0m\n\u001b[0;32m-> 1197\u001b[0;31m                 \u001b[0mresponse\u001b[0m\u001b[0;34m.\u001b[0m\u001b[0mbegin\u001b[0m\u001b[0;34m(\u001b[0m\u001b[0;34m)\u001b[0m\u001b[0;34m\u001b[0m\u001b[0m\n\u001b[0m\u001b[1;32m   1198\u001b[0m             \u001b[0;32mexcept\u001b[0m \u001b[0mConnectionError\u001b[0m\u001b[0;34m:\u001b[0m\u001b[0;34m\u001b[0m\u001b[0m\n\u001b[1;32m   1199\u001b[0m                 \u001b[0mself\u001b[0m\u001b[0;34m.\u001b[0m\u001b[0mclose\u001b[0m\u001b[0;34m(\u001b[0m\u001b[0;34m)\u001b[0m\u001b[0;34m\u001b[0m\u001b[0m\n",
      "\u001b[0;32m/home/king/anaconda2/envs/py3k/lib/python3.5/http/client.py\u001b[0m in \u001b[0;36mbegin\u001b[0;34m(self)\u001b[0m\n\u001b[1;32m    295\u001b[0m         \u001b[0;31m# read until we get a non-100 response\u001b[0m\u001b[0;34m\u001b[0m\u001b[0;34m\u001b[0m\u001b[0m\n\u001b[1;32m    296\u001b[0m         \u001b[0;32mwhile\u001b[0m \u001b[0;32mTrue\u001b[0m\u001b[0;34m:\u001b[0m\u001b[0;34m\u001b[0m\u001b[0m\n\u001b[0;32m--> 297\u001b[0;31m             \u001b[0mversion\u001b[0m\u001b[0;34m,\u001b[0m \u001b[0mstatus\u001b[0m\u001b[0;34m,\u001b[0m \u001b[0mreason\u001b[0m \u001b[0;34m=\u001b[0m \u001b[0mself\u001b[0m\u001b[0;34m.\u001b[0m\u001b[0m_read_status\u001b[0m\u001b[0;34m(\u001b[0m\u001b[0;34m)\u001b[0m\u001b[0;34m\u001b[0m\u001b[0m\n\u001b[0m\u001b[1;32m    298\u001b[0m             \u001b[0;32mif\u001b[0m \u001b[0mstatus\u001b[0m \u001b[0;34m!=\u001b[0m \u001b[0mCONTINUE\u001b[0m\u001b[0;34m:\u001b[0m\u001b[0;34m\u001b[0m\u001b[0m\n\u001b[1;32m    299\u001b[0m                 \u001b[0;32mbreak\u001b[0m\u001b[0;34m\u001b[0m\u001b[0m\n",
      "\u001b[0;32m/home/king/anaconda2/envs/py3k/lib/python3.5/http/client.py\u001b[0m in \u001b[0;36m_read_status\u001b[0;34m(self)\u001b[0m\n\u001b[1;32m    256\u001b[0m \u001b[0;34m\u001b[0m\u001b[0m\n\u001b[1;32m    257\u001b[0m     \u001b[0;32mdef\u001b[0m \u001b[0m_read_status\u001b[0m\u001b[0;34m(\u001b[0m\u001b[0mself\u001b[0m\u001b[0;34m)\u001b[0m\u001b[0;34m:\u001b[0m\u001b[0;34m\u001b[0m\u001b[0m\n\u001b[0;32m--> 258\u001b[0;31m         \u001b[0mline\u001b[0m \u001b[0;34m=\u001b[0m \u001b[0mstr\u001b[0m\u001b[0;34m(\u001b[0m\u001b[0mself\u001b[0m\u001b[0;34m.\u001b[0m\u001b[0mfp\u001b[0m\u001b[0;34m.\u001b[0m\u001b[0mreadline\u001b[0m\u001b[0;34m(\u001b[0m\u001b[0m_MAXLINE\u001b[0m \u001b[0;34m+\u001b[0m \u001b[0;36m1\u001b[0m\u001b[0;34m)\u001b[0m\u001b[0;34m,\u001b[0m \u001b[0;34m\"iso-8859-1\"\u001b[0m\u001b[0;34m)\u001b[0m\u001b[0;34m\u001b[0m\u001b[0m\n\u001b[0m\u001b[1;32m    259\u001b[0m         \u001b[0;32mif\u001b[0m \u001b[0mlen\u001b[0m\u001b[0;34m(\u001b[0m\u001b[0mline\u001b[0m\u001b[0;34m)\u001b[0m \u001b[0;34m>\u001b[0m \u001b[0m_MAXLINE\u001b[0m\u001b[0;34m:\u001b[0m\u001b[0;34m\u001b[0m\u001b[0m\n\u001b[1;32m    260\u001b[0m             \u001b[0;32mraise\u001b[0m \u001b[0mLineTooLong\u001b[0m\u001b[0;34m(\u001b[0m\u001b[0;34m\"status line\"\u001b[0m\u001b[0;34m)\u001b[0m\u001b[0;34m\u001b[0m\u001b[0m\n",
      "\u001b[0;32m/home/king/anaconda2/envs/py3k/lib/python3.5/socket.py\u001b[0m in \u001b[0;36mreadinto\u001b[0;34m(self, b)\u001b[0m\n\u001b[1;32m    573\u001b[0m         \u001b[0;32mwhile\u001b[0m \u001b[0;32mTrue\u001b[0m\u001b[0;34m:\u001b[0m\u001b[0;34m\u001b[0m\u001b[0m\n\u001b[1;32m    574\u001b[0m             \u001b[0;32mtry\u001b[0m\u001b[0;34m:\u001b[0m\u001b[0;34m\u001b[0m\u001b[0m\n\u001b[0;32m--> 575\u001b[0;31m                 \u001b[0;32mreturn\u001b[0m \u001b[0mself\u001b[0m\u001b[0;34m.\u001b[0m\u001b[0m_sock\u001b[0m\u001b[0;34m.\u001b[0m\u001b[0mrecv_into\u001b[0m\u001b[0;34m(\u001b[0m\u001b[0mb\u001b[0m\u001b[0;34m)\u001b[0m\u001b[0;34m\u001b[0m\u001b[0m\n\u001b[0m\u001b[1;32m    576\u001b[0m             \u001b[0;32mexcept\u001b[0m \u001b[0mtimeout\u001b[0m\u001b[0;34m:\u001b[0m\u001b[0;34m\u001b[0m\u001b[0m\n\u001b[1;32m    577\u001b[0m                 \u001b[0mself\u001b[0m\u001b[0;34m.\u001b[0m\u001b[0m_timeout_occurred\u001b[0m \u001b[0;34m=\u001b[0m \u001b[0;32mTrue\u001b[0m\u001b[0;34m\u001b[0m\u001b[0m\n",
      "\u001b[0;31mKeyboardInterrupt\u001b[0m: "
     ]
    }
   ],
   "source": [
    "#!/usr/bin/env bash\n",
    "#open the list of item\n",
    "firstPageName = \"https://list.jd.com/list.html?cat=652,654,831\"\n",
    "driverfirstPage = setUp(firstPageName)\n",
    "number = driverfirstPage.find_elements_by_xpath('//span[@class=\"fp-text\"]/i')[0].text\n",
    "\n",
    "for pageID in range(int(number)):\n",
    "    onePageName = firstPageName + \"&page=\"+str(pageID)+\"&trans=1&JL=6_0_0#J_main\"\n",
    "    driverMain = setUp(onePageName)\n",
    "    \n",
    "    \n",
    "    i = 0\n",
    "    #find all item's name\n",
    "    testName = driverMain.find_elements_by_xpath('//ul[@class=\"gl-warp clearfix \"]/li/div')\n",
    "    for nameWeb in testName:\n",
    "        nameNum = nameWeb.get_attribute('data-sku') \n",
    "        print(nameNum)\n",
    "        #jump to each item page\n",
    "        if nameNum == None:\n",
    "            continue\n",
    "        elemName = \"http://item.jd.com/bigimage.aspx?id=\"+str(nameNum)\n",
    "\n",
    "        driver = setUp(elemName)\n",
    "        i = 0\n",
    "\n",
    "        #find the condition of end of the loop\n",
    "        testEnd = driver.find_element_by_xpath('//div[@id=\"biger\"]/a[2]')\n",
    "        loopEnd = testEnd.get_attribute('class') \n",
    "        name    = testEnd.get_attribute('alt') \n",
    "        downloadBigImage.counter =0\n",
    "        #find the image name\n",
    "        img = driver.find_element_by_xpath('//div[@id=\"biger\"]/img')\n",
    "        name    = img.get_attribute('alt') \n",
    "        name = name.replace('/', '_')  \n",
    "\n",
    "        while loopEnd != \"control next next-disabled\":\n",
    "            if True == downloadBigImage(driver,name+\"___\"+str(nameNum)+\"___\"+str(i)+\".jpeg\",name):\n",
    "                break\n",
    "            print(\"here##########################################################\")\n",
    "            i=i+1\n",
    "            testEnd = driver.find_element_by_xpath('//div[@id=\"biger\"]/a[2]')\n",
    "            loopEnd = testEnd.get_attribute('class') \n",
    "        #downloadBigImage.counter =0\n",
    "        print(\"Stop Process!!!\")\n",
    "        driver.close()\n",
    "\n",
    "    driverMain.close()\n",
    "    \n",
    "driverfirstPage.close()"
   ]
  },
  {
   "cell_type": "code",
   "execution_count": 13,
   "metadata": {
    "collapsed": false
   },
   "outputs": [
    {
     "name": "stdout",
     "output_type": "stream",
     "text": [
      "46\n"
     ]
    }
   ],
   "source": [
    "onePageName = \"https://list.jd.com/list.html?cat=652,654,831&page=47&trans=1&JL=6_0_0#J_main\"\n",
    "driverMain = setUp(onePageName)\n",
    "number = driverMain.find_elements_by_xpath('//span[@class=\"fp-text\"]/i')[0].text\n",
    "print(number)"
   ]
  },
  {
   "cell_type": "code",
   "execution_count": 12,
   "metadata": {
    "collapsed": false
   },
   "outputs": [
    {
     "name": "stdout",
     "output_type": "stream",
     "text": [
      "https://list.jd.com/list.html?cat=652,654,831&page=47&trans=1&JL=6_0_0#J_main\n",
      "https://list.jd.com/list.html?cat=652,654,831&page=46&trans=1&JL=6_0_0#J_main\n",
      "https://list.jd.com/list.html?cat=652,654,831&page=45&trans=1&JL=6_0_0#J_main\n"
     ]
    },
    {
     "ename": "RemoteDisconnected",
     "evalue": "Remote end closed connection without response",
     "output_type": "error",
     "traceback": [
      "\u001b[0;31m---------------------------------------------------------------------------\u001b[0m",
      "\u001b[0;31mRemoteDisconnected\u001b[0m                        Traceback (most recent call last)",
      "\u001b[0;32m<ipython-input-12-958e86fc7452>\u001b[0m in \u001b[0;36m<module>\u001b[0;34m()\u001b[0m\n\u001b[1;32m     48\u001b[0m     '''\n\u001b[1;32m     49\u001b[0m     \u001b[0mtime\u001b[0m\u001b[0;34m.\u001b[0m\u001b[0msleep\u001b[0m\u001b[0;34m(\u001b[0m\u001b[0;36m5\u001b[0m\u001b[0;34m)\u001b[0m\u001b[0;34m\u001b[0m\u001b[0m\n\u001b[0;32m---> 50\u001b[0;31m     \u001b[0mdriverMain\u001b[0m\u001b[0;34m.\u001b[0m\u001b[0mclose\u001b[0m\u001b[0;34m(\u001b[0m\u001b[0;34m)\u001b[0m\u001b[0;34m\u001b[0m\u001b[0m\n\u001b[0m\u001b[1;32m     51\u001b[0m     \u001b[0;32mif\u001b[0m \u001b[0mpageID\u001b[0m \u001b[0;34m==\u001b[0m \u001b[0;36m0\u001b[0m\u001b[0;34m:\u001b[0m\u001b[0;34m\u001b[0m\u001b[0m\n\u001b[1;32m     52\u001b[0m         \u001b[0mdriverfirstPage\u001b[0m\u001b[0;34m.\u001b[0m\u001b[0mclose\u001b[0m\u001b[0;34m(\u001b[0m\u001b[0;34m)\u001b[0m\u001b[0;34m\u001b[0m\u001b[0m\n",
      "\u001b[0;32m/home/king/anaconda2/envs/py3k/lib/python3.5/site-packages/selenium-2.44.0-py3.5.egg/selenium/webdriver/remote/webdriver.py\u001b[0m in \u001b[0;36mclose\u001b[0;34m(self)\u001b[0m\n\u001b[1;32m    443\u001b[0m             \u001b[0mdriver\u001b[0m\u001b[0;34m.\u001b[0m\u001b[0mclose\u001b[0m\u001b[0;34m(\u001b[0m\u001b[0;34m)\u001b[0m\u001b[0;34m\u001b[0m\u001b[0m\n\u001b[1;32m    444\u001b[0m         \"\"\"\n\u001b[0;32m--> 445\u001b[0;31m         \u001b[0mself\u001b[0m\u001b[0;34m.\u001b[0m\u001b[0mexecute\u001b[0m\u001b[0;34m(\u001b[0m\u001b[0mCommand\u001b[0m\u001b[0;34m.\u001b[0m\u001b[0mCLOSE\u001b[0m\u001b[0;34m)\u001b[0m\u001b[0;34m\u001b[0m\u001b[0m\n\u001b[0m\u001b[1;32m    446\u001b[0m \u001b[0;34m\u001b[0m\u001b[0m\n\u001b[1;32m    447\u001b[0m     \u001b[0;32mdef\u001b[0m \u001b[0mquit\u001b[0m\u001b[0;34m(\u001b[0m\u001b[0mself\u001b[0m\u001b[0;34m)\u001b[0m\u001b[0;34m:\u001b[0m\u001b[0;34m\u001b[0m\u001b[0m\n",
      "\u001b[0;32m/home/king/anaconda2/envs/py3k/lib/python3.5/site-packages/selenium-2.44.0-py3.5.egg/selenium/webdriver/remote/webdriver.py\u001b[0m in \u001b[0;36mexecute\u001b[0;34m(self, driver_command, params)\u001b[0m\n\u001b[1;32m    169\u001b[0m \u001b[0;34m\u001b[0m\u001b[0m\n\u001b[1;32m    170\u001b[0m         \u001b[0mparams\u001b[0m \u001b[0;34m=\u001b[0m \u001b[0mself\u001b[0m\u001b[0;34m.\u001b[0m\u001b[0m_wrap_value\u001b[0m\u001b[0;34m(\u001b[0m\u001b[0mparams\u001b[0m\u001b[0;34m)\u001b[0m\u001b[0;34m\u001b[0m\u001b[0m\n\u001b[0;32m--> 171\u001b[0;31m         \u001b[0mresponse\u001b[0m \u001b[0;34m=\u001b[0m \u001b[0mself\u001b[0m\u001b[0;34m.\u001b[0m\u001b[0mcommand_executor\u001b[0m\u001b[0;34m.\u001b[0m\u001b[0mexecute\u001b[0m\u001b[0;34m(\u001b[0m\u001b[0mdriver_command\u001b[0m\u001b[0;34m,\u001b[0m \u001b[0mparams\u001b[0m\u001b[0;34m)\u001b[0m\u001b[0;34m\u001b[0m\u001b[0m\n\u001b[0m\u001b[1;32m    172\u001b[0m         \u001b[0;32mif\u001b[0m \u001b[0mresponse\u001b[0m\u001b[0;34m:\u001b[0m\u001b[0;34m\u001b[0m\u001b[0m\n\u001b[1;32m    173\u001b[0m             \u001b[0mself\u001b[0m\u001b[0;34m.\u001b[0m\u001b[0merror_handler\u001b[0m\u001b[0;34m.\u001b[0m\u001b[0mcheck_response\u001b[0m\u001b[0;34m(\u001b[0m\u001b[0mresponse\u001b[0m\u001b[0;34m)\u001b[0m\u001b[0;34m\u001b[0m\u001b[0m\n",
      "\u001b[0;32m/home/king/anaconda2/envs/py3k/lib/python3.5/site-packages/selenium-2.44.0-py3.5.egg/selenium/webdriver/remote/remote_connection.py\u001b[0m in \u001b[0;36mexecute\u001b[0;34m(self, command, params)\u001b[0m\n\u001b[1;32m    347\u001b[0m         \u001b[0mpath\u001b[0m \u001b[0;34m=\u001b[0m \u001b[0mstring\u001b[0m\u001b[0;34m.\u001b[0m\u001b[0mTemplate\u001b[0m\u001b[0;34m(\u001b[0m\u001b[0mcommand_info\u001b[0m\u001b[0;34m[\u001b[0m\u001b[0;36m1\u001b[0m\u001b[0;34m]\u001b[0m\u001b[0;34m)\u001b[0m\u001b[0;34m.\u001b[0m\u001b[0msubstitute\u001b[0m\u001b[0;34m(\u001b[0m\u001b[0mparams\u001b[0m\u001b[0;34m)\u001b[0m\u001b[0;34m\u001b[0m\u001b[0m\n\u001b[1;32m    348\u001b[0m         \u001b[0murl\u001b[0m \u001b[0;34m=\u001b[0m \u001b[0;34m'%s%s'\u001b[0m \u001b[0;34m%\u001b[0m \u001b[0;34m(\u001b[0m\u001b[0mself\u001b[0m\u001b[0;34m.\u001b[0m\u001b[0m_url\u001b[0m\u001b[0;34m,\u001b[0m \u001b[0mpath\u001b[0m\u001b[0;34m)\u001b[0m\u001b[0;34m\u001b[0m\u001b[0m\n\u001b[0;32m--> 349\u001b[0;31m         \u001b[0;32mreturn\u001b[0m \u001b[0mself\u001b[0m\u001b[0;34m.\u001b[0m\u001b[0m_request\u001b[0m\u001b[0;34m(\u001b[0m\u001b[0mcommand_info\u001b[0m\u001b[0;34m[\u001b[0m\u001b[0;36m0\u001b[0m\u001b[0;34m]\u001b[0m\u001b[0;34m,\u001b[0m \u001b[0murl\u001b[0m\u001b[0;34m,\u001b[0m \u001b[0mbody\u001b[0m\u001b[0;34m=\u001b[0m\u001b[0mdata\u001b[0m\u001b[0;34m)\u001b[0m\u001b[0;34m\u001b[0m\u001b[0m\n\u001b[0m\u001b[1;32m    350\u001b[0m \u001b[0;34m\u001b[0m\u001b[0m\n\u001b[1;32m    351\u001b[0m     \u001b[0;32mdef\u001b[0m \u001b[0m_request\u001b[0m\u001b[0;34m(\u001b[0m\u001b[0mself\u001b[0m\u001b[0;34m,\u001b[0m \u001b[0mmethod\u001b[0m\u001b[0;34m,\u001b[0m \u001b[0murl\u001b[0m\u001b[0;34m,\u001b[0m \u001b[0mbody\u001b[0m\u001b[0;34m=\u001b[0m\u001b[0;32mNone\u001b[0m\u001b[0;34m)\u001b[0m\u001b[0;34m:\u001b[0m\u001b[0;34m\u001b[0m\u001b[0m\n",
      "\u001b[0;32m/home/king/anaconda2/envs/py3k/lib/python3.5/site-packages/selenium-2.44.0-py3.5.egg/selenium/webdriver/remote/remote_connection.py\u001b[0m in \u001b[0;36m_request\u001b[0;34m(self, method, url, body)\u001b[0m\n\u001b[1;32m    378\u001b[0m             \u001b[0;32mtry\u001b[0m\u001b[0;34m:\u001b[0m\u001b[0;34m\u001b[0m\u001b[0m\n\u001b[1;32m    379\u001b[0m                 \u001b[0mself\u001b[0m\u001b[0;34m.\u001b[0m\u001b[0m_conn\u001b[0m\u001b[0;34m.\u001b[0m\u001b[0mrequest\u001b[0m\u001b[0;34m(\u001b[0m\u001b[0mmethod\u001b[0m\u001b[0;34m,\u001b[0m \u001b[0mparsed_url\u001b[0m\u001b[0;34m.\u001b[0m\u001b[0mpath\u001b[0m\u001b[0;34m,\u001b[0m \u001b[0mbody\u001b[0m\u001b[0;34m,\u001b[0m \u001b[0mheaders\u001b[0m\u001b[0;34m)\u001b[0m\u001b[0;34m\u001b[0m\u001b[0m\n\u001b[0;32m--> 380\u001b[0;31m                 \u001b[0mresp\u001b[0m \u001b[0;34m=\u001b[0m \u001b[0mself\u001b[0m\u001b[0;34m.\u001b[0m\u001b[0m_conn\u001b[0m\u001b[0;34m.\u001b[0m\u001b[0mgetresponse\u001b[0m\u001b[0;34m(\u001b[0m\u001b[0;34m)\u001b[0m\u001b[0;34m\u001b[0m\u001b[0m\n\u001b[0m\u001b[1;32m    381\u001b[0m             \u001b[0;32mexcept\u001b[0m \u001b[0mhttplib\u001b[0m\u001b[0;34m.\u001b[0m\u001b[0mHTTPException\u001b[0m\u001b[0;34m:\u001b[0m\u001b[0;34m\u001b[0m\u001b[0m\n\u001b[1;32m    382\u001b[0m                 \u001b[0mself\u001b[0m\u001b[0;34m.\u001b[0m\u001b[0m_conn\u001b[0m\u001b[0;34m.\u001b[0m\u001b[0mclose\u001b[0m\u001b[0;34m(\u001b[0m\u001b[0;34m)\u001b[0m\u001b[0;34m\u001b[0m\u001b[0m\n",
      "\u001b[0;32m/home/king/anaconda2/envs/py3k/lib/python3.5/http/client.py\u001b[0m in \u001b[0;36mgetresponse\u001b[0;34m(self)\u001b[0m\n\u001b[1;32m   1195\u001b[0m         \u001b[0;32mtry\u001b[0m\u001b[0;34m:\u001b[0m\u001b[0;34m\u001b[0m\u001b[0m\n\u001b[1;32m   1196\u001b[0m             \u001b[0;32mtry\u001b[0m\u001b[0;34m:\u001b[0m\u001b[0;34m\u001b[0m\u001b[0m\n\u001b[0;32m-> 1197\u001b[0;31m                 \u001b[0mresponse\u001b[0m\u001b[0;34m.\u001b[0m\u001b[0mbegin\u001b[0m\u001b[0;34m(\u001b[0m\u001b[0;34m)\u001b[0m\u001b[0;34m\u001b[0m\u001b[0m\n\u001b[0m\u001b[1;32m   1198\u001b[0m             \u001b[0;32mexcept\u001b[0m \u001b[0mConnectionError\u001b[0m\u001b[0;34m:\u001b[0m\u001b[0;34m\u001b[0m\u001b[0m\n\u001b[1;32m   1199\u001b[0m                 \u001b[0mself\u001b[0m\u001b[0;34m.\u001b[0m\u001b[0mclose\u001b[0m\u001b[0;34m(\u001b[0m\u001b[0;34m)\u001b[0m\u001b[0;34m\u001b[0m\u001b[0m\n",
      "\u001b[0;32m/home/king/anaconda2/envs/py3k/lib/python3.5/http/client.py\u001b[0m in \u001b[0;36mbegin\u001b[0;34m(self)\u001b[0m\n\u001b[1;32m    295\u001b[0m         \u001b[0;31m# read until we get a non-100 response\u001b[0m\u001b[0;34m\u001b[0m\u001b[0;34m\u001b[0m\u001b[0m\n\u001b[1;32m    296\u001b[0m         \u001b[0;32mwhile\u001b[0m \u001b[0;32mTrue\u001b[0m\u001b[0;34m:\u001b[0m\u001b[0;34m\u001b[0m\u001b[0m\n\u001b[0;32m--> 297\u001b[0;31m             \u001b[0mversion\u001b[0m\u001b[0;34m,\u001b[0m \u001b[0mstatus\u001b[0m\u001b[0;34m,\u001b[0m \u001b[0mreason\u001b[0m \u001b[0;34m=\u001b[0m \u001b[0mself\u001b[0m\u001b[0;34m.\u001b[0m\u001b[0m_read_status\u001b[0m\u001b[0;34m(\u001b[0m\u001b[0;34m)\u001b[0m\u001b[0;34m\u001b[0m\u001b[0m\n\u001b[0m\u001b[1;32m    298\u001b[0m             \u001b[0;32mif\u001b[0m \u001b[0mstatus\u001b[0m \u001b[0;34m!=\u001b[0m \u001b[0mCONTINUE\u001b[0m\u001b[0;34m:\u001b[0m\u001b[0;34m\u001b[0m\u001b[0m\n\u001b[1;32m    299\u001b[0m                 \u001b[0;32mbreak\u001b[0m\u001b[0;34m\u001b[0m\u001b[0m\n",
      "\u001b[0;32m/home/king/anaconda2/envs/py3k/lib/python3.5/http/client.py\u001b[0m in \u001b[0;36m_read_status\u001b[0;34m(self)\u001b[0m\n\u001b[1;32m    264\u001b[0m             \u001b[0;31m# Presumably, the server closed the connection before\u001b[0m\u001b[0;34m\u001b[0m\u001b[0;34m\u001b[0m\u001b[0m\n\u001b[1;32m    265\u001b[0m             \u001b[0;31m# sending a valid response.\u001b[0m\u001b[0;34m\u001b[0m\u001b[0;34m\u001b[0m\u001b[0m\n\u001b[0;32m--> 266\u001b[0;31m             raise RemoteDisconnected(\"Remote end closed connection without\"\n\u001b[0m\u001b[1;32m    267\u001b[0m                                      \" response\")\n\u001b[1;32m    268\u001b[0m         \u001b[0;32mtry\u001b[0m\u001b[0;34m:\u001b[0m\u001b[0;34m\u001b[0m\u001b[0m\n",
      "\u001b[0;31mRemoteDisconnected\u001b[0m: Remote end closed connection without response"
     ]
    }
   ],
   "source": [
    "#!/usr/bin/env bash\n",
    "#open the list of item\n",
    "firstPageName = \"https://list.jd.com/list.html?cat=652,654,831\"\n",
    "driverfirstPage = setUp(firstPageName)\n",
    "number = driverfirstPage.find_elements_by_xpath('//span[@class=\"fp-text\"]/i')[0].text\n",
    "\n",
    "for pageID in range(int(number)):\n",
    "    onePageName = firstPageName + \"&page=\"+str( int(number) + 1 - pageID )+\"&trans=1&JL=6_0_0#J_main\"\n",
    "    #https://list.jd.com/list.html?cat=652,654,831&jth=yi#J_main\n",
    "    #https://list.jd.com/list.html?cat=652,654,831&page=6&trans=1&JL=6_0_0#J_main\n",
    "    driverMain = setUp(onePageName)\n",
    "    print(onePageName)\n",
    "    '''\n",
    "    i = 0\n",
    "    #find all item's name\n",
    "    testName = driverMain.find_elements_by_xpath('//ul[@class=\"gl-warp clearfix \"]/li/div')\n",
    "    for nameWeb in testName:\n",
    "        nameNum = nameWeb.get_attribute('data-sku') \n",
    "        print(nameNum)\n",
    "        #jump to each item page\n",
    "        if nameNum == None:\n",
    "            continue\n",
    "        elemName = \"http://item.jd.com/bigimage.aspx?id=\"+str(nameNum)\n",
    "\n",
    "        driver = setUp(elemName)\n",
    "        i = 0\n",
    "\n",
    "        #find the condition of end of the loop\n",
    "        testEnd = driver.find_element_by_xpath('//div[@id=\"biger\"]/a[2]')\n",
    "        loopEnd = testEnd.get_attribute('class') \n",
    "        name    = testEnd.get_attribute('alt') \n",
    "        downloadBigImage.counter =0\n",
    "        #find the image name\n",
    "        img = driver.find_element_by_xpath('//div[@id=\"biger\"]/img')\n",
    "        name    = img.get_attribute('alt') \n",
    "        name = name.replace('/', '_')  \n",
    "\n",
    "        while loopEnd != \"control next next-disabled\":\n",
    "            if True == downloadBigImage(driver,name+\"___\"+str(nameNum)+\"___\"+str(i)+\".jpeg\",name):\n",
    "                break\n",
    "            print(\"here##########################################################\")\n",
    "            i=i+1\n",
    "            testEnd = driver.find_element_by_xpath('//div[@id=\"biger\"]/a[2]')\n",
    "            loopEnd = testEnd.get_attribute('class') \n",
    "        #downloadBigImage.counter =0\n",
    "        print(\"Stop Process!!!\")\n",
    "        driver.close()\n",
    "    '''\n",
    "    time.sleep(5)\n",
    "    driverMain.close()\n",
    "    if pageID == 0:\n",
    "        driverfirstPage.close()\n",
    "\n",
    "    \n"
   ]
  },
  {
   "cell_type": "code",
   "execution_count": 3,
   "metadata": {
    "collapsed": false
   },
   "outputs": [
    {
     "name": "stdout",
     "output_type": "stream",
     "text": [
      "Apple iPhone 7 (A1660) 128G 玫瑰金色 移动联通电信4G手机\n",
      "start******************************************\n",
      "here^^^^^^^^^^^^^^^^^^^^^^^^^^^^^^^^^^^^^^^^^^^^^^^^^^\n",
      "here##########################################################\n",
      "1\n",
      "here00000000000000000000000000000000000000000000000\n",
      "control next\n",
      "start******************************************\n",
      "here^^^^^^^^^^^^^^^^^^^^^^^^^^^^^^^^^^^^^^^^^^^^^^^^^^\n",
      "here%%%%%%%%%%%%%%%%%%%%%%%%%%%%%%%%%%%%%%%%%%%%%%%%%%%%%%%%%%%%%\n",
      "here6666666666666666666666666666666666666666666666666666\n",
      "2\n",
      "here00000000000000000000000000000000000000000000000\n",
      "control next\n",
      "start******************************************\n",
      "here^^^^^^^^^^^^^^^^^^^^^^^^^^^^^^^^^^^^^^^^^^^^^^^^^^\n",
      "here%%%%%%%%%%%%%%%%%%%%%%%%%%%%%%%%%%%%%%%%%%%%%%%%%%%%%%%%%%%%%\n",
      "here6666666666666666666666666666666666666666666666666666\n",
      "3\n",
      "here00000000000000000000000000000000000000000000000\n",
      "control next\n",
      "start******************************************\n",
      "here^^^^^^^^^^^^^^^^^^^^^^^^^^^^^^^^^^^^^^^^^^^^^^^^^^\n",
      "here%%%%%%%%%%%%%%%%%%%%%%%%%%%%%%%%%%%%%%%%%%%%%%%%%%%%%%%%%%%%%\n",
      "here6666666666666666666666666666666666666666666666666666\n",
      "4\n",
      "here00000000000000000000000000000000000000000000000\n",
      "control next\n",
      "start******************************************\n",
      "here^^^^^^^^^^^^^^^^^^^^^^^^^^^^^^^^^^^^^^^^^^^^^^^^^^\n",
      "here%%%%%%%%%%%%%%%%%%%%%%%%%%%%%%%%%%%%%%%%%%%%%%%%%%%%%%%%%%%%%\n",
      "here6666666666666666666666666666666666666666666666666666\n",
      "5\n",
      "here00000000000000000000000000000000000000000000000\n",
      "control next next-disabled\n",
      "Stop Process!!!\n"
     ]
    }
   ],
   "source": [
    "#Test  Program\n",
    "driver = setUp(\"http://item.jd.com/bigimage.aspx?id=3133823\")#3525270#1957851206#3133823\n",
    "i = 0\n",
    "testEnd = driver.find_element_by_xpath('//div[@id=\"biger\"]/a[2]')\n",
    "loopEnd = testEnd.get_attribute('class') \n",
    "name    = testEnd.get_attribute('alt') \n",
    "downloadBigImage.counter =0\n",
    "\n",
    "\n",
    "img = driver.find_element_by_xpath('//div[@id=\"biger\"]/img')\n",
    "name    = img.get_attribute('alt') \n",
    "name = name.replace('/', '_')  \n",
    "print(name)\n",
    "while loopEnd != \"control next next-disabled\":\n",
    "    if True == downloadBigImage(driver,name+\"__\"+str(i)+\".jpeg\",name):\n",
    "        break\n",
    "        \n",
    "    i=i+1\n",
    "    print(i)\n",
    "    testEnd = driver.find_element_by_xpath('//div[@id=\"biger\"]/a[2]')\n",
    "    loopEnd = testEnd.get_attribute('class') \n",
    "    print(\"here00000000000000000000000000000000000000000000000\")\n",
    "    print(loopEnd)\n",
    "    \n",
    "print(\"Stop Process!!!\")\n",
    "driver.close()"
   ]
  },
  {
   "cell_type": "code",
   "execution_count": null,
   "metadata": {
    "collapsed": false
   },
   "outputs": [],
   "source": []
  },
  {
   "cell_type": "code",
   "execution_count": null,
   "metadata": {
    "collapsed": true
   },
   "outputs": [],
   "source": []
  }
 ],
 "metadata": {
  "kernelspec": {
   "display_name": "Python [py3k]",
   "language": "python",
   "name": "Python [py3k]"
  },
  "language_info": {
   "codemirror_mode": {
    "name": "ipython",
    "version": 3
   },
   "file_extension": ".py",
   "mimetype": "text/x-python",
   "name": "python",
   "nbconvert_exporter": "python",
   "pygments_lexer": "ipython3",
   "version": "3.5.2"
  }
 },
 "nbformat": 4,
 "nbformat_minor": 0
}
