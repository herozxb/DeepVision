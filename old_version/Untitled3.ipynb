{
 "cells": [
  {
   "cell_type": "code",
   "execution_count": 1,
   "metadata": {
    "collapsed": true
   },
   "outputs": [],
   "source": [
    "from selenium import webdriver\n",
    "from selenium.webdriver.support.ui import WebDriverWait\n",
    "\n",
    "import unittest"
   ]
  },
  {
   "cell_type": "code",
   "execution_count": 14,
   "metadata": {
    "collapsed": false
   },
   "outputs": [],
   "source": [
    "driver = webdriver.Firefox()\n",
    "driver.get(\"https://www.facebook.com/\")"
   ]
  },
  {
   "cell_type": "code",
   "execution_count": 15,
   "metadata": {
    "collapsed": false
   },
   "outputs": [],
   "source": [
    "userName = \"13521259871\"\n",
    "passWord = \"hero2009\"\n",
    "emailFieldID     = \"email\"\n",
    "passFieldID      = \"pass\"\n",
    "loginButtonXpath = \"//input[@value = 'Log In']\"\n",
    "fbLogoXpath      = \"(//a[contains(@href,'logo')])[1]\"\n",
    "\n",
    "emailFieldElement = WebDriverWait(driver,10).until(lambda driver: driver.find_element_by_id(emailFieldID))\n",
    "passFieldElement = WebDriverWait(driver,10).until(lambda driver: driver.find_element_by_id(passFieldID))\n",
    "loginFieldElement = WebDriverWait(driver,10).until(lambda driver: driver.find_element_by_xpath(loginButtonXpath))"
   ]
  },
  {
   "cell_type": "code",
   "execution_count": 16,
   "metadata": {
    "collapsed": true
   },
   "outputs": [],
   "source": [
    "emailFieldElement.clear()\n",
    "emailFieldElement.send_keys(userName)\n",
    "passFieldElement.clear()\n",
    "passFieldElement.send_keys(passWord)\n",
    "loginFieldElement.click()"
   ]
  },
  {
   "cell_type": "code",
   "execution_count": null,
   "metadata": {
    "collapsed": true
   },
   "outputs": [],
   "source": []
  }
 ],
 "metadata": {
  "kernelspec": {
   "display_name": "Python [ipykernel_py3]",
   "language": "python",
   "name": "Python [ipykernel_py3]"
  },
  "language_info": {
   "codemirror_mode": {
    "name": "ipython",
    "version": 3
   },
   "file_extension": ".py",
   "mimetype": "text/x-python",
   "name": "python",
   "nbconvert_exporter": "python",
   "pygments_lexer": "ipython3",
   "version": "3.5.2"
  }
 },
 "nbformat": 4,
 "nbformat_minor": 0
}
