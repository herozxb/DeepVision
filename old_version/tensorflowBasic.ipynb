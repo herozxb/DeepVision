{
 "cells": [
  {
   "cell_type": "code",
   "execution_count": 2,
   "metadata": {
    "collapsed": true
   },
   "outputs": [],
   "source": [
    "import tensorflow as tf\n",
    "import numpy as np"
   ]
  },
  {
   "cell_type": "code",
   "execution_count": 3,
   "metadata": {
    "collapsed": true
   },
   "outputs": [],
   "source": [
    "# Create 100 phony x, y data points in NumPy, y = x * 0.1 + 0.3\n",
    "x_data = np.random.rand(100).astype(np.float32)\n",
    "y_data = x_data * 0.1 + 0.3\n"
   ]
  },
  {
   "cell_type": "code",
   "execution_count": 4,
   "metadata": {
    "collapsed": true
   },
   "outputs": [],
   "source": [
    "# Try to find values for W and b that compute y_data = W * x_data + b\n",
    "# (We know that W should be 0.1 and b 0.3, but TensorFlow will\n",
    "# figure that out for us.)\n",
    "W = tf.Variable(tf.random_uniform([1], -1.0, 1.0))\n",
    "b = tf.Variable(tf.zeros([1]))\n",
    "y = W * x_data + b\n",
    "#1. Variable"
   ]
  },
  {
   "cell_type": "code",
   "execution_count": 5,
   "metadata": {
    "collapsed": true
   },
   "outputs": [],
   "source": [
    "# Minimize the mean squared errors.\n",
    "loss = tf.reduce_mean(tf.square(y - y_data)) #Computes square of x element-wise.\n",
    "optimizer = tf.train.GradientDescentOptimizer(0.05)\n",
    "train = optimizer.minimize(loss)\n",
    "#2. Graph"
   ]
  },
  {
   "cell_type": "code",
   "execution_count": 6,
   "metadata": {
    "collapsed": false
   },
   "outputs": [
    {
     "name": "stdout",
     "output_type": "stream",
     "text": [
      "WARNING:tensorflow:From <ipython-input-6-e8c064620638>:2 in <module>.: initialize_all_variables (from tensorflow.python.ops.variables) is deprecated and will be removed after 2017-03-02.\n",
      "Instructions for updating:\n",
      "Use `tf.global_variables_initializer` instead.\n"
     ]
    }
   ],
   "source": [
    "# Before starting, initialize the variables.  We will 'run' this first.\n",
    "init = tf.initialize_all_variables()"
   ]
  },
  {
   "cell_type": "code",
   "execution_count": 7,
   "metadata": {
    "collapsed": false
   },
   "outputs": [
    {
     "name": "stdout",
     "output_type": "stream",
     "text": [
      "None\n"
     ]
    }
   ],
   "source": [
    "# Launch the graph.\n",
    "sess = tf.Session()\n",
    "sess.run(init)\n",
    "print(sess.run(init))\n",
    "#3. session"
   ]
  },
  {
   "cell_type": "code",
   "execution_count": 10,
   "metadata": {
    "collapsed": false
   },
   "outputs": [
    {
     "name": "stdout",
     "output_type": "stream",
     "text": [
      "(0, array([ 0.03408198], dtype=float32), array([ 0.33462057], dtype=float32))\n",
      "0.000338008\n",
      "(20, array([ 0.04167116], dtype=float32), array([ 0.33063468], dtype=float32))\n",
      "0.000264658\n",
      "(40, array([ 0.0483866], dtype=float32), array([ 0.3271077], dtype=float32))\n",
      "0.000207226\n",
      "(60, array([ 0.05432888], dtype=float32), array([ 0.32398677], dtype=float32))\n",
      "0.000162257\n",
      "(80, array([ 0.05958702], dtype=float32), array([ 0.32122517], dtype=float32))\n",
      "0.000127046\n",
      "(100, array([ 0.06423979], dtype=float32), array([ 0.3187815], dtype=float32))\n",
      "9.94761e-05\n",
      "(120, array([ 0.06835689], dtype=float32), array([ 0.31661916], dtype=float32))\n",
      "7.78891e-05\n",
      "(140, array([ 0.07199999], dtype=float32), array([ 0.31470582], dtype=float32))\n",
      "6.09868e-05\n",
      "(160, array([ 0.07522364], dtype=float32), array([ 0.31301272], dtype=float32))\n",
      "4.77523e-05\n",
      "(180, array([ 0.07807616], dtype=float32), array([ 0.31151453], dtype=float32))\n",
      "3.73897e-05\n",
      "(200, array([ 0.08060028], dtype=float32), array([ 0.31018889], dtype=float32))\n",
      "2.92759e-05\n",
      "(220, array([ 0.08283379], dtype=float32), array([ 0.30901581], dtype=float32))\n",
      "2.29228e-05\n",
      "(240, array([ 0.08481014], dtype=float32), array([ 0.30797783], dtype=float32))\n",
      "1.79485e-05\n",
      "(260, array([ 0.08655896], dtype=float32), array([ 0.30705935], dtype=float32))\n",
      "1.40535e-05\n",
      "(280, array([ 0.08810642], dtype=float32), array([ 0.30624655], dtype=float32))\n",
      "1.10038e-05\n",
      "(300, array([ 0.08947574], dtype=float32), array([ 0.30552739], dtype=float32))\n",
      "8.61592e-06\n",
      "(320, array([ 0.09068742], dtype=float32), array([ 0.30489105], dtype=float32))\n",
      "6.74622e-06\n",
      "(340, array([ 0.09175958], dtype=float32), array([ 0.30432793], dtype=float32))\n",
      "5.28224e-06\n",
      "(360, array([ 0.0927083], dtype=float32), array([ 0.30382964], dtype=float32))\n",
      "4.13597e-06\n",
      "(380, array([ 0.0935478], dtype=float32), array([ 0.30338874], dtype=float32))\n",
      "3.23844e-06\n",
      "(400, array([ 0.09429064], dtype=float32), array([ 0.30299863], dtype=float32))\n",
      "2.53569e-06\n",
      "(420, array([ 0.09494796], dtype=float32), array([ 0.30265337], dtype=float32))\n",
      "1.98543e-06\n",
      "(440, array([ 0.09552959], dtype=float32), array([ 0.30234796], dtype=float32))\n",
      "1.55461e-06\n",
      "(460, array([ 0.09604428], dtype=float32), array([ 0.30207756], dtype=float32))\n",
      "1.21723e-06\n",
      "(480, array([ 0.09649971], dtype=float32), array([ 0.3018384], dtype=float32))\n",
      "9.53081e-07\n",
      "(500, array([ 0.0969027], dtype=float32), array([ 0.30162674], dtype=float32))\n",
      "7.46259e-07\n",
      "(520, array([ 0.09725931], dtype=float32), array([ 0.30143943], dtype=float32))\n",
      "5.84307e-07\n",
      "(540, array([ 0.09757486], dtype=float32), array([ 0.30127373], dtype=float32))\n",
      "4.5751e-07\n",
      "(560, array([ 0.09785406], dtype=float32), array([ 0.30112708], dtype=float32))\n",
      "3.58226e-07\n",
      "(580, array([ 0.09810113], dtype=float32), array([ 0.30099732], dtype=float32))\n",
      "2.80489e-07\n",
      "(600, array([ 0.09831975], dtype=float32), array([ 0.30088249], dtype=float32))\n",
      "2.1962e-07\n",
      "(620, array([ 0.0985132], dtype=float32), array([ 0.30078083], dtype=float32))\n",
      "1.71955e-07\n",
      "(640, array([ 0.09868442], dtype=float32), array([ 0.30069095], dtype=float32))\n",
      "1.34633e-07\n",
      "(660, array([ 0.09883588], dtype=float32), array([ 0.30061141], dtype=float32))\n",
      "1.05419e-07\n",
      "(680, array([ 0.0989699], dtype=float32), array([ 0.30054104], dtype=float32))\n",
      "8.25465e-08\n",
      "(700, array([ 0.0990885], dtype=float32), array([ 0.30047873], dtype=float32))\n",
      "6.46303e-08\n",
      "(720, array([ 0.09919345], dtype=float32), array([ 0.30042362], dtype=float32))\n",
      "5.06055e-08\n",
      "(740, array([ 0.09928631], dtype=float32), array([ 0.30037484], dtype=float32))\n",
      "3.96228e-08\n",
      "(760, array([ 0.09936849], dtype=float32), array([ 0.30033168], dtype=float32))\n",
      "3.10242e-08\n",
      "(780, array([ 0.09944118], dtype=float32), array([ 0.30029351], dtype=float32))\n",
      "2.42927e-08\n",
      "(800, array([ 0.09950551], dtype=float32), array([ 0.30025974], dtype=float32))\n",
      "1.90223e-08\n",
      "(820, array([ 0.09956244], dtype=float32), array([ 0.30022982], dtype=float32))\n",
      "1.48937e-08\n",
      "(840, array([ 0.09961283], dtype=float32), array([ 0.30020338], dtype=float32))\n",
      "1.16619e-08\n",
      "(860, array([ 0.09965739], dtype=float32), array([ 0.30017996], dtype=float32))\n",
      "9.13161e-09\n",
      "(880, array([ 0.09969684], dtype=float32), array([ 0.30015925], dtype=float32))\n",
      "7.15024e-09\n",
      "(900, array([ 0.09973174], dtype=float32), array([ 0.30014092], dtype=float32))\n",
      "5.59872e-09\n",
      "(920, array([ 0.0997626], dtype=float32), array([ 0.3001247], dtype=float32))\n",
      "4.38439e-09\n",
      "(940, array([ 0.09978992], dtype=float32), array([ 0.30011034], dtype=float32))\n",
      "3.43319e-09\n",
      "(960, array([ 0.09981414], dtype=float32), array([ 0.30009764], dtype=float32))\n",
      "2.688e-09\n",
      "(980, array([ 0.09983554], dtype=float32), array([ 0.30008641], dtype=float32))\n",
      "2.10436e-09\n",
      "(1000, array([ 0.09985446], dtype=float32), array([ 0.30007645], dtype=float32))\n",
      "1.64801e-09\n",
      "(1020, array([ 0.0998712], dtype=float32), array([ 0.30006769], dtype=float32))\n",
      "1.29088e-09\n",
      "(1040, array([ 0.09988601], dtype=float32), array([ 0.30005991], dtype=float32))\n",
      "1.01122e-09\n",
      "(1060, array([ 0.09989911], dtype=float32), array([ 0.30005303], dtype=float32))\n",
      "7.92214e-10\n",
      "(1080, array([ 0.09991069], dtype=float32), array([ 0.30004692], dtype=float32))\n",
      "6.20556e-10\n",
      "(1100, array([ 0.09992097], dtype=float32), array([ 0.3000415], dtype=float32))\n",
      "4.85844e-10\n",
      "(1120, array([ 0.09993005], dtype=float32), array([ 0.30003673], dtype=float32))\n",
      "3.80635e-10\n",
      "(1140, array([ 0.09993806], dtype=float32), array([ 0.30003256], dtype=float32))\n",
      "2.9858e-10\n",
      "(1160, array([ 0.09994515], dtype=float32), array([ 0.30002889], dtype=float32))\n",
      "2.34341e-10\n",
      "(1180, array([ 0.09995145], dtype=float32), array([ 0.30002558], dtype=float32))\n",
      "1.83699e-10\n",
      "(1200, array([ 0.09995699], dtype=float32), array([ 0.3000226], dtype=float32))\n",
      "1.43971e-10\n",
      "(1220, array([ 0.09996191], dtype=float32), array([ 0.3000201], dtype=float32))\n",
      "1.13141e-10\n",
      "(1240, array([ 0.09996624], dtype=float32), array([ 0.30001771], dtype=float32))\n",
      "8.86359e-11\n",
      "(1260, array([ 0.09997011], dtype=float32), array([ 0.30001578], dtype=float32))\n",
      "6.96469e-11\n",
      "(1280, array([ 0.09997348], dtype=float32), array([ 0.30001399], dtype=float32))\n",
      "5.48005e-11\n",
      "(1300, array([ 0.09997655], dtype=float32), array([ 0.30001232], dtype=float32))\n",
      "4.28018e-11\n",
      "(1320, array([ 0.09997922], dtype=float32), array([ 0.30001098], dtype=float32))\n",
      "3.37076e-11\n",
      "(1340, array([ 0.09998155], dtype=float32), array([ 0.30000979], dtype=float32))\n",
      "2.66088e-11\n",
      "(1360, array([ 0.09998364], dtype=float32), array([ 0.30000859], dtype=float32))\n",
      "2.08228e-11\n",
      "(1380, array([ 0.09998554], dtype=float32), array([ 0.30000758], dtype=float32))\n",
      "1.62658e-11\n",
      "(1400, array([ 0.09998721], dtype=float32), array([ 0.30000675], dtype=float32))\n",
      "1.27699e-11\n",
      "(1420, array([ 0.09998863], dtype=float32), array([ 0.30000606], dtype=float32))\n",
      "1.01321e-11\n",
      "(1440, array([ 0.09998987], dtype=float32), array([ 0.30000544], dtype=float32))\n",
      "8.07022e-12\n",
      "(1460, array([ 0.09999093], dtype=float32), array([ 0.30000484], dtype=float32))\n",
      "6.45213e-12\n",
      "(1480, array([ 0.09999197], dtype=float32), array([ 0.30000424], dtype=float32))\n",
      "5.03841e-12\n",
      "(1500, array([ 0.09999289], dtype=float32), array([ 0.30000368], dtype=float32))\n",
      "3.91763e-12\n",
      "(1520, array([ 0.09999377], dtype=float32), array([ 0.30000323], dtype=float32))\n",
      "3.01646e-12\n",
      "(1540, array([ 0.09999452], dtype=float32), array([ 0.30000287], dtype=float32))\n",
      "2.34563e-12\n",
      "(1560, array([ 0.09999515], dtype=float32), array([ 0.30000255], dtype=float32))\n",
      "1.83346e-12\n",
      "(1580, array([ 0.09999573], dtype=float32), array([ 0.30000228], dtype=float32))\n",
      "1.42856e-12\n",
      "(1600, array([ 0.09999618], dtype=float32), array([ 0.30000204], dtype=float32))\n",
      "1.1469e-12\n",
      "(1620, array([ 0.09999663], dtype=float32), array([ 0.30000183], dtype=float32))\n",
      "9.03837e-13\n",
      "(1640, array([ 0.09999695], dtype=float32), array([ 0.30000165], dtype=float32))\n",
      "7.38369e-13\n",
      "(1660, array([ 0.09999724], dtype=float32), array([ 0.3000015], dtype=float32))\n",
      "6.04654e-13\n",
      "(1680, array([ 0.09999754], dtype=float32), array([ 0.30000135], dtype=float32))\n",
      "4.86304e-13\n",
      "(1700, array([ 0.09999777], dtype=float32), array([ 0.30000126], dtype=float32))\n",
      "4.10756e-13\n",
      "(1720, array([ 0.09999792], dtype=float32), array([ 0.30000117], dtype=float32))\n",
      "3.54463e-13\n",
      "(1740, array([ 0.09999806], dtype=float32), array([ 0.30000111], dtype=float32))\n",
      "3.1438e-13\n",
      "(1760, array([ 0.09999821], dtype=float32), array([ 0.30000103], dtype=float32))\n",
      "2.6513e-13\n",
      "(1780, array([ 0.09999836], dtype=float32), array([ 0.30000097], dtype=float32))\n",
      "2.31548e-13\n",
      "(1800, array([ 0.09999851], dtype=float32), array([ 0.30000088], dtype=float32))\n",
      "1.88152e-13\n",
      "(1820, array([ 0.09999861], dtype=float32), array([ 0.30000085], dtype=float32))\n",
      "1.73319e-13\n",
      "(1840, array([ 0.09999861], dtype=float32), array([ 0.30000085], dtype=float32))\n",
      "1.73319e-13\n",
      "(1860, array([ 0.09999861], dtype=float32), array([ 0.30000085], dtype=float32))\n",
      "1.73319e-13\n",
      "(1880, array([ 0.09999861], dtype=float32), array([ 0.30000085], dtype=float32))\n",
      "1.73319e-13\n",
      "(1900, array([ 0.09999861], dtype=float32), array([ 0.30000085], dtype=float32))\n",
      "1.73319e-13\n",
      "(1920, array([ 0.09999861], dtype=float32), array([ 0.30000085], dtype=float32))\n",
      "1.73319e-13\n",
      "(1940, array([ 0.09999861], dtype=float32), array([ 0.30000085], dtype=float32))\n",
      "1.73319e-13\n",
      "(1960, array([ 0.09999861], dtype=float32), array([ 0.30000085], dtype=float32))\n",
      "1.73319e-13\n",
      "(1980, array([ 0.09999861], dtype=float32), array([ 0.30000085], dtype=float32))\n",
      "1.73319e-13\n",
      "(2000, array([ 0.09999861], dtype=float32), array([ 0.30000085], dtype=float32))\n",
      "1.73319e-13\n"
     ]
    }
   ],
   "source": [
    "\n",
    "# Fit the line.\n",
    "for step in range(2001):\n",
    "    sess.run(train)\n",
    "    \n",
    "    \n",
    "    if step % 20 == 0:\n",
    "        print(step, sess.run(W), sess.run(b))\n",
    "        print(sess.run(loss))\n",
    "# Learns best fit is W: [0.1], b: [0.3]"
   ]
  },
  {
   "cell_type": "code",
   "execution_count": null,
   "metadata": {
    "collapsed": true
   },
   "outputs": [],
   "source": []
  }
 ],
 "metadata": {
  "kernelspec": {
   "display_name": "Python [Root]",
   "language": "python",
   "name": "Python [Root]"
  },
  "language_info": {
   "codemirror_mode": {
    "name": "ipython",
    "version": 2
   },
   "file_extension": ".py",
   "mimetype": "text/x-python",
   "name": "python",
   "nbconvert_exporter": "python",
   "pygments_lexer": "ipython2",
   "version": "2.7.12"
  }
 },
 "nbformat": 4,
 "nbformat_minor": 0
}
