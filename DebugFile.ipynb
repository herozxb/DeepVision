{
 "cells": [
  {
   "cell_type": "code",
   "execution_count": 2,
   "metadata": {
    "collapsed": true
   },
   "outputs": [],
   "source": [
    "import tensorflow as tf\n",
    "import numpy as np"
   ]
  },
  {
   "cell_type": "code",
   "execution_count": 3,
   "metadata": {
    "collapsed": false
   },
   "outputs": [
    {
     "data": {
      "text/plain": [
       "array([ 0.5712775 ,  0.25790262,  0.22221889,  0.63457149,  0.45363918,\n",
       "        0.84194487,  0.67679256,  0.54899532,  0.4827078 ,  0.98416692,\n",
       "        0.50480366,  0.20039843,  0.70315117,  0.18738241,  0.29951182,\n",
       "        0.97772431,  0.13056186,  0.32468143,  0.90810162,  0.00528852,\n",
       "        0.9080053 ,  0.09456689,  0.93613136,  0.38795871,  0.12948939,\n",
       "        0.56848472,  0.13036035,  0.74779379,  0.14863485,  0.77913219,\n",
       "        0.18657476,  0.51091617,  0.0187392 ,  0.94430256,  0.66249448,\n",
       "        0.93570101,  0.63483262,  0.74258894,  0.89211142,  0.00173194,\n",
       "        0.0647627 ,  0.93764859,  0.27579531,  0.05901137,  0.05294634,\n",
       "        0.37551796,  0.87892818,  0.38268259,  0.14045933,  0.94500756,\n",
       "        0.8708716 ,  0.06860734,  0.61725897,  0.86418444,  0.90789479,\n",
       "        0.64581364,  0.31438783,  0.47873968,  0.92901731,  0.00560958,\n",
       "        0.45902219,  0.75698513,  0.68421775,  0.12440142,  0.80350602,\n",
       "        0.64129645,  0.66839665,  0.62302727,  0.03623809,  0.02479104,\n",
       "        0.6512081 ,  0.57820702,  0.24478196,  0.98011738,  0.04912281,\n",
       "        0.79370725,  0.3618755 ,  0.94450128,  0.57573968,  0.23024084,\n",
       "        0.25481358,  0.72716093,  0.80537045,  0.74162304,  0.39864889,\n",
       "        0.95115739,  0.40254673,  0.23399058,  0.85034275,  0.87917393,\n",
       "        0.00403032,  0.09726298,  0.95096546,  0.27085784,  0.09796825,\n",
       "        0.14920117,  0.28605109,  0.01302737,  0.87263805,  0.8799479 ], dtype=float32)"
      ]
     },
     "execution_count": 3,
     "metadata": {},
     "output_type": "execute_result"
    }
   ],
   "source": [
    "tf.zeros([1])\n",
    "np.random.rand(100).astype(np.float32)"
   ]
  },
  {
   "cell_type": "code",
   "execution_count": 4,
   "metadata": {
    "collapsed": false
   },
   "outputs": [],
   "source": [
    "x = tf.placeholder(tf.float32, shape=[None, 784])\n",
    "x_image = tf.reshape(x, [-1,28,28,1])"
   ]
  },
  {
   "cell_type": "code",
   "execution_count": 5,
   "metadata": {
    "collapsed": false
   },
   "outputs": [
    {
     "data": {
      "text/plain": [
       "TensorShape([Dimension(None), Dimension(784)])"
      ]
     },
     "execution_count": 5,
     "metadata": {},
     "output_type": "execute_result"
    }
   ],
   "source": [
    "x.get_shape()"
   ]
  },
  {
   "cell_type": "code",
   "execution_count": 6,
   "metadata": {
    "collapsed": false
   },
   "outputs": [
    {
     "data": {
      "text/plain": [
       "TensorShape([Dimension(None), Dimension(28), Dimension(28), Dimension(1)])"
      ]
     },
     "execution_count": 6,
     "metadata": {},
     "output_type": "execute_result"
    }
   ],
   "source": [
    "x_image.get_shape()"
   ]
  },
  {
   "cell_type": "code",
   "execution_count": 4,
   "metadata": {
    "collapsed": false
   },
   "outputs": [
    {
     "data": {
      "text/plain": [
       "array([[0, 1],\n",
       "       [2, 3],\n",
       "       [4, 5]])"
      ]
     },
     "execution_count": 4,
     "metadata": {},
     "output_type": "execute_result"
    }
   ],
   "source": [
    "a = np.arange(6).reshape((3, 2))\n",
    "a"
   ]
  },
  {
   "cell_type": "code",
   "execution_count": 6,
   "metadata": {
    "collapsed": false
   },
   "outputs": [
    {
     "data": {
      "text/plain": [
       "array([0, 1, 2, 3, 4, 5])"
      ]
     },
     "execution_count": 6,
     "metadata": {},
     "output_type": "execute_result"
    }
   ],
   "source": [
    "np.reshape(a, (6))"
   ]
  },
  {
   "cell_type": "code",
   "execution_count": 1,
   "metadata": {
    "collapsed": false
   },
   "outputs": [
    {
     "data": {
      "text/plain": [
       "8192"
      ]
     },
     "execution_count": 1,
     "metadata": {},
     "output_type": "execute_result"
    }
   ],
   "source": [
    "64*128"
   ]
  },
  {
   "cell_type": "code",
   "execution_count": null,
   "metadata": {
    "collapsed": true
   },
   "outputs": [],
   "source": []
  }
 ],
 "metadata": {
  "kernelspec": {
   "display_name": "Python [Root]",
   "language": "python",
   "name": "Python [Root]"
  },
  "language_info": {
   "codemirror_mode": {
    "name": "ipython",
    "version": 2
   },
   "file_extension": ".py",
   "mimetype": "text/x-python",
   "name": "python",
   "nbconvert_exporter": "python",
   "pygments_lexer": "ipython2",
   "version": "2.7.12"
  }
 },
 "nbformat": 4,
 "nbformat_minor": 0
}
