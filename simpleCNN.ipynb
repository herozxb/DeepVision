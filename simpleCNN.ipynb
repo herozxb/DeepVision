{
 "cells": [
  {
   "cell_type": "code",
   "execution_count": 1,
   "metadata": {
    "collapsed": true
   },
   "outputs": [],
   "source": [
    "import tensorflow as tf\n",
    "import numpy as np"
   ]
  },
  {
   "cell_type": "code",
   "execution_count": 2,
   "metadata": {
    "collapsed": false
   },
   "outputs": [
    {
     "name": "stdout",
     "output_type": "stream",
     "text": [
      "Extracting MNIST_data/train-images-idx3-ubyte.gz\n",
      "Extracting MNIST_data/train-labels-idx1-ubyte.gz\n",
      "Extracting MNIST_data/t10k-images-idx3-ubyte.gz\n",
      "Extracting MNIST_data/t10k-labels-idx1-ubyte.gz\n"
     ]
    }
   ],
   "source": [
    "from tensorflow.examples.tutorials.mnist import input_data\n",
    "mnist = input_data.read_data_sets('MNIST_data', one_hot=True)"
   ]
  },
  {
   "cell_type": "code",
   "execution_count": 3,
   "metadata": {
    "collapsed": true
   },
   "outputs": [],
   "source": [
    "def weight_variable(shape):\n",
    "  initial = tf.truncated_normal(shape, stddev=0.1)\n",
    "  return tf.Variable(initial)\n",
    "\n",
    "def bias_variable(shape):\n",
    "  initial = tf.constant(0.1, shape=shape)\n",
    "  return tf.Variable(initial)\n",
    "\n",
    "\n",
    "def conv2d(x, W):\n",
    "  return tf.nn.conv2d(x, W, strides=[1, 1, 1, 1], padding='SAME')\n",
    "\n",
    "def max_pool_2x2(x):\n",
    "  return tf.nn.max_pool(x, ksize=[1, 2, 2, 1],\n",
    "                        strides=[1, 2, 2, 1], padding='SAME')"
   ]
  },
  {
   "cell_type": "code",
   "execution_count": 4,
   "metadata": {
    "collapsed": true
   },
   "outputs": [],
   "source": [
    "#input"
   ]
  },
  {
   "cell_type": "code",
   "execution_count": 5,
   "metadata": {
    "collapsed": true
   },
   "outputs": [],
   "source": [
    "x = tf.placeholder(tf.float32, shape=[None, 784])\n",
    "y_ = tf.placeholder(tf.float32, shape=[None, 10])\n",
    "x_image = tf.reshape(x, [-1,28,28,1])"
   ]
  },
  {
   "cell_type": "code",
   "execution_count": 6,
   "metadata": {
    "collapsed": true
   },
   "outputs": [],
   "source": [
    "#set up the graph"
   ]
  },
  {
   "cell_type": "code",
   "execution_count": 7,
   "metadata": {
    "collapsed": true
   },
   "outputs": [],
   "source": [
    "W_conv1 = weight_variable([5, 5, 1, 32])\n",
    "b_conv1 = bias_variable([32])\n",
    "\n",
    "h_conv1 = tf.nn.relu(conv2d(x_image, W_conv1) + b_conv1)\n",
    "h_pool1 = max_pool_2x2(h_conv1)"
   ]
  },
  {
   "cell_type": "code",
   "execution_count": 8,
   "metadata": {
    "collapsed": false
   },
   "outputs": [],
   "source": [
    "W_conv2 = weight_variable([5, 5, 32, 64])\n",
    "b_conv2 = bias_variable([64])\n",
    "\n",
    "h_conv2 = tf.nn.relu(conv2d(h_pool1, W_conv2) + b_conv2)\n",
    "h_pool2 = max_pool_2x2(h_conv2)"
   ]
  },
  {
   "cell_type": "code",
   "execution_count": 9,
   "metadata": {
    "collapsed": false
   },
   "outputs": [],
   "source": [
    "W_fc1 = weight_variable([7 * 7 * 64, 1024])\n",
    "b_fc1 = bias_variable([1024])\n",
    "\n",
    "h_pool2_flat = tf.reshape(h_pool2, [-1, 7*7*64])\n",
    "h_fc1 = tf.nn.relu(tf.matmul(h_pool2_flat, W_fc1) + b_fc1)"
   ]
  },
  {
   "cell_type": "code",
   "execution_count": 10,
   "metadata": {
    "collapsed": false
   },
   "outputs": [],
   "source": [
    "#Dropout"
   ]
  },
  {
   "cell_type": "code",
   "execution_count": 11,
   "metadata": {
    "collapsed": false
   },
   "outputs": [],
   "source": [
    "keep_prob = tf.placeholder(tf.float32)\n",
    "h_fc1_drop = tf.nn.dropout(h_fc1, keep_prob)"
   ]
  },
  {
   "cell_type": "code",
   "execution_count": 12,
   "metadata": {
    "collapsed": true
   },
   "outputs": [],
   "source": [
    "W_fc2 = weight_variable([1024, 10])\n",
    "b_fc2 = bias_variable([10])\n",
    "\n",
    "y_conv = tf.matmul(h_fc1_drop, W_fc2) + b_fc2"
   ]
  },
  {
   "cell_type": "code",
   "execution_count": 13,
   "metadata": {
    "collapsed": true
   },
   "outputs": [],
   "source": [
    "#Training by build graph"
   ]
  },
  {
   "cell_type": "code",
   "execution_count": 14,
   "metadata": {
    "collapsed": false
   },
   "outputs": [
    {
     "name": "stdout",
     "output_type": "stream",
     "text": [
      "WARNING:tensorflow:From <ipython-input-14-b1dd8f8d05c6>:7 in <module>.: initialize_all_variables (from tensorflow.python.ops.variables) is deprecated and will be removed after 2017-03-02.\n",
      "Instructions for updating:\n",
      "Use `tf.global_variables_initializer` instead.\n"
     ]
    }
   ],
   "source": [
    "cross_entropy = tf.reduce_mean(tf.nn.softmax_cross_entropy_with_logits(y_conv, y_))\n",
    "train_step = tf.train.AdamOptimizer(1e-4).minimize(cross_entropy)\n",
    "correct_prediction = tf.equal(tf.argmax(y_conv,1), tf.argmax(y_,1))\n",
    "accuracy = tf.reduce_mean(tf.cast(correct_prediction, tf.float32))\n",
    "\n",
    "sess = tf.InteractiveSession()\n",
    "sess.run(tf.initialize_all_variables())"
   ]
  },
  {
   "cell_type": "code",
   "execution_count": 15,
   "metadata": {
    "collapsed": true
   },
   "outputs": [],
   "source": [
    "#Traing the model by session"
   ]
  },
  {
   "cell_type": "code",
   "execution_count": 16,
   "metadata": {
    "collapsed": false
   },
   "outputs": [
    {
     "name": "stdout",
     "output_type": "stream",
     "text": [
      "step 0, training accuracy 0.06\n",
      "step 100, training accuracy 0.82\n",
      "step 200, training accuracy 0.9\n",
      "step 300, training accuracy 0.86\n",
      "step 400, training accuracy 0.98\n",
      "step 500, training accuracy 0.96\n",
      "step 600, training accuracy 1\n",
      "step 700, training accuracy 0.94\n",
      "step 800, training accuracy 0.9\n",
      "step 900, training accuracy 1\n",
      "step 1000, training accuracy 0.98\n",
      "step 1100, training accuracy 0.96\n",
      "step 1200, training accuracy 0.96\n",
      "step 1300, training accuracy 0.96\n",
      "step 1400, training accuracy 0.96\n",
      "step 1500, training accuracy 1\n",
      "step 1600, training accuracy 0.98\n",
      "step 1700, training accuracy 0.96\n",
      "step 1800, training accuracy 0.92\n",
      "step 1900, training accuracy 0.98\n",
      "step 2000, training accuracy 1\n",
      "step 2100, training accuracy 0.98\n",
      "step 2200, training accuracy 1\n",
      "step 2300, training accuracy 0.98\n",
      "step 2400, training accuracy 0.98\n",
      "step 2500, training accuracy 1\n",
      "step 2600, training accuracy 0.98\n",
      "step 2700, training accuracy 1\n",
      "step 2800, training accuracy 1\n",
      "step 2900, training accuracy 0.98\n",
      "step 3000, training accuracy 1\n",
      "step 3100, training accuracy 1\n",
      "step 3200, training accuracy 1\n",
      "step 3300, training accuracy 0.96\n",
      "step 3400, training accuracy 1\n",
      "step 3500, training accuracy 1\n",
      "step 3600, training accuracy 1\n",
      "step 3700, training accuracy 1\n",
      "step 3800, training accuracy 0.98\n",
      "step 3900, training accuracy 0.92\n",
      "step 4000, training accuracy 0.98\n",
      "step 4100, training accuracy 1\n",
      "step 4200, training accuracy 0.98\n",
      "step 4300, training accuracy 0.98\n",
      "step 4400, training accuracy 0.98\n",
      "step 4500, training accuracy 0.98\n",
      "step 4600, training accuracy 0.96\n",
      "step 4700, training accuracy 1\n",
      "step 4800, training accuracy 0.96\n",
      "step 4900, training accuracy 1\n",
      "step 5000, training accuracy 1\n",
      "step 5100, training accuracy 0.98\n",
      "step 5200, training accuracy 0.96\n",
      "step 5300, training accuracy 1\n",
      "step 5400, training accuracy 1\n",
      "step 5500, training accuracy 0.98\n",
      "step 5600, training accuracy 1\n",
      "step 5700, training accuracy 0.98\n",
      "step 5800, training accuracy 1\n",
      "step 5900, training accuracy 0.96\n",
      "step 6000, training accuracy 1\n",
      "step 6100, training accuracy 1\n",
      "step 6200, training accuracy 1\n",
      "step 6300, training accuracy 1\n",
      "step 6400, training accuracy 1\n",
      "step 6500, training accuracy 1\n",
      "step 6600, training accuracy 1\n",
      "step 6700, training accuracy 1\n",
      "step 6800, training accuracy 1\n",
      "step 6900, training accuracy 1\n",
      "step 7000, training accuracy 0.96\n",
      "step 7100, training accuracy 1\n",
      "step 7200, training accuracy 0.96\n",
      "step 7300, training accuracy 1\n",
      "step 7400, training accuracy 1\n",
      "step 7500, training accuracy 1\n",
      "step 7600, training accuracy 0.98\n",
      "step 7700, training accuracy 0.98\n",
      "step 7800, training accuracy 1\n",
      "step 7900, training accuracy 0.98\n",
      "step 8000, training accuracy 1\n",
      "step 8100, training accuracy 0.98\n",
      "step 8200, training accuracy 1\n",
      "step 8300, training accuracy 1\n",
      "step 8400, training accuracy 0.98\n",
      "step 8500, training accuracy 1\n",
      "step 8600, training accuracy 1\n",
      "step 8700, training accuracy 1\n",
      "step 8800, training accuracy 1\n",
      "step 8900, training accuracy 1\n",
      "step 9000, training accuracy 1\n",
      "step 9100, training accuracy 1\n",
      "step 9200, training accuracy 1\n",
      "step 9300, training accuracy 1\n",
      "step 9400, training accuracy 1\n",
      "step 9500, training accuracy 0.98\n",
      "step 9600, training accuracy 1\n",
      "step 9700, training accuracy 1\n",
      "step 9800, training accuracy 1\n",
      "step 9900, training accuracy 1\n",
      "step 10000, training accuracy 1\n",
      "step 10100, training accuracy 1\n",
      "step 10200, training accuracy 1\n",
      "step 10300, training accuracy 0.98\n",
      "step 10400, training accuracy 1\n",
      "step 10500, training accuracy 1\n",
      "step 10600, training accuracy 0.98\n",
      "step 10700, training accuracy 1\n",
      "step 10800, training accuracy 1\n",
      "step 10900, training accuracy 1\n",
      "step 11000, training accuracy 0.98\n",
      "step 11100, training accuracy 1\n",
      "step 11200, training accuracy 0.98\n",
      "step 11300, training accuracy 0.98\n",
      "step 11400, training accuracy 1\n",
      "step 11500, training accuracy 1\n",
      "step 11600, training accuracy 1\n",
      "step 11700, training accuracy 1\n",
      "step 11800, training accuracy 0.96\n",
      "step 11900, training accuracy 1\n",
      "step 12000, training accuracy 0.98\n",
      "step 12100, training accuracy 0.98\n",
      "step 12200, training accuracy 1\n",
      "step 12300, training accuracy 1\n",
      "step 12400, training accuracy 0.98\n",
      "step 12500, training accuracy 1\n",
      "step 12600, training accuracy 1\n",
      "step 12700, training accuracy 1\n",
      "step 12800, training accuracy 1\n",
      "step 12900, training accuracy 0.98\n",
      "step 13000, training accuracy 1\n",
      "step 13100, training accuracy 1\n",
      "step 13200, training accuracy 0.98\n",
      "step 13300, training accuracy 1\n",
      "step 13400, training accuracy 0.98\n",
      "step 13500, training accuracy 1\n",
      "step 13600, training accuracy 1\n",
      "step 13700, training accuracy 1\n",
      "step 13800, training accuracy 1\n",
      "step 13900, training accuracy 1\n",
      "step 14000, training accuracy 0.98\n",
      "step 14100, training accuracy 0.98\n",
      "step 14200, training accuracy 1\n",
      "step 14300, training accuracy 1\n",
      "step 14400, training accuracy 1\n",
      "step 14500, training accuracy 1\n",
      "step 14600, training accuracy 1\n",
      "step 14700, training accuracy 1\n",
      "step 14800, training accuracy 1\n",
      "step 14900, training accuracy 1\n",
      "step 15000, training accuracy 1\n",
      "step 15100, training accuracy 1\n",
      "step 15200, training accuracy 1\n",
      "step 15300, training accuracy 1\n",
      "step 15400, training accuracy 1\n",
      "step 15500, training accuracy 1\n",
      "step 15600, training accuracy 1\n",
      "step 15700, training accuracy 1\n",
      "step 15800, training accuracy 1\n",
      "step 15900, training accuracy 1\n",
      "step 16000, training accuracy 1\n",
      "step 16100, training accuracy 1\n",
      "step 16200, training accuracy 1\n",
      "step 16300, training accuracy 1\n",
      "step 16400, training accuracy 1\n",
      "step 16500, training accuracy 1\n",
      "step 16600, training accuracy 1\n",
      "step 16700, training accuracy 1\n",
      "step 16800, training accuracy 1\n",
      "step 16900, training accuracy 1\n",
      "step 17000, training accuracy 1\n",
      "step 17100, training accuracy 1\n",
      "step 17200, training accuracy 1\n",
      "step 17300, training accuracy 1\n",
      "step 17400, training accuracy 1\n",
      "step 17500, training accuracy 1\n",
      "step 17600, training accuracy 1\n",
      "step 17700, training accuracy 1\n",
      "step 17800, training accuracy 1\n",
      "step 17900, training accuracy 1\n",
      "step 18000, training accuracy 1\n",
      "step 18100, training accuracy 1\n",
      "step 18200, training accuracy 1\n",
      "step 18300, training accuracy 1\n",
      "step 18400, training accuracy 1\n",
      "step 18500, training accuracy 1\n",
      "step 18600, training accuracy 1\n",
      "step 18700, training accuracy 1\n",
      "step 18800, training accuracy 1\n",
      "step 18900, training accuracy 1\n",
      "step 19000, training accuracy 1\n",
      "step 19100, training accuracy 1\n",
      "step 19200, training accuracy 1\n",
      "step 19300, training accuracy 1\n",
      "step 19400, training accuracy 1\n",
      "step 19500, training accuracy 1\n",
      "step 19600, training accuracy 1\n",
      "step 19700, training accuracy 1\n",
      "step 19800, training accuracy 1\n",
      "step 19900, training accuracy 1\n",
      "test accuracy 0.9921\n"
     ]
    }
   ],
   "source": [
    "for i in range(20000):\n",
    "  batch = mnist.train.next_batch(50)\n",
    "  if i%100 == 0:\n",
    "    train_accuracy = accuracy.eval(feed_dict={\n",
    "        x:batch[0], y_: batch[1], keep_prob: 1.0})\n",
    "    print(\"step %d, training accuracy %g\"%(i, train_accuracy))\n",
    "  train_step.run(feed_dict={x: batch[0], y_: batch[1], keep_prob: 0.5})\n",
    "\n",
    "print(\"test accuracy %g\"%accuracy.eval(feed_dict={\n",
    "    x: mnist.test.images, y_: mnist.test.labels, keep_prob: 1.0}))"
   ]
  },
  {
   "cell_type": "code",
   "execution_count": 17,
   "metadata": {
    "collapsed": true
   },
   "outputs": [],
   "source": [
    "#Dropout is often very effective at reducing overfitting, \n",
    "#but it is most useful when training very large neural networks. "
   ]
  },
  {
   "cell_type": "code",
   "execution_count": 3,
   "metadata": {
    "collapsed": false
   },
   "outputs": [
    {
     "name": "stderr",
     "output_type": "stream",
     "text": [
      "Using TensorFlow backend.\n"
     ]
    }
   ],
   "source": [
    "from keras.layers import merge\n",
    "from keras.layers.convolutional import Convolution2D, MaxPooling2D, ZeroPadding2D, AveragePooling2D\n",
    "from keras.layers.core import Dense, Activation, Flatten, Dropout\n",
    "from keras.layers.normalization import BatchNormalization\n",
    "from keras.models import Model\n",
    "from keras.layers import Input\n",
    "from keras.preprocessing.image import load_img, img_to_array\n",
    "import keras.backend as K\n",
    "import numpy as np"
   ]
  },
  {
   "cell_type": "code",
   "execution_count": 4,
   "metadata": {
    "collapsed": true
   },
   "outputs": [],
   "source": [
    "\n",
    "def identity_block(input_tensor, kernel_size, filters, stage, block):\n",
    "    \"\"\"\n",
    "    the identity_block is the block that has no conv layer at shortcut\n",
    "    params:\n",
    "        input_tensor: input tensor\n",
    "        kernel_size: defualt 3, the kernel size of middle conv layer at main path\n",
    "        filters: list of integers, the nb_filters of 3 conv layer at main path\n",
    "        stage: integer, current stage label, used for generating layer names\n",
    "        block: 'a','b'..., current block label, used for generating layer names\n",
    "    \"\"\"\n",
    "    dim_ordering = K.image_dim_ordering()\n",
    "    nb_filter1, nb_filter2, nb_filter3 = filters\n",
    "    if dim_ordering == 'tf':\n",
    "        axis = 3\n",
    "    else:\n",
    "        axis = 1\n",
    "    conv_name_base = 'res' + str(stage) + block + '_branch'\n",
    "    bn_name_base = 'bn' + str(stage) + block + '_branch'\n",
    "\n",
    "    \n",
    "    #step 1\n",
    "    out = Convolution2D(nb_filter1, 1, 1, dim_ordering=dim_ordering, name=conv_name_base + '2a')(input_tensor)\n",
    "    out = BatchNormalization(axis=axis, name=bn_name_base + '2a')(out)\n",
    "    out = Activation('relu')(out)\n",
    "\n",
    "    #step 2\n",
    "    out = out = Convolution2D(nb_filter2, kernel_size, kernel_size, border_mode='same',\n",
    "                              dim_ordering=dim_ordering, name=conv_name_base + '2b')(out)\n",
    "    out = BatchNormalization(axis=axis, name=bn_name_base + '2b')(out)\n",
    "    out = Activation('relu')(out)\n",
    "\n",
    "    #step 3\n",
    "    out = Convolution2D(nb_filter3, 1, 1, dim_ordering=dim_ordering, name=conv_name_base + '2c')(out)\n",
    "    out = BatchNormalization(axis=axis, name=bn_name_base + '2c')(out)\n",
    "\n",
    "    #step merge\n",
    "    out = merge([out, input_tensor], mode='sum')\n",
    "    out = Activation('relu')(out)\n",
    "    return out\n",
    "\n",
    "\n",
    "def conv_block(input_tensor, kernel_size, filters, stage, block, strides=(2, 2)):\n",
    "    \"\"\"\n",
    "    conv_block is the block that has a conv layer at shortcut\n",
    "    params:\n",
    "        input_tensor: input tensor\n",
    "        kernel_size: defualt 3, the kernel size of middle conv layer at main path\n",
    "        filters: list of integers, the nb_filters of 3 conv layer at main path\n",
    "        stage: integer, current stage label, used for generating layer names\n",
    "        block: 'a','b'..., current block label, used for generating layer names\n",
    "    Note that from stage 3, the first conv layer at main path is with subsample=(2,2)\n",
    "    And the shortcut should has subsample=(2,2) as well\n",
    "    \"\"\"\n",
    "    nb_filter1, nb_filter2, nb_filter3 = filters\n",
    "    dim_ordering = K.image_dim_ordering()\n",
    "    if dim_ordering == 'tf':\n",
    "        axis = 3\n",
    "    else:\n",
    "        axis = 1\n",
    "    conv_name_base = 'res' + str(stage) + block + '_branch'\n",
    "    bn_name_base = 'bn' + str(stage) + block + '_branch'\n",
    "\n",
    "    #step 1\n",
    "    out = Convolution2D(nb_filter1, 1, 1, subsample=strides,\n",
    "                        dim_ordering=dim_ordering, name=conv_name_base + '2a')(input_tensor)\n",
    "    out = BatchNormalization(axis=axis, name=bn_name_base + '2a')(out)\n",
    "    out = Activation('relu')(out)\n",
    "\n",
    "    #step 2\n",
    "    out = Convolution2D(nb_filter2, kernel_size, kernel_size, border_mode='same',\n",
    "                        dim_ordering=dim_ordering, name=conv_name_base + '2b')(out)\n",
    "    out = BatchNormalization(axis=axis, name=bn_name_base + '2b')(out)\n",
    "    out = Activation('relu')(out)\n",
    "\n",
    "    #step 3\n",
    "    out = Convolution2D(nb_filter3, 1, 1, dim_ordering=dim_ordering, name=conv_name_base + '2c')(out)\n",
    "    out = BatchNormalization(axis=axis, name=bn_name_base + '2c')(out)\n",
    "\n",
    "    shortcut = Convolution2D(nb_filter3, 1, 1, subsample=strides,\n",
    "                             dim_ordering=dim_ordering, name=conv_name_base + '1')(input_tensor)\n",
    "    shortcut = BatchNormalization(axis=axis, name=bn_name_base + '1')(shortcut)\n",
    "\n",
    "    #step merge\n",
    "    out = merge([out, shortcut], mode='sum')\n",
    "    out = Activation('relu')(out)\n",
    "    return out\n",
    "\n"
   ]
  },
  {
   "cell_type": "code",
   "execution_count": 5,
   "metadata": {
    "collapsed": false
   },
   "outputs": [
    {
     "data": {
      "text/plain": [
       "'tf'"
      ]
     },
     "execution_count": 5,
     "metadata": {},
     "output_type": "execute_result"
    }
   ],
   "source": [
    "K.image_dim_ordering()"
   ]
  },
  {
   "cell_type": "code",
   "execution_count": 10,
   "metadata": {
    "collapsed": false,
    "scrolled": true
   },
   "outputs": [
    {
     "name": "stdout",
     "output_type": "stream",
     "text": [
      "Train on 8000 samples, validate on 2000 samples\n",
      "Epoch 1/100\n",
      "8000/8000 [==============================] - 13s - loss: 0.5034 - acc: 0.8436 - val_loss: 3.9319 - val_acc: 0.4170\n",
      "Epoch 2/100\n",
      "8000/8000 [==============================] - 11s - loss: 0.1506 - acc: 0.9521 - val_loss: 0.1269 - val_acc: 0.9615\n",
      "Epoch 3/100\n",
      "8000/8000 [==============================] - 11s - loss: 0.1122 - acc: 0.9632 - val_loss: 0.2297 - val_acc: 0.9310\n",
      "Epoch 4/100\n",
      "8000/8000 [==============================] - 11s - loss: 0.0896 - acc: 0.9712 - val_loss: 0.5306 - val_acc: 0.8510\n",
      "Epoch 5/100\n",
      "8000/8000 [==============================] - 11s - loss: 0.0834 - acc: 0.9739 - val_loss: 0.2545 - val_acc: 0.9320\n",
      "Epoch 6/100\n",
      "8000/8000 [==============================] - 11s - loss: 0.0709 - acc: 0.9760 - val_loss: 0.1822 - val_acc: 0.9550\n",
      "Epoch 7/100\n",
      "8000/8000 [==============================] - 11s - loss: 0.0656 - acc: 0.9769 - val_loss: 0.2546 - val_acc: 0.9375\n",
      "Epoch 8/100\n",
      "8000/8000 [==============================] - 11s - loss: 0.0592 - acc: 0.9820 - val_loss: 0.6787 - val_acc: 0.8670\n",
      "Epoch 9/100\n",
      "8000/8000 [==============================] - 11s - loss: 0.0535 - acc: 0.9820 - val_loss: 2.5459 - val_acc: 0.6620\n",
      "Epoch 10/100\n",
      "8000/8000 [==============================] - 11s - loss: 0.0479 - acc: 0.9819 - val_loss: 0.0775 - val_acc: 0.9815\n",
      "Epoch 11/100\n",
      "8000/8000 [==============================] - 11s - loss: 0.0431 - acc: 0.9870 - val_loss: 0.0797 - val_acc: 0.9785\n",
      "Epoch 12/100\n",
      "8000/8000 [==============================] - 11s - loss: 0.0416 - acc: 0.9836 - val_loss: 0.2931 - val_acc: 0.9205\n",
      "Epoch 13/100\n",
      "8000/8000 [==============================] - 11s - loss: 0.0429 - acc: 0.9859 - val_loss: 0.3399 - val_acc: 0.9120\n",
      "Epoch 14/100\n",
      "8000/8000 [==============================] - 11s - loss: 0.0402 - acc: 0.9850 - val_loss: 0.1059 - val_acc: 0.9745\n",
      "Epoch 15/100\n",
      "8000/8000 [==============================] - 11s - loss: 0.0373 - acc: 0.9869 - val_loss: 0.1138 - val_acc: 0.9655\n",
      "Epoch 16/100\n",
      "8000/8000 [==============================] - 11s - loss: 0.0347 - acc: 0.9897 - val_loss: 0.1447 - val_acc: 0.9665\n",
      "Epoch 17/100\n",
      "8000/8000 [==============================] - 11s - loss: 0.0255 - acc: 0.9914 - val_loss: 4.2577 - val_acc: 0.5800\n",
      "Epoch 18/100\n",
      "8000/8000 [==============================] - 11s - loss: 0.0291 - acc: 0.9909 - val_loss: 0.4846 - val_acc: 0.9150\n",
      "Epoch 19/100\n",
      "8000/8000 [==============================] - 11s - loss: 0.0288 - acc: 0.9900 - val_loss: 0.4766 - val_acc: 0.8865\n",
      "Epoch 20/100\n",
      "8000/8000 [==============================] - 11s - loss: 0.0280 - acc: 0.9914 - val_loss: 0.0812 - val_acc: 0.9755\n",
      "Epoch 21/100\n",
      "8000/8000 [==============================] - 11s - loss: 0.0234 - acc: 0.9923 - val_loss: 0.0963 - val_acc: 0.9740\n",
      "Epoch 22/100\n",
      "8000/8000 [==============================] - 11s - loss: 0.0212 - acc: 0.9926 - val_loss: 0.1596 - val_acc: 0.9650\n",
      "Epoch 23/100\n",
      "8000/8000 [==============================] - 11s - loss: 0.0281 - acc: 0.9915 - val_loss: 0.0685 - val_acc: 0.9840\n",
      "Epoch 24/100\n",
      "8000/8000 [==============================] - 11s - loss: 0.0254 - acc: 0.9914 - val_loss: 0.0653 - val_acc: 0.9840\n",
      "Epoch 25/100\n",
      "8000/8000 [==============================] - 11s - loss: 0.0157 - acc: 0.9938 - val_loss: 0.0886 - val_acc: 0.9800\n",
      "Epoch 26/100\n",
      "8000/8000 [==============================] - 11s - loss: 0.0205 - acc: 0.9929 - val_loss: 1.7306 - val_acc: 0.7325\n",
      "Epoch 27/100\n",
      "8000/8000 [==============================] - 11s - loss: 0.0205 - acc: 0.9932 - val_loss: 1.9985 - val_acc: 0.7080\n",
      "Epoch 28/100\n",
      "8000/8000 [==============================] - 11s - loss: 0.0161 - acc: 0.9935 - val_loss: 0.2008 - val_acc: 0.9525\n",
      "Epoch 29/100\n",
      "8000/8000 [==============================] - 11s - loss: 0.0214 - acc: 0.9930 - val_loss: 0.4076 - val_acc: 0.9235\n",
      "Epoch 30/100\n",
      "8000/8000 [==============================] - 11s - loss: 0.0164 - acc: 0.9946 - val_loss: 0.2230 - val_acc: 0.9585\n",
      "Epoch 31/100\n",
      "8000/8000 [==============================] - 11s - loss: 0.0173 - acc: 0.9936 - val_loss: 0.0802 - val_acc: 0.9860\n",
      "Epoch 32/100\n",
      "8000/8000 [==============================] - 11s - loss: 0.0159 - acc: 0.9936 - val_loss: 0.2509 - val_acc: 0.9495\n",
      "Epoch 33/100\n",
      "8000/8000 [==============================] - 11s - loss: 0.0190 - acc: 0.9942 - val_loss: 0.0754 - val_acc: 0.9830\n",
      "Epoch 34/100\n",
      "8000/8000 [==============================] - 11s - loss: 0.0127 - acc: 0.9955 - val_loss: 0.0825 - val_acc: 0.9850\n",
      "Epoch 35/100\n",
      "8000/8000 [==============================] - 11s - loss: 0.0153 - acc: 0.9946 - val_loss: 0.3045 - val_acc: 0.9450\n",
      "Epoch 36/100\n",
      "8000/8000 [==============================] - 11s - loss: 0.0147 - acc: 0.9955 - val_loss: 0.0913 - val_acc: 0.9845\n",
      "Epoch 37/100\n",
      "8000/8000 [==============================] - 11s - loss: 0.0117 - acc: 0.9959 - val_loss: 0.0862 - val_acc: 0.9845\n",
      "Epoch 38/100\n",
      "8000/8000 [==============================] - 11s - loss: 0.0137 - acc: 0.9948 - val_loss: 0.0802 - val_acc: 0.9860\n",
      "Epoch 39/100\n",
      "8000/8000 [==============================] - 11s - loss: 0.0097 - acc: 0.9970 - val_loss: 0.0908 - val_acc: 0.9820\n",
      "Epoch 40/100\n",
      "8000/8000 [==============================] - 11s - loss: 0.0108 - acc: 0.9960 - val_loss: 0.2578 - val_acc: 0.9485\n",
      "Epoch 41/100\n",
      "8000/8000 [==============================] - 11s - loss: 0.0115 - acc: 0.9966 - val_loss: 0.0792 - val_acc: 0.9865\n",
      "Epoch 42/100\n",
      "8000/8000 [==============================] - 11s - loss: 0.0117 - acc: 0.9965 - val_loss: 0.0810 - val_acc: 0.9850\n",
      "Epoch 43/100\n",
      "8000/8000 [==============================] - 11s - loss: 0.0083 - acc: 0.9970 - val_loss: 0.1124 - val_acc: 0.9760\n",
      "Epoch 44/100\n",
      "8000/8000 [==============================] - 11s - loss: 0.0074 - acc: 0.9974 - val_loss: 0.0977 - val_acc: 0.9845\n",
      "Epoch 45/100\n",
      "8000/8000 [==============================] - 11s - loss: 0.0101 - acc: 0.9965 - val_loss: 0.1312 - val_acc: 0.9735\n",
      "Epoch 46/100\n",
      "8000/8000 [==============================] - 11s - loss: 0.0093 - acc: 0.9965 - val_loss: 0.0708 - val_acc: 0.9845\n",
      "Epoch 47/100\n",
      "8000/8000 [==============================] - 11s - loss: 0.0081 - acc: 0.9975 - val_loss: 0.0788 - val_acc: 0.9860\n",
      "Epoch 48/100\n",
      "8000/8000 [==============================] - 11s - loss: 0.0083 - acc: 0.9967 - val_loss: 0.0798 - val_acc: 0.9840\n",
      "Epoch 49/100\n",
      "8000/8000 [==============================] - 11s - loss: 0.0065 - acc: 0.9978 - val_loss: 0.3273 - val_acc: 0.9500\n",
      "Epoch 50/100\n",
      "8000/8000 [==============================] - 11s - loss: 0.0096 - acc: 0.9962 - val_loss: 0.6061 - val_acc: 0.8940\n",
      "Epoch 51/100\n",
      "8000/8000 [==============================] - 11s - loss: 0.0069 - acc: 0.9971 - val_loss: 0.1010 - val_acc: 0.9810\n",
      "Epoch 52/100\n",
      "8000/8000 [==============================] - 11s - loss: 0.0073 - acc: 0.9975 - val_loss: 0.1179 - val_acc: 0.9805\n",
      "Epoch 53/100\n",
      "8000/8000 [==============================] - 11s - loss: 0.0068 - acc: 0.9975 - val_loss: 0.2546 - val_acc: 0.9630\n",
      "Epoch 54/100\n",
      "8000/8000 [==============================] - 11s - loss: 0.0092 - acc: 0.9970 - val_loss: 1.7184 - val_acc: 0.7860\n",
      "Epoch 55/100\n",
      "8000/8000 [==============================] - 11s - loss: 0.0076 - acc: 0.9975 - val_loss: 0.0897 - val_acc: 0.9855\n",
      "Epoch 56/100\n",
      "8000/8000 [==============================] - 11s - loss: 0.0087 - acc: 0.9971 - val_loss: 0.1160 - val_acc: 0.9800\n",
      "Epoch 57/100\n",
      "8000/8000 [==============================] - 11s - loss: 0.0067 - acc: 0.9976 - val_loss: 0.1655 - val_acc: 0.9725\n",
      "Epoch 58/100\n",
      "8000/8000 [==============================] - 11s - loss: 0.0086 - acc: 0.9970 - val_loss: 0.0917 - val_acc: 0.9820\n",
      "Epoch 59/100\n",
      "8000/8000 [==============================] - 11s - loss: 0.0071 - acc: 0.9976 - val_loss: 0.1307 - val_acc: 0.9785\n",
      "Epoch 60/100\n",
      "8000/8000 [==============================] - 11s - loss: 0.0057 - acc: 0.9979 - val_loss: 0.0814 - val_acc: 0.9880\n",
      "Epoch 61/100\n",
      "8000/8000 [==============================] - 11s - loss: 0.0068 - acc: 0.9971 - val_loss: 0.1248 - val_acc: 0.9815\n",
      "Epoch 62/100\n",
      "8000/8000 [==============================] - 11s - loss: 0.0072 - acc: 0.9979 - val_loss: 0.0891 - val_acc: 0.9855\n",
      "Epoch 63/100\n",
      "8000/8000 [==============================] - 11s - loss: 0.0045 - acc: 0.9983 - val_loss: 0.0633 - val_acc: 0.9880\n",
      "Epoch 64/100\n",
      "8000/8000 [==============================] - 11s - loss: 0.0068 - acc: 0.9974 - val_loss: 0.0865 - val_acc: 0.9865\n",
      "Epoch 65/100\n",
      "8000/8000 [==============================] - 11s - loss: 0.0058 - acc: 0.9979 - val_loss: 0.1985 - val_acc: 0.9560\n",
      "Epoch 66/100\n",
      "8000/8000 [==============================] - 11s - loss: 0.0040 - acc: 0.9981 - val_loss: 0.0866 - val_acc: 0.9860\n",
      "Epoch 67/100\n",
      "8000/8000 [==============================] - 11s - loss: 0.0059 - acc: 0.9980 - val_loss: 0.2252 - val_acc: 0.9665\n",
      "Epoch 68/100\n",
      "8000/8000 [==============================] - 11s - loss: 0.0055 - acc: 0.9983 - val_loss: 0.1259 - val_acc: 0.9815\n",
      "Epoch 69/100\n",
      "8000/8000 [==============================] - 11s - loss: 0.0092 - acc: 0.9965 - val_loss: 0.1023 - val_acc: 0.9835\n",
      "Epoch 70/100\n",
      "8000/8000 [==============================] - 11s - loss: 0.0027 - acc: 0.9989 - val_loss: 0.1365 - val_acc: 0.9795\n",
      "Epoch 71/100\n",
      "8000/8000 [==============================] - 11s - loss: 0.0074 - acc: 0.9971 - val_loss: 0.1060 - val_acc: 0.9845\n",
      "Epoch 72/100\n",
      "8000/8000 [==============================] - 11s - loss: 0.0042 - acc: 0.9984 - val_loss: 0.1161 - val_acc: 0.9845\n",
      "Epoch 73/100\n",
      "8000/8000 [==============================] - 11s - loss: 0.0048 - acc: 0.9981 - val_loss: 0.0943 - val_acc: 0.9835\n",
      "Epoch 74/100\n",
      "8000/8000 [==============================] - 11s - loss: 0.0072 - acc: 0.9975 - val_loss: 0.0832 - val_acc: 0.9865\n",
      "Epoch 75/100\n",
      "8000/8000 [==============================] - 11s - loss: 0.0047 - acc: 0.9985 - val_loss: 0.0859 - val_acc: 0.9865\n",
      "Epoch 76/100\n",
      "8000/8000 [==============================] - 11s - loss: 0.0063 - acc: 0.9981 - val_loss: 0.1065 - val_acc: 0.9860\n",
      "Epoch 77/100\n",
      "8000/8000 [==============================] - 11s - loss: 0.0057 - acc: 0.9979 - val_loss: 0.0750 - val_acc: 0.9870\n",
      "Epoch 78/100\n",
      "8000/8000 [==============================] - 11s - loss: 0.0049 - acc: 0.9983 - val_loss: 0.1389 - val_acc: 0.9805\n",
      "Epoch 79/100\n",
      "8000/8000 [==============================] - 11s - loss: 0.0038 - acc: 0.9990 - val_loss: 0.1062 - val_acc: 0.9805\n",
      "Epoch 80/100\n",
      "8000/8000 [==============================] - 11s - loss: 0.0025 - acc: 0.9991 - val_loss: 0.1367 - val_acc: 0.9825\n",
      "Epoch 81/100\n",
      "8000/8000 [==============================] - 11s - loss: 0.0041 - acc: 0.9981 - val_loss: 0.0951 - val_acc: 0.9860\n",
      "Epoch 82/100\n",
      "8000/8000 [==============================] - 11s - loss: 0.0062 - acc: 0.9985 - val_loss: 0.1195 - val_acc: 0.9840\n",
      "Epoch 83/100\n",
      "8000/8000 [==============================] - 11s - loss: 0.0062 - acc: 0.9979 - val_loss: 0.0876 - val_acc: 0.9860\n",
      "Epoch 84/100\n",
      "8000/8000 [==============================] - 11s - loss: 0.0058 - acc: 0.9981 - val_loss: 0.1022 - val_acc: 0.9870\n",
      "Epoch 85/100\n",
      "8000/8000 [==============================] - 11s - loss: 0.0058 - acc: 0.9985 - val_loss: 0.1077 - val_acc: 0.9860\n",
      "Epoch 86/100\n",
      "8000/8000 [==============================] - 11s - loss: 0.0048 - acc: 0.9986 - val_loss: 0.0888 - val_acc: 0.9885\n",
      "Epoch 87/100\n",
      "8000/8000 [==============================] - 11s - loss: 0.0032 - acc: 0.9988 - val_loss: 0.1004 - val_acc: 0.9850\n",
      "Epoch 88/100\n",
      "8000/8000 [==============================] - 11s - loss: 0.0032 - acc: 0.9991 - val_loss: 0.0859 - val_acc: 0.9885\n",
      "Epoch 89/100\n",
      "8000/8000 [==============================] - 11s - loss: 0.0025 - acc: 0.9991 - val_loss: 3.2981 - val_acc: 0.6945\n",
      "Epoch 90/100\n",
      "8000/8000 [==============================] - 11s - loss: 0.0048 - acc: 0.9988 - val_loss: 0.0954 - val_acc: 0.9880\n",
      "Epoch 91/100\n",
      "8000/8000 [==============================] - 11s - loss: 0.0024 - acc: 0.9990 - val_loss: 0.1029 - val_acc: 0.9825\n",
      "Epoch 92/100\n",
      "8000/8000 [==============================] - 11s - loss: 0.0040 - acc: 0.9985 - val_loss: 0.0886 - val_acc: 0.9860\n",
      "Epoch 93/100\n",
      "8000/8000 [==============================] - 11s - loss: 0.0034 - acc: 0.9991 - val_loss: 0.1061 - val_acc: 0.9860\n",
      "Epoch 94/100\n",
      "8000/8000 [==============================] - 11s - loss: 0.0056 - acc: 0.9985 - val_loss: 0.1229 - val_acc: 0.9840\n",
      "Epoch 95/100\n",
      "8000/8000 [==============================] - 11s - loss: 0.0031 - acc: 0.9989 - val_loss: 0.1172 - val_acc: 0.9850\n",
      "Epoch 96/100\n",
      "8000/8000 [==============================] - 11s - loss: 0.0078 - acc: 0.9976 - val_loss: 0.1006 - val_acc: 0.9860\n",
      "Epoch 97/100\n",
      "8000/8000 [==============================] - 11s - loss: 0.0036 - acc: 0.9990 - val_loss: 0.1318 - val_acc: 0.9815\n",
      "Epoch 98/100\n",
      "8000/8000 [==============================] - 11s - loss: 0.0040 - acc: 0.9983 - val_loss: 0.0871 - val_acc: 0.9880\n",
      "Epoch 99/100\n",
      "8000/8000 [==============================] - 11s - loss: 0.0033 - acc: 0.9989 - val_loss: 0.1653 - val_acc: 0.9730\n",
      "Epoch 100/100\n",
      "8000/8000 [==============================] - 11s - loss: 0.0032 - acc: 0.9986 - val_loss: 0.0967 - val_acc: 0.9855\n"
     ]
    },
    {
     "data": {
      "text/plain": [
       "<keras.callbacks.History at 0x7f1b48cb3990>"
      ]
     },
     "execution_count": 10,
     "metadata": {},
     "output_type": "execute_result"
    }
   ],
   "source": [
    "import tensorflow as tf\n",
    "\n",
    "tf.python.control_flow_ops = tf\n",
    "\n",
    "inputs = Input(shape=(28,28,1))\n",
    "#1.(28,28,1)    \n",
    "    \n",
    "dim_ordering = K.image_dim_ordering()\n",
    "out = ZeroPadding2D((3, 3), dim_ordering=dim_ordering)(inputs)\n",
    "#2(34,34,1)\n",
    "out = Convolution2D(32, 3, 3, subsample=(1, 1), dim_ordering=dim_ordering, name='conv1')(out)\n",
    "#3(32,32,64)\n",
    "out = Activation('relu')(out)\n",
    "#4(32,32,64)\n",
    "\n",
    "out = conv_block(out, 3, [32, 32, 64], stage=2, block='a', strides=(1, 1))\n",
    "#5(32,32,                         64)\n",
    "out = identity_block(out, 3, [32, 32, 64], stage=2, block='b')\n",
    "#6(32,32,                             64)\n",
    "out = identity_block(out, 3, [32, 32, 64], stage=2, block='c')\n",
    "#7(32,32,                             64)\n",
    "\n",
    "'''\n",
    "out = conv_block(out, 3, [64, 64, 128], stage=3, block='a')\n",
    "#8(16,16,128)\n",
    "out = identity_block(out, 3, [64, 64, 128], stage=3, block='b')\n",
    "#9(16,16,128)\n",
    "out = identity_block(out, 3, [64, 64, 128], stage=3, block='c')\n",
    "#10(16,16,128)\n",
    "\n",
    "\n",
    "out = conv_block(out, 3, [128, 128, 256], stage=4, block='a')\n",
    "out = identity_block(out, 3, [128, 128, 256], stage=4, block='b')\n",
    "out = identity_block(out, 3, [128, 128, 256], stage=4, block='c')\n",
    "\n",
    "\n",
    "out = conv_block(out, 3, [256, 256, 512], stage=5, block='a')\n",
    "out = identity_block(out, 3, [256, 256, 512], stage=5, block='b')\n",
    "out = identity_block(out, 3, [256, 256, 512], stage=5, block='c')\n",
    "\n",
    "\n",
    "out = conv_block(out, 3, [256, 256, 512], stage=6, block='a')\n",
    "out = identity_block(out, 3, [256, 256, 512], stage=6, block='b')\n",
    "out = identity_block(out, 3, [256, 256, 512], stage=6, block='c')\n",
    "'''\n",
    "\n",
    "\n",
    "out = AveragePooling2D((8,8 ), dim_ordering=dim_ordering)(out) #1->16,2->8,3->5,4->4,5->3,6->2,7->2 ==> 16/7=2\n",
    "#11(8,8,128)\n",
    "out = Flatten()(out)\n",
    "#12(8192)\n",
    "out = Dropout(0.2)(out)\n",
    "\n",
    "out = Dense(10, activation='softmax', name='fc1000')(out)\n",
    "#out = Convolution2D(64, 7, 7, subsample=(2, 2), dim_ordering=dim_ordering, name='conv1')(out)\n",
    "#out = BatchNormalization(axis=axis, name='bn_conv1')(out)\n",
    "#out = Activation('relu')(out)\n",
    "#out = MaxPooling2D((3, 3), strides=(2, 2), dim_ordering=dim_ordering)(out)\n",
    "\n",
    "'''\n",
    "out = conv_block(out, 3, [64, 64, 256], stage=2, block='a', strides=(1, 1))\n",
    "out = identity_block(out, 3, [64, 64, 256], stage=2, block='b')\n",
    "out = identity_block(out, 3, [64, 64, 256], stage=2, block='c')\n",
    "\n",
    "out = conv_block(out, 3, [128, 128, 512], stage=3, block='a')\n",
    "out = identity_block(out, 3, [128, 128, 512], stage=3, block='b')\n",
    "out = identity_block(out, 3, [128, 128, 512], stage=3, block='c')\n",
    "out = identity_block(out, 3, [128, 128, 512], stage=3, block='d')\n",
    "\n",
    "out = conv_block(out, 3, [256, 256, 1024], stage=4, block='a')\n",
    "out = identity_block(out, 3, [256, 256, 1024], stage=4, block='b')\n",
    "out = identity_block(out, 3, [256, 256, 1024], stage=4, block='c')\n",
    "out = identity_block(out, 3, [256, 256, 1024], stage=4, block='d')\n",
    "out = identity_block(out, 3, [256, 256, 1024], stage=4, block='e')\n",
    "out = identity_block(out, 3, [256, 256, 1024], stage=4, block='f')\n",
    "\n",
    "out = conv_block(out, 3, [512, 512, 2048], stage=5, block='a')\n",
    "out = identity_block(out, 3, [512, 512, 2048], stage=5, block='b')\n",
    "out = identity_block(out, 3, [512, 512, 2048], stage=5, block='c')\n",
    "\n",
    "out = AveragePooling2D((7, 7), dim_ordering=dim_ordering)(out)\n",
    "out = Flatten()(out)\n",
    "out = Dense(10, activation='softmax', name='fc1000')(out)\n",
    "'''\n",
    "model = Model(inputs, out)\n",
    "\n",
    "model.compile(optimizer='rmsprop',\n",
    "              loss='categorical_crossentropy',\n",
    "              metrics=['accuracy'])\n",
    "batch = mnist.train.next_batch(10000)\n",
    "#model.fit(data, labels)  # starts training\n",
    "temp = np.reshape(batch[0], (10000,28,28,1))\n",
    "model.fit(temp, batch[1],validation_split=0.2,nb_epoch=100)  # starts training\n",
    "#model.fit(X, Y, validation_split=0.33, nb_epoch=150, batch_size=10)\n",
    "\n",
    "#You can do this by setting the validation_split argument on the fit() function to a percentage of the size of your training dataset.\n"
   ]
  },
  {
   "cell_type": "code",
   "execution_count": 11,
   "metadata": {
    "collapsed": false
   },
   "outputs": [
    {
     "name": "stdout",
     "output_type": "stream",
     "text": [
      " 9984/10000 [============================>.] - ETA: 0sTest classification rate 0.98390\n"
     ]
    }
   ],
   "source": [
    "from keras.models import Sequential\n",
    "import pandas as pd\n",
    "\n",
    "X_train,y_train=mnist.train.next_batch(10000)\n",
    "X_test,y_test=mnist.test.next_batch(10000)\n",
    "X_train = X_train.reshape(X_train.shape[0],  28, 28,1).astype('float32') \n",
    "X_test = X_test.reshape(X_test.shape[0], 28, 28,1).astype('float32') \n",
    "Y_train = y_train\n",
    "Y_test = y_test\n",
    "\n",
    "\n",
    "\n",
    "\n",
    "print(\"Test classification rate %0.05f\" % model.evaluate(X_test, Y_test)[1])\n",
    "#y_hat = model.predict(X_test)\n",
    "#print(y_hat)\n",
    "#pd.crosstab(y_hat, y_test[0])\n",
    "#y_test.shape"
   ]
  },
  {
   "cell_type": "code",
   "execution_count": 48,
   "metadata": {
    "collapsed": false
   },
   "outputs": [
    {
     "name": "stdout",
     "output_type": "stream",
     "text": [
      "____________________________________________________________________________________________________\n",
      "Layer (type)                     Output Shape          Param #     Connected to                     \n",
      "====================================================================================================\n",
      "input_20 (InputLayer)            (None, 28, 28, 1)     0                                            \n",
      "____________________________________________________________________________________________________\n",
      "zeropadding2d_20 (ZeroPadding2D) (None, 34, 34, 1)     0           input_20[0][0]                   \n",
      "____________________________________________________________________________________________________\n",
      "conv1 (Convolution2D)            (None, 32, 32, 64)    640         zeropadding2d_20[0][0]           \n",
      "____________________________________________________________________________________________________\n",
      "activation_530 (Activation)      (None, 32, 32, 64)    0           conv1[0][0]                      \n",
      "____________________________________________________________________________________________________\n",
      "res2a_branch2a (Convolution2D)   (None, 32, 32, 32)    2080        activation_530[0][0]             \n",
      "____________________________________________________________________________________________________\n",
      "bn2a_branch2a (BatchNormalizatio (None, 32, 32, 32)    64          res2a_branch2a[0][0]             \n",
      "____________________________________________________________________________________________________\n",
      "activation_531 (Activation)      (None, 32, 32, 32)    0           bn2a_branch2a[0][0]              \n",
      "____________________________________________________________________________________________________\n",
      "res2a_branch2b (Convolution2D)   (None, 32, 32, 32)    9248        activation_531[0][0]             \n",
      "____________________________________________________________________________________________________\n",
      "bn2a_branch2b (BatchNormalizatio (None, 32, 32, 32)    64          res2a_branch2b[0][0]             \n",
      "____________________________________________________________________________________________________\n",
      "activation_532 (Activation)      (None, 32, 32, 32)    0           bn2a_branch2b[0][0]              \n",
      "____________________________________________________________________________________________________\n",
      "res2a_branch2c (Convolution2D)   (None, 32, 32, 64)    2112        activation_532[0][0]             \n",
      "____________________________________________________________________________________________________\n",
      "res2a_branch1 (Convolution2D)    (None, 32, 32, 64)    4160        activation_530[0][0]             \n",
      "____________________________________________________________________________________________________\n",
      "bn2a_branch2c (BatchNormalizatio (None, 32, 32, 64)    128         res2a_branch2c[0][0]             \n",
      "____________________________________________________________________________________________________\n",
      "bn2a_branch1 (BatchNormalization (None, 32, 32, 64)    128         res2a_branch1[0][0]              \n",
      "____________________________________________________________________________________________________\n",
      "merge_171 (Merge)                (None, 32, 32, 64)    0           bn2a_branch2c[0][0]              \n",
      "                                                                   bn2a_branch1[0][0]               \n",
      "____________________________________________________________________________________________________\n",
      "activation_533 (Activation)      (None, 32, 32, 64)    0           merge_171[0][0]                  \n",
      "____________________________________________________________________________________________________\n",
      "res2b_branch2a (Convolution2D)   (None, 32, 32, 32)    2080        activation_533[0][0]             \n",
      "____________________________________________________________________________________________________\n",
      "bn2b_branch2a (BatchNormalizatio (None, 32, 32, 32)    64          res2b_branch2a[0][0]             \n",
      "____________________________________________________________________________________________________\n",
      "activation_534 (Activation)      (None, 32, 32, 32)    0           bn2b_branch2a[0][0]              \n",
      "____________________________________________________________________________________________________\n",
      "res2b_branch2b (Convolution2D)   (None, 32, 32, 32)    9248        activation_534[0][0]             \n",
      "____________________________________________________________________________________________________\n",
      "bn2b_branch2b (BatchNormalizatio (None, 32, 32, 32)    64          res2b_branch2b[0][0]             \n",
      "____________________________________________________________________________________________________\n",
      "activation_535 (Activation)      (None, 32, 32, 32)    0           bn2b_branch2b[0][0]              \n",
      "____________________________________________________________________________________________________\n",
      "res2b_branch2c (Convolution2D)   (None, 32, 32, 64)    2112        activation_535[0][0]             \n",
      "____________________________________________________________________________________________________\n",
      "bn2b_branch2c (BatchNormalizatio (None, 32, 32, 64)    128         res2b_branch2c[0][0]             \n",
      "____________________________________________________________________________________________________\n",
      "merge_172 (Merge)                (None, 32, 32, 64)    0           bn2b_branch2c[0][0]              \n",
      "                                                                   activation_533[0][0]             \n",
      "____________________________________________________________________________________________________\n",
      "activation_536 (Activation)      (None, 32, 32, 64)    0           merge_172[0][0]                  \n",
      "____________________________________________________________________________________________________\n",
      "res2c_branch2a (Convolution2D)   (None, 32, 32, 32)    2080        activation_536[0][0]             \n",
      "____________________________________________________________________________________________________\n",
      "bn2c_branch2a (BatchNormalizatio (None, 32, 32, 32)    64          res2c_branch2a[0][0]             \n",
      "____________________________________________________________________________________________________\n",
      "activation_537 (Activation)      (None, 32, 32, 32)    0           bn2c_branch2a[0][0]              \n",
      "____________________________________________________________________________________________________\n",
      "res2c_branch2b (Convolution2D)   (None, 32, 32, 32)    9248        activation_537[0][0]             \n",
      "____________________________________________________________________________________________________\n",
      "bn2c_branch2b (BatchNormalizatio (None, 32, 32, 32)    64          res2c_branch2b[0][0]             \n",
      "____________________________________________________________________________________________________\n",
      "activation_538 (Activation)      (None, 32, 32, 32)    0           bn2c_branch2b[0][0]              \n",
      "____________________________________________________________________________________________________\n",
      "res2c_branch2c (Convolution2D)   (None, 32, 32, 64)    2112        activation_538[0][0]             \n",
      "____________________________________________________________________________________________________\n",
      "bn2c_branch2c (BatchNormalizatio (None, 32, 32, 64)    128         res2c_branch2c[0][0]             \n",
      "____________________________________________________________________________________________________\n",
      "merge_173 (Merge)                (None, 32, 32, 64)    0           bn2c_branch2c[0][0]              \n",
      "                                                                   activation_536[0][0]             \n",
      "____________________________________________________________________________________________________\n",
      "activation_539 (Activation)      (None, 32, 32, 64)    0           merge_173[0][0]                  \n",
      "____________________________________________________________________________________________________\n",
      "res3a_branch2a (Convolution2D)   (None, 16, 16, 64)    4160        activation_539[0][0]             \n",
      "____________________________________________________________________________________________________\n",
      "bn3a_branch2a (BatchNormalizatio (None, 16, 16, 64)    128         res3a_branch2a[0][0]             \n",
      "____________________________________________________________________________________________________\n",
      "activation_540 (Activation)      (None, 16, 16, 64)    0           bn3a_branch2a[0][0]              \n",
      "____________________________________________________________________________________________________\n",
      "res3a_branch2b (Convolution2D)   (None, 16, 16, 64)    36928       activation_540[0][0]             \n",
      "____________________________________________________________________________________________________\n",
      "bn3a_branch2b (BatchNormalizatio (None, 16, 16, 64)    128         res3a_branch2b[0][0]             \n",
      "____________________________________________________________________________________________________\n",
      "activation_541 (Activation)      (None, 16, 16, 64)    0           bn3a_branch2b[0][0]              \n",
      "____________________________________________________________________________________________________\n",
      "res3a_branch2c (Convolution2D)   (None, 16, 16, 128)   8320        activation_541[0][0]             \n",
      "____________________________________________________________________________________________________\n",
      "res3a_branch1 (Convolution2D)    (None, 16, 16, 128)   8320        activation_539[0][0]             \n",
      "____________________________________________________________________________________________________\n",
      "bn3a_branch2c (BatchNormalizatio (None, 16, 16, 128)   256         res3a_branch2c[0][0]             \n",
      "____________________________________________________________________________________________________\n",
      "bn3a_branch1 (BatchNormalization (None, 16, 16, 128)   256         res3a_branch1[0][0]              \n",
      "____________________________________________________________________________________________________\n",
      "merge_174 (Merge)                (None, 16, 16, 128)   0           bn3a_branch2c[0][0]              \n",
      "                                                                   bn3a_branch1[0][0]               \n",
      "____________________________________________________________________________________________________\n",
      "activation_542 (Activation)      (None, 16, 16, 128)   0           merge_174[0][0]                  \n",
      "____________________________________________________________________________________________________\n",
      "res3b_branch2a (Convolution2D)   (None, 16, 16, 64)    8256        activation_542[0][0]             \n",
      "____________________________________________________________________________________________________\n",
      "bn3b_branch2a (BatchNormalizatio (None, 16, 16, 64)    128         res3b_branch2a[0][0]             \n",
      "____________________________________________________________________________________________________\n",
      "activation_543 (Activation)      (None, 16, 16, 64)    0           bn3b_branch2a[0][0]              \n",
      "____________________________________________________________________________________________________\n",
      "res3b_branch2b (Convolution2D)   (None, 16, 16, 64)    36928       activation_543[0][0]             \n",
      "____________________________________________________________________________________________________\n",
      "bn3b_branch2b (BatchNormalizatio (None, 16, 16, 64)    128         res3b_branch2b[0][0]             \n",
      "____________________________________________________________________________________________________\n",
      "activation_544 (Activation)      (None, 16, 16, 64)    0           bn3b_branch2b[0][0]              \n",
      "____________________________________________________________________________________________________\n",
      "res3b_branch2c (Convolution2D)   (None, 16, 16, 128)   8320        activation_544[0][0]             \n",
      "____________________________________________________________________________________________________\n",
      "bn3b_branch2c (BatchNormalizatio (None, 16, 16, 128)   256         res3b_branch2c[0][0]             \n",
      "____________________________________________________________________________________________________\n",
      "merge_175 (Merge)                (None, 16, 16, 128)   0           bn3b_branch2c[0][0]              \n",
      "                                                                   activation_542[0][0]             \n",
      "____________________________________________________________________________________________________\n",
      "activation_545 (Activation)      (None, 16, 16, 128)   0           merge_175[0][0]                  \n",
      "____________________________________________________________________________________________________\n",
      "res3c_branch2a (Convolution2D)   (None, 16, 16, 64)    8256        activation_545[0][0]             \n",
      "____________________________________________________________________________________________________\n",
      "bn3c_branch2a (BatchNormalizatio (None, 16, 16, 64)    128         res3c_branch2a[0][0]             \n",
      "____________________________________________________________________________________________________\n",
      "activation_546 (Activation)      (None, 16, 16, 64)    0           bn3c_branch2a[0][0]              \n",
      "____________________________________________________________________________________________________\n",
      "res3c_branch2b (Convolution2D)   (None, 16, 16, 64)    36928       activation_546[0][0]             \n",
      "____________________________________________________________________________________________________\n",
      "bn3c_branch2b (BatchNormalizatio (None, 16, 16, 64)    128         res3c_branch2b[0][0]             \n",
      "____________________________________________________________________________________________________\n",
      "activation_547 (Activation)      (None, 16, 16, 64)    0           bn3c_branch2b[0][0]              \n",
      "____________________________________________________________________________________________________\n",
      "res3c_branch2c (Convolution2D)   (None, 16, 16, 128)   8320        activation_547[0][0]             \n",
      "____________________________________________________________________________________________________\n",
      "bn3c_branch2c (BatchNormalizatio (None, 16, 16, 128)   256         res3c_branch2c[0][0]             \n",
      "____________________________________________________________________________________________________\n",
      "merge_176 (Merge)                (None, 16, 16, 128)   0           bn3c_branch2c[0][0]              \n",
      "                                                                   activation_545[0][0]             \n",
      "____________________________________________________________________________________________________\n",
      "activation_548 (Activation)      (None, 16, 16, 128)   0           merge_176[0][0]                  \n",
      "____________________________________________________________________________________________________\n",
      "averagepooling2d_20 (AveragePool (None, 2, 2, 128)     0           activation_548[0][0]             \n",
      "____________________________________________________________________________________________________\n",
      "flatten_17 (Flatten)             (None, 512)           0           averagepooling2d_20[0][0]        \n",
      "____________________________________________________________________________________________________\n",
      "dropout_16 (Dropout)             (None, 512)           0           flatten_17[0][0]                 \n",
      "____________________________________________________________________________________________________\n",
      "fc1000 (Dense)                   (None, 10)            5130        dropout_16[0][0]                 \n",
      "====================================================================================================\n",
      "Total params: 217674\n",
      "____________________________________________________________________________________________________\n"
     ]
    }
   ],
   "source": [
    "model.summary()"
   ]
  },
  {
   "cell_type": "code",
   "execution_count": 53,
   "metadata": {
    "collapsed": false
   },
   "outputs": [
    {
     "data": {
      "text/plain": [
       "(10000, 784)"
      ]
     },
     "execution_count": 53,
     "metadata": {},
     "output_type": "execute_result"
    }
   ],
   "source": [
    "mnist.test.images.shape"
   ]
  },
  {
   "cell_type": "code",
   "execution_count": 13,
   "metadata": {
    "collapsed": false
   },
   "outputs": [
    {
     "name": "stdout",
     "output_type": "stream",
     "text": [
      "Epoch 1/10\n",
      "50/50 [==============================] - 0s - loss: 2.3782 - acc: 0.0800     \n",
      "Epoch 2/10\n",
      "50/50 [==============================] - 0s - loss: 1.9542 - acc: 0.5400     \n",
      "Epoch 3/10\n",
      "50/50 [==============================] - 0s - loss: 1.6766 - acc: 0.6000     \n",
      "Epoch 4/10\n",
      "50/50 [==============================] - 0s - loss: 1.4642 - acc: 0.7400     \n",
      "Epoch 5/10\n",
      "50/50 [==============================] - 0s - loss: 1.2798 - acc: 0.7800     \n",
      "Epoch 6/10\n",
      "50/50 [==============================] - 0s - loss: 1.1167 - acc: 0.8000     \n",
      "Epoch 7/10\n",
      "50/50 [==============================] - 0s - loss: 0.9846 - acc: 0.8200     \n",
      "Epoch 8/10\n",
      "50/50 [==============================] - 0s - loss: 0.8629 - acc: 0.9000     \n",
      "Epoch 9/10\n",
      "50/50 [==============================] - 0s - loss: 0.7664 - acc: 0.9200     \n",
      "Epoch 10/10\n",
      "50/50 [==============================] - 0s - loss: 0.6709 - acc: 0.9600     \n"
     ]
    },
    {
     "data": {
      "text/plain": [
       "<keras.callbacks.History at 0x7f08e8311550>"
      ]
     },
     "execution_count": 13,
     "metadata": {},
     "output_type": "execute_result"
    }
   ],
   "source": [
    "from keras.layers import Input, Dense\n",
    "from keras.models import Model\n",
    "\n",
    "# this returns a tensor\n",
    "inputs = Input(shape=(784,))\n",
    "#keras.layers.core.Dense(output_dim, init='glorot_uniform', activation='linear',\n",
    "#                        weights=None, W_regularizer=None, b_regularizer=None, \n",
    "#                        activity_regularizer=None, W_constraint=None, b_constraint=None,\n",
    "#                        bias=True, input_dim=None)\n",
    "# a layer instance is callable on a tensor, and returns a tensor\n",
    "#                      \n",
    "Just your regular fully connected NN layer.\n",
    "x = Dense(64, activation='relu')(inputs)\n",
    "x = Dense(64, activation='relu')(x)\n",
    "predictions = Dense(10, activation='softmax')(x)\n",
    "\n",
    "# this creates a model that includes\n",
    "# the Input layer and three Dense layers\n",
    "model = Model(input=inputs, output=predictions)\n",
    "model.compile(optimizer='rmsprop',\n",
    "              loss='categorical_crossentropy',\n",
    "              metrics=['accuracy'])\n",
    "batch = mnist.train.next_batch(50)\n",
    "#model.fit(data, labels)  # starts training\n",
    "model.fit(batch[0], batch[1])  # starts training"
   ]
  },
  {
   "cell_type": "code",
   "execution_count": 67,
   "metadata": {
    "collapsed": false
   },
   "outputs": [
    {
     "name": "stdout",
     "output_type": "stream",
     "text": [
      "Populating the interactive namespace from numpy and matplotlib\n"
     ]
    },
    {
     "name": "stderr",
     "output_type": "stream",
     "text": [
      "WARNING: pylab import has clobbered these variables: ['copy']\n",
      "`%matplotlib` prevents importing * from pylab and numpy\n"
     ]
    }
   ],
   "source": [
    "%pylab inline\n",
    "\n",
    "import copy\n",
    "\n",
    "import numpy as np\n",
    "import pandas as pd\n",
    "import matplotlib.pyplot as plt\n",
    "\n",
    "#from keras.datasets import mnist, cifar10\n",
    "from keras.models import Sequential\n",
    "from keras.layers.core import Dense, Dropout, Activation, Flatten\n",
    "from keras.optimizers import SGD, RMSprop\n",
    "from keras.utils import np_utils\n",
    "from keras.regularizers import l2\n",
    "from keras.layers.convolutional import Convolution2D, MaxPooling2D\n",
    "from keras.callbacks import EarlyStopping\n",
    "from keras.preprocessing.image import ImageDataGenerator"
   ]
  },
  {
   "cell_type": "code",
   "execution_count": 73,
   "metadata": {
    "collapsed": false
   },
   "outputs": [],
   "source": [
    "X_train,y_train=mnist.train.next_batch(10000)\n",
    "X_test,y_test=mnist.test.next_batch(10000)\n",
    "X_train = X_train.reshape(X_train.shape[0], 1, 28, 28).astype('float32') \n",
    "X_test = X_test.reshape(X_test.shape[0], 1, 28, 28).astype('float32') \n",
    "Y_train = y_train\n",
    "Y_test = y_test"
   ]
  },
  {
   "cell_type": "code",
   "execution_count": 74,
   "metadata": {
    "collapsed": false
   },
   "outputs": [],
   "source": [
    "\n",
    "model = Sequential()\n",
    "\n",
    "model.add(Convolution2D(32, 3, 3, border_mode='same', input_shape = (1, 28, 28)))\n",
    "model.add(Activation(\"relu\"))\n",
    "model.add(MaxPooling2D(pool_size=(2, 2)))\n",
    "model.add(Dropout(0.25))\n",
    "\n",
    "model.add(Flatten())\n",
    "model.add(Dense(10))\n",
    "model.add(Activation('softmax'))\n",
    "          \n",
    "rms = RMSprop()\n",
    "model.compile(loss='categorical_crossentropy', optimizer=rms)"
   ]
  },
  {
   "cell_type": "code",
   "execution_count": 75,
   "metadata": {
    "collapsed": false
   },
   "outputs": [
    {
     "name": "stderr",
     "output_type": "stream",
     "text": [
      "/home/king/anaconda2/lib/python2.7/site-packages/keras/models.py:603: UserWarning: The \"show_accuracy\" argument is deprecated, instead you should pass the \"accuracy\" metric to the model at compile time:\n",
      "`model.compile(optimizer, loss, metrics=[\"accuracy\"])`\n",
      "  warnings.warn('The \"show_accuracy\" argument is deprecated, '\n"
     ]
    },
    {
     "name": "stdout",
     "output_type": "stream",
     "text": [
      "Train on 9000 samples, validate on 1000 samples\n",
      "Epoch 1/10\n",
      "9000/9000 [==============================] - 6s - loss: 2.2528 - val_loss: 2.1561\n",
      "Epoch 2/10\n",
      "9000/9000 [==============================] - 6s - loss: 1.9858 - val_loss: 1.8111\n",
      "Epoch 3/10\n",
      "9000/9000 [==============================] - 5s - loss: 1.5657 - val_loss: 1.3738\n",
      "Epoch 4/10\n",
      "4448/9000 [=============>................] - ETA: 3s - loss: 1.2404\b\b\b\b\b\b\b\b\b\b\b\b\b\b\b\b\b\b\b\b\b\b\b\b\b\b\b\b\b\b\b\b\b\b\b\b\b\b\b\b\b\b\b\b\b\b\b\b\b\b\b\b\b\b\b\b\b\b\b\b\b\b\b\b\b\b\b"
     ]
    },
    {
     "ename": "ValueError",
     "evalue": "I/O operation on closed file",
     "output_type": "error",
     "traceback": [
      "\u001b[1;31m---------------------------------------------------------------------------\u001b[0m",
      "\u001b[1;31mValueError\u001b[0m                                Traceback (most recent call last)",
      "\u001b[1;32m<ipython-input-75-e31888978746>\u001b[0m in \u001b[0;36m<module>\u001b[1;34m()\u001b[0m\n\u001b[0;32m      1\u001b[0m model.fit(X_train, Y_train, batch_size=32, nb_epoch=10,\n\u001b[1;32m----> 2\u001b[1;33m           verbose=1, show_accuracy=True, validation_split=0.1)\n\u001b[0m",
      "\u001b[1;32m/home/king/anaconda2/lib/python2.7/site-packages/keras/models.pyc\u001b[0m in \u001b[0;36mfit\u001b[1;34m(self, x, y, batch_size, nb_epoch, verbose, callbacks, validation_split, validation_data, shuffle, class_weight, sample_weight, **kwargs)\u001b[0m\n\u001b[0;32m    618\u001b[0m                               \u001b[0mshuffle\u001b[0m\u001b[1;33m=\u001b[0m\u001b[0mshuffle\u001b[0m\u001b[1;33m,\u001b[0m\u001b[1;33m\u001b[0m\u001b[0m\n\u001b[0;32m    619\u001b[0m                               \u001b[0mclass_weight\u001b[0m\u001b[1;33m=\u001b[0m\u001b[0mclass_weight\u001b[0m\u001b[1;33m,\u001b[0m\u001b[1;33m\u001b[0m\u001b[0m\n\u001b[1;32m--> 620\u001b[1;33m                               sample_weight=sample_weight)\n\u001b[0m\u001b[0;32m    621\u001b[0m \u001b[1;33m\u001b[0m\u001b[0m\n\u001b[0;32m    622\u001b[0m     def evaluate(self, x, y, batch_size=32, verbose=1,\n",
      "\u001b[1;32m/home/king/anaconda2/lib/python2.7/site-packages/keras/engine/training.pyc\u001b[0m in \u001b[0;36mfit\u001b[1;34m(self, x, y, batch_size, nb_epoch, verbose, callbacks, validation_split, validation_data, shuffle, class_weight, sample_weight)\u001b[0m\n\u001b[0;32m   1104\u001b[0m                               \u001b[0mverbose\u001b[0m\u001b[1;33m=\u001b[0m\u001b[0mverbose\u001b[0m\u001b[1;33m,\u001b[0m \u001b[0mcallbacks\u001b[0m\u001b[1;33m=\u001b[0m\u001b[0mcallbacks\u001b[0m\u001b[1;33m,\u001b[0m\u001b[1;33m\u001b[0m\u001b[0m\n\u001b[0;32m   1105\u001b[0m                               \u001b[0mval_f\u001b[0m\u001b[1;33m=\u001b[0m\u001b[0mval_f\u001b[0m\u001b[1;33m,\u001b[0m \u001b[0mval_ins\u001b[0m\u001b[1;33m=\u001b[0m\u001b[0mval_ins\u001b[0m\u001b[1;33m,\u001b[0m \u001b[0mshuffle\u001b[0m\u001b[1;33m=\u001b[0m\u001b[0mshuffle\u001b[0m\u001b[1;33m,\u001b[0m\u001b[1;33m\u001b[0m\u001b[0m\n\u001b[1;32m-> 1106\u001b[1;33m                               callback_metrics=callback_metrics)\n\u001b[0m\u001b[0;32m   1107\u001b[0m \u001b[1;33m\u001b[0m\u001b[0m\n\u001b[0;32m   1108\u001b[0m     \u001b[1;32mdef\u001b[0m \u001b[0mevaluate\u001b[0m\u001b[1;33m(\u001b[0m\u001b[0mself\u001b[0m\u001b[1;33m,\u001b[0m \u001b[0mx\u001b[0m\u001b[1;33m,\u001b[0m \u001b[0my\u001b[0m\u001b[1;33m,\u001b[0m \u001b[0mbatch_size\u001b[0m\u001b[1;33m=\u001b[0m\u001b[1;36m32\u001b[0m\u001b[1;33m,\u001b[0m \u001b[0mverbose\u001b[0m\u001b[1;33m=\u001b[0m\u001b[1;36m1\u001b[0m\u001b[1;33m,\u001b[0m \u001b[0msample_weight\u001b[0m\u001b[1;33m=\u001b[0m\u001b[0mNone\u001b[0m\u001b[1;33m)\u001b[0m\u001b[1;33m:\u001b[0m\u001b[1;33m\u001b[0m\u001b[0m\n",
      "\u001b[1;32m/home/king/anaconda2/lib/python2.7/site-packages/keras/engine/training.pyc\u001b[0m in \u001b[0;36m_fit_loop\u001b[1;34m(self, f, ins, out_labels, batch_size, nb_epoch, verbose, callbacks, val_f, val_ins, shuffle, callback_metrics)\u001b[0m\n\u001b[0;32m    828\u001b[0m                     \u001b[0mbatch_logs\u001b[0m\u001b[1;33m[\u001b[0m\u001b[0ml\u001b[0m\u001b[1;33m]\u001b[0m \u001b[1;33m=\u001b[0m \u001b[0mo\u001b[0m\u001b[1;33m\u001b[0m\u001b[0m\n\u001b[0;32m    829\u001b[0m \u001b[1;33m\u001b[0m\u001b[0m\n\u001b[1;32m--> 830\u001b[1;33m                 \u001b[0mcallbacks\u001b[0m\u001b[1;33m.\u001b[0m\u001b[0mon_batch_end\u001b[0m\u001b[1;33m(\u001b[0m\u001b[0mbatch_index\u001b[0m\u001b[1;33m,\u001b[0m \u001b[0mbatch_logs\u001b[0m\u001b[1;33m)\u001b[0m\u001b[1;33m\u001b[0m\u001b[0m\n\u001b[0m\u001b[0;32m    831\u001b[0m \u001b[1;33m\u001b[0m\u001b[0m\n\u001b[0;32m    832\u001b[0m                 \u001b[1;32mif\u001b[0m \u001b[0mbatch_index\u001b[0m \u001b[1;33m==\u001b[0m \u001b[0mlen\u001b[0m\u001b[1;33m(\u001b[0m\u001b[0mbatches\u001b[0m\u001b[1;33m)\u001b[0m \u001b[1;33m-\u001b[0m \u001b[1;36m1\u001b[0m\u001b[1;33m:\u001b[0m  \u001b[1;31m# last batch\u001b[0m\u001b[1;33m\u001b[0m\u001b[0m\n",
      "\u001b[1;32m/home/king/anaconda2/lib/python2.7/site-packages/keras/callbacks.pyc\u001b[0m in \u001b[0;36mon_batch_end\u001b[1;34m(self, batch, logs)\u001b[0m\n\u001b[0;32m     59\u001b[0m         \u001b[0mt_before_callbacks\u001b[0m \u001b[1;33m=\u001b[0m \u001b[0mtime\u001b[0m\u001b[1;33m.\u001b[0m\u001b[0mtime\u001b[0m\u001b[1;33m(\u001b[0m\u001b[1;33m)\u001b[0m\u001b[1;33m\u001b[0m\u001b[0m\n\u001b[0;32m     60\u001b[0m         \u001b[1;32mfor\u001b[0m \u001b[0mcallback\u001b[0m \u001b[1;32min\u001b[0m \u001b[0mself\u001b[0m\u001b[1;33m.\u001b[0m\u001b[0mcallbacks\u001b[0m\u001b[1;33m:\u001b[0m\u001b[1;33m\u001b[0m\u001b[0m\n\u001b[1;32m---> 61\u001b[1;33m             \u001b[0mcallback\u001b[0m\u001b[1;33m.\u001b[0m\u001b[0mon_batch_end\u001b[0m\u001b[1;33m(\u001b[0m\u001b[0mbatch\u001b[0m\u001b[1;33m,\u001b[0m \u001b[0mlogs\u001b[0m\u001b[1;33m)\u001b[0m\u001b[1;33m\u001b[0m\u001b[0m\n\u001b[0m\u001b[0;32m     62\u001b[0m         \u001b[0mself\u001b[0m\u001b[1;33m.\u001b[0m\u001b[0m_delta_ts_batch_end\u001b[0m\u001b[1;33m.\u001b[0m\u001b[0mappend\u001b[0m\u001b[1;33m(\u001b[0m\u001b[0mtime\u001b[0m\u001b[1;33m.\u001b[0m\u001b[0mtime\u001b[0m\u001b[1;33m(\u001b[0m\u001b[1;33m)\u001b[0m \u001b[1;33m-\u001b[0m \u001b[0mt_before_callbacks\u001b[0m\u001b[1;33m)\u001b[0m\u001b[1;33m\u001b[0m\u001b[0m\n\u001b[0;32m     63\u001b[0m         \u001b[0mdelta_t_median\u001b[0m \u001b[1;33m=\u001b[0m \u001b[0mnp\u001b[0m\u001b[1;33m.\u001b[0m\u001b[0mmedian\u001b[0m\u001b[1;33m(\u001b[0m\u001b[0mself\u001b[0m\u001b[1;33m.\u001b[0m\u001b[0m_delta_ts_batch_end\u001b[0m\u001b[1;33m)\u001b[0m\u001b[1;33m\u001b[0m\u001b[0m\n",
      "\u001b[1;32m/home/king/anaconda2/lib/python2.7/site-packages/keras/callbacks.pyc\u001b[0m in \u001b[0;36mon_batch_end\u001b[1;34m(self, batch, logs)\u001b[0m\n\u001b[0;32m    187\u001b[0m         \u001b[1;31m# will be handled by on_epoch_end\u001b[0m\u001b[1;33m\u001b[0m\u001b[1;33m\u001b[0m\u001b[0m\n\u001b[0;32m    188\u001b[0m         \u001b[1;32mif\u001b[0m \u001b[0mself\u001b[0m\u001b[1;33m.\u001b[0m\u001b[0mverbose\u001b[0m \u001b[1;32mand\u001b[0m \u001b[0mself\u001b[0m\u001b[1;33m.\u001b[0m\u001b[0mseen\u001b[0m \u001b[1;33m<\u001b[0m \u001b[0mself\u001b[0m\u001b[1;33m.\u001b[0m\u001b[0mparams\u001b[0m\u001b[1;33m[\u001b[0m\u001b[1;34m'nb_sample'\u001b[0m\u001b[1;33m]\u001b[0m\u001b[1;33m:\u001b[0m\u001b[1;33m\u001b[0m\u001b[0m\n\u001b[1;32m--> 189\u001b[1;33m             \u001b[0mself\u001b[0m\u001b[1;33m.\u001b[0m\u001b[0mprogbar\u001b[0m\u001b[1;33m.\u001b[0m\u001b[0mupdate\u001b[0m\u001b[1;33m(\u001b[0m\u001b[0mself\u001b[0m\u001b[1;33m.\u001b[0m\u001b[0mseen\u001b[0m\u001b[1;33m,\u001b[0m \u001b[0mself\u001b[0m\u001b[1;33m.\u001b[0m\u001b[0mlog_values\u001b[0m\u001b[1;33m)\u001b[0m\u001b[1;33m\u001b[0m\u001b[0m\n\u001b[0m\u001b[0;32m    190\u001b[0m \u001b[1;33m\u001b[0m\u001b[0m\n\u001b[0;32m    191\u001b[0m     \u001b[1;32mdef\u001b[0m \u001b[0mon_epoch_end\u001b[0m\u001b[1;33m(\u001b[0m\u001b[0mself\u001b[0m\u001b[1;33m,\u001b[0m \u001b[0mepoch\u001b[0m\u001b[1;33m,\u001b[0m \u001b[0mlogs\u001b[0m\u001b[1;33m=\u001b[0m\u001b[1;33m{\u001b[0m\u001b[1;33m}\u001b[0m\u001b[1;33m)\u001b[0m\u001b[1;33m:\u001b[0m\u001b[1;33m\u001b[0m\u001b[0m\n",
      "\u001b[1;32m/home/king/anaconda2/lib/python2.7/site-packages/keras/utils/generic_utils.pyc\u001b[0m in \u001b[0;36mupdate\u001b[1;34m(self, current, values, force)\u001b[0m\n\u001b[0;32m    113\u001b[0m             \u001b[0mprev_total_width\u001b[0m \u001b[1;33m=\u001b[0m \u001b[0mself\u001b[0m\u001b[1;33m.\u001b[0m\u001b[0mtotal_width\u001b[0m\u001b[1;33m\u001b[0m\u001b[0m\n\u001b[0;32m    114\u001b[0m             \u001b[0msys\u001b[0m\u001b[1;33m.\u001b[0m\u001b[0mstdout\u001b[0m\u001b[1;33m.\u001b[0m\u001b[0mwrite\u001b[0m\u001b[1;33m(\u001b[0m\u001b[1;34m\"\\b\"\u001b[0m \u001b[1;33m*\u001b[0m \u001b[0mprev_total_width\u001b[0m\u001b[1;33m)\u001b[0m\u001b[1;33m\u001b[0m\u001b[0m\n\u001b[1;32m--> 115\u001b[1;33m             \u001b[0msys\u001b[0m\u001b[1;33m.\u001b[0m\u001b[0mstdout\u001b[0m\u001b[1;33m.\u001b[0m\u001b[0mwrite\u001b[0m\u001b[1;33m(\u001b[0m\u001b[1;34m\"\\r\"\u001b[0m\u001b[1;33m)\u001b[0m\u001b[1;33m\u001b[0m\u001b[0m\n\u001b[0m\u001b[0;32m    116\u001b[0m \u001b[1;33m\u001b[0m\u001b[0m\n\u001b[0;32m    117\u001b[0m             \u001b[0mnumdigits\u001b[0m \u001b[1;33m=\u001b[0m \u001b[0mint\u001b[0m\u001b[1;33m(\u001b[0m\u001b[0mnp\u001b[0m\u001b[1;33m.\u001b[0m\u001b[0mfloor\u001b[0m\u001b[1;33m(\u001b[0m\u001b[0mnp\u001b[0m\u001b[1;33m.\u001b[0m\u001b[0mlog10\u001b[0m\u001b[1;33m(\u001b[0m\u001b[0mself\u001b[0m\u001b[1;33m.\u001b[0m\u001b[0mtarget\u001b[0m\u001b[1;33m)\u001b[0m\u001b[1;33m)\u001b[0m\u001b[1;33m)\u001b[0m \u001b[1;33m+\u001b[0m \u001b[1;36m1\u001b[0m\u001b[1;33m\u001b[0m\u001b[0m\n",
      "\u001b[1;32m/home/king/anaconda2/lib/python2.7/site-packages/ipykernel/iostream.pyc\u001b[0m in \u001b[0;36mwrite\u001b[1;34m(self, string)\u001b[0m\n\u001b[0;32m    315\u001b[0m \u001b[1;33m\u001b[0m\u001b[0m\n\u001b[0;32m    316\u001b[0m             \u001b[0mis_child\u001b[0m \u001b[1;33m=\u001b[0m \u001b[1;33m(\u001b[0m\u001b[1;32mnot\u001b[0m \u001b[0mself\u001b[0m\u001b[1;33m.\u001b[0m\u001b[0m_is_master_process\u001b[0m\u001b[1;33m(\u001b[0m\u001b[1;33m)\u001b[0m\u001b[1;33m)\u001b[0m\u001b[1;33m\u001b[0m\u001b[0m\n\u001b[1;32m--> 317\u001b[1;33m             \u001b[0mself\u001b[0m\u001b[1;33m.\u001b[0m\u001b[0m_buffer\u001b[0m\u001b[1;33m.\u001b[0m\u001b[0mwrite\u001b[0m\u001b[1;33m(\u001b[0m\u001b[0mstring\u001b[0m\u001b[1;33m)\u001b[0m\u001b[1;33m\u001b[0m\u001b[0m\n\u001b[0m\u001b[0;32m    318\u001b[0m             \u001b[1;32mif\u001b[0m \u001b[0mis_child\u001b[0m\u001b[1;33m:\u001b[0m\u001b[1;33m\u001b[0m\u001b[0m\n\u001b[0;32m    319\u001b[0m                 \u001b[1;31m# newlines imply flush in subprocesses\u001b[0m\u001b[1;33m\u001b[0m\u001b[1;33m\u001b[0m\u001b[0m\n",
      "\u001b[1;31mValueError\u001b[0m: I/O operation on closed file"
     ]
    }
   ],
   "source": [
    "model.fit(X_train, Y_train, batch_size=32, nb_epoch=10,\n",
    "          verbose=1, show_accuracy=True, validation_split=0.1)"
   ]
  },
  {
   "cell_type": "code",
   "execution_count": null,
   "metadata": {
    "collapsed": true
   },
   "outputs": [],
   "source": []
  }
 ],
 "metadata": {
  "kernelspec": {
   "display_name": "Python [Root]",
   "language": "python",
   "name": "Python [Root]"
  },
  "language_info": {
   "codemirror_mode": {
    "name": "ipython",
    "version": 2
   },
   "file_extension": ".py",
   "mimetype": "text/x-python",
   "name": "python",
   "nbconvert_exporter": "python",
   "pygments_lexer": "ipython2",
   "version": "2.7.12"
  }
 },
 "nbformat": 4,
 "nbformat_minor": 0
}
