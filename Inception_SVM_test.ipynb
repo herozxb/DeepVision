{
 "cells": [
  {
   "cell_type": "code",
   "execution_count": 44,
   "metadata": {
    "collapsed": false
   },
   "outputs": [],
   "source": [
    "import os\n",
    "import re\n",
    "\n",
    "import tensorflow as tf\n",
    "import tensorflow.python.platform\n",
    "from tensorflow.python.platform import gfile\n",
    "import numpy as np\n",
    "import pandas as pd\n",
    "import sklearn\n",
    "from sklearn import cross_validation\n",
    "from sklearn.metrics import accuracy_score, confusion_matrix\n",
    "from sklearn.svm import SVC, LinearSVC\n",
    "import matplotlib.pyplot as plt\n",
    "%matplotlib inline\n",
    "import pickle"
   ]
  },
  {
   "cell_type": "code",
   "execution_count": 45,
   "metadata": {
    "collapsed": false
   },
   "outputs": [
    {
     "name": "stdout",
     "output_type": "stream",
     "text": [
      "['/home/king/new tensorflow/tensorflow/tensorflow/models/image/imagenet/TUTORIAL_DIR/images/m3.jpg', '/home/king/new tensorflow/tensorflow/tensorflow/models/image/imagenet/TUTORIAL_DIR/images/m2.jpg', '/home/king/new tensorflow/tensorflow/tensorflow/models/image/imagenet/TUTORIAL_DIR/images/m0.jpg', '/home/king/new tensorflow/tensorflow/tensorflow/models/image/imagenet/TUTORIAL_DIR/images/l1.jpg', '/home/king/new tensorflow/tensorflow/tensorflow/models/image/imagenet/TUTORIAL_DIR/images/l3.jpg', '/home/king/new tensorflow/tensorflow/tensorflow/models/image/imagenet/TUTORIAL_DIR/images/l0.jpg', '/home/king/new tensorflow/tensorflow/tensorflow/models/image/imagenet/TUTORIAL_DIR/images/l2.jpg', '/home/king/new tensorflow/tensorflow/tensorflow/models/image/imagenet/TUTORIAL_DIR/images/m1.jpg']\n"
     ]
    }
   ],
   "source": [
    "model_dir = '/home/king/new tensorflow/tensorflow/tensorflow/models/image/imagenet/TUTORIAL_DIR/imagenet'\n",
    "images_dir = '/home/king/new tensorflow/tensorflow/tensorflow/models/image/imagenet/TUTORIAL_DIR/images/'\n",
    "list_images = [images_dir+f for f in os.listdir(images_dir) if re.search('jpg|jpeg', f)]\n",
    "print(list_images)\n",
    "#print(unicode(os.listdir(images_dir)[0],\"utf-8\"))\n",
    "#print([f for f in os.listdir(images_dir)] )#if re.search('jpg|JPG', f))"
   ]
  },
  {
   "cell_type": "code",
   "execution_count": 46,
   "metadata": {
    "collapsed": false
   },
   "outputs": [
    {
     "name": "stdout",
     "output_type": "stream",
     "text": [
      "['/home/king/new tensorflow/tensorflow/tensorflow/models/image/imagenet/TUTORIAL_DIR/test/m3.jpg', '/home/king/new tensorflow/tensorflow/tensorflow/models/image/imagenet/TUTORIAL_DIR/test/m4.jpg', '/home/king/new tensorflow/tensorflow/tensorflow/models/image/imagenet/TUTORIAL_DIR/test/m2.jpg', '/home/king/new tensorflow/tensorflow/tensorflow/models/image/imagenet/TUTORIAL_DIR/test/l1.jpg', '/home/king/new tensorflow/tensorflow/tensorflow/models/image/imagenet/TUTORIAL_DIR/test/l3.jpg', '/home/king/new tensorflow/tensorflow/tensorflow/models/image/imagenet/TUTORIAL_DIR/test/l0.jpg', '/home/king/new tensorflow/tensorflow/tensorflow/models/image/imagenet/TUTORIAL_DIR/test/l2.jpg', '/home/king/new tensorflow/tensorflow/tensorflow/models/image/imagenet/TUTORIAL_DIR/test/m1.jpg']\n"
     ]
    }
   ],
   "source": [
    "model_dir = '/home/king/new tensorflow/tensorflow/tensorflow/models/image/imagenet/TUTORIAL_DIR/imagenet'\n",
    "images_dir = '/home/king/new tensorflow/tensorflow/tensorflow/models/image/imagenet/TUTORIAL_DIR/test/'\n",
    "list_images1 = [images_dir+f for f in os.listdir(images_dir) if re.search('jpg|jpeg', f)]\n",
    "print(list_images1)"
   ]
  },
  {
   "cell_type": "code",
   "execution_count": 51,
   "metadata": {
    "collapsed": true
   },
   "outputs": [],
   "source": [
    "def create_graph():\n",
    "    with gfile.FastGFile(os.path.join( model_dir, 'classify_image_graph_def.pb'), 'rb') as f:\n",
    "        graph_def = tf.GraphDef()\n",
    "        graph_def.ParseFromString(f.read())\n",
    "        _ = tf.import_graph_def(graph_def, name='')"
   ]
  },
  {
   "cell_type": "code",
   "execution_count": 52,
   "metadata": {
    "collapsed": true
   },
   "outputs": [],
   "source": [
    "def extract_features(list_images):\n",
    "    nb_features = 2048\n",
    "    features = np.empty((len(list_images),nb_features))\n",
    "    labels = []\n",
    "\n",
    "    create_graph()\n",
    "\n",
    "    with tf.Session() as sess:\n",
    "\n",
    "        next_to_last_tensor = sess.graph.get_tensor_by_name('pool_3:0')\n",
    "        print(next_to_last_tensor)\n",
    "        for ind, image in enumerate(list_images):\n",
    "            print(ind)\n",
    "            \n",
    "            if (ind%1 == 0):\n",
    "                print('Processing %s...' % (image))\n",
    "            if not gfile.Exists(image):\n",
    "                tf.logging.fatal('File does not exist %s', image)\n",
    "\n",
    "            image_data = gfile.FastGFile(image, 'rb').read()\n",
    "            predictions = sess.run(next_to_last_tensor,{'DecodeJpeg/contents:0': image_data})\n",
    "            features[ind,:] = np.squeeze(predictions)\n",
    "            labels.append(re.split('_\\w',image.split('images/')[1][0])[0])\n",
    "            #labels.append(str(ind))\n",
    "        return features, labels\n",
    "    \n",
    "    \n",
    "def extract_features1(list_images):\n",
    "    nb_features = 2048\n",
    "    features = np.empty((len(list_images),nb_features))\n",
    "    labels = []\n",
    "\n",
    "    create_graph()\n",
    "\n",
    "    with tf.Session() as sess:\n",
    "\n",
    "        next_to_last_tensor = sess.graph.get_tensor_by_name('pool_3:0')\n",
    "        print(next_to_last_tensor)\n",
    "        for ind, image in enumerate(list_images):\n",
    "            print(ind)\n",
    "            \n",
    "            if (ind%1 == 0):\n",
    "                print('Processing %s...' % (image))\n",
    "            if not gfile.Exists(image):\n",
    "                tf.logging.fatal('File does not exist %s', image)\n",
    "\n",
    "            image_data = gfile.FastGFile(image, 'rb').read()\n",
    "            predictions = sess.run(next_to_last_tensor,{'DecodeJpeg/contents:0': image_data})\n",
    "            features[ind,:] = np.squeeze(predictions)\n",
    "            labels.append(re.split('_\\w',image.split('test/')[1][0])[0])\n",
    "            #labels.append(str(ind))\n",
    "        return features, labels"
   ]
  },
  {
   "cell_type": "code",
   "execution_count": 53,
   "metadata": {
    "collapsed": false
   },
   "outputs": [
    {
     "name": "stdout",
     "output_type": "stream",
     "text": [
      "Tensor(\"pool_3:0\", shape=(1, 1, 1, 2048), dtype=float32)\n",
      "0\n",
      "Processing /home/king/new tensorflow/tensorflow/tensorflow/models/image/imagenet/TUTORIAL_DIR/images/m3.jpg...\n",
      "1\n",
      "Processing /home/king/new tensorflow/tensorflow/tensorflow/models/image/imagenet/TUTORIAL_DIR/images/m2.jpg...\n",
      "2\n",
      "Processing /home/king/new tensorflow/tensorflow/tensorflow/models/image/imagenet/TUTORIAL_DIR/images/m0.jpg...\n",
      "3\n",
      "Processing /home/king/new tensorflow/tensorflow/tensorflow/models/image/imagenet/TUTORIAL_DIR/images/l1.jpg...\n",
      "4\n",
      "Processing /home/king/new tensorflow/tensorflow/tensorflow/models/image/imagenet/TUTORIAL_DIR/images/l3.jpg...\n",
      "5\n",
      "Processing /home/king/new tensorflow/tensorflow/tensorflow/models/image/imagenet/TUTORIAL_DIR/images/l0.jpg...\n",
      "6\n",
      "Processing /home/king/new tensorflow/tensorflow/tensorflow/models/image/imagenet/TUTORIAL_DIR/images/l2.jpg...\n",
      "7\n",
      "Processing /home/king/new tensorflow/tensorflow/tensorflow/models/image/imagenet/TUTORIAL_DIR/images/m1.jpg...\n",
      "[[ 0.33054119  0.15970449  0.04464655 ...,  0.79832911  0.06262892\n",
      "   0.73287582]\n",
      " [ 0.02819289  0.17642622  0.21683998 ...,  0.10492573  0.22998151\n",
      "   0.00324944]\n",
      " [ 0.04751792  0.01696683  0.29187393 ...,  0.133655    0.29773578\n",
      "   0.05091891]\n",
      " ..., \n",
      " [ 0.20516776  0.01329348  0.70897233 ...,  0.14794083  0.00249939\n",
      "   0.92881322]\n",
      " [ 0.0980097   0.00694924  0.46197814 ...,  0.11793146  0.06850232\n",
      "   0.0318529 ]\n",
      " [ 0.61924887  0.09743077  0.04082435 ...,  0.78646433  0.06238186\n",
      "   0.5303517 ]]\n",
      "['m', 'm', 'm', 'l', 'l', 'l', 'l', 'm']\n"
     ]
    }
   ],
   "source": [
    "features,labels = extract_features(list_images)\n",
    "print(features)\n",
    "print(labels)"
   ]
  },
  {
   "cell_type": "code",
   "execution_count": 54,
   "metadata": {
    "collapsed": false
   },
   "outputs": [
    {
     "name": "stdout",
     "output_type": "stream",
     "text": [
      "Tensor(\"pool_3:0\", shape=(1, 1, 1, 2048), dtype=float32)\n",
      "0\n",
      "Processing /home/king/new tensorflow/tensorflow/tensorflow/models/image/imagenet/TUTORIAL_DIR/test/m3.jpg...\n",
      "1\n",
      "Processing /home/king/new tensorflow/tensorflow/tensorflow/models/image/imagenet/TUTORIAL_DIR/test/m4.jpg...\n",
      "2\n",
      "Processing /home/king/new tensorflow/tensorflow/tensorflow/models/image/imagenet/TUTORIAL_DIR/test/m2.jpg...\n",
      "3\n",
      "Processing /home/king/new tensorflow/tensorflow/tensorflow/models/image/imagenet/TUTORIAL_DIR/test/l1.jpg...\n",
      "4\n",
      "Processing /home/king/new tensorflow/tensorflow/tensorflow/models/image/imagenet/TUTORIAL_DIR/test/l3.jpg...\n",
      "5\n",
      "Processing /home/king/new tensorflow/tensorflow/tensorflow/models/image/imagenet/TUTORIAL_DIR/test/l0.jpg...\n",
      "6\n",
      "Processing /home/king/new tensorflow/tensorflow/tensorflow/models/image/imagenet/TUTORIAL_DIR/test/l2.jpg...\n",
      "7\n",
      "Processing /home/king/new tensorflow/tensorflow/tensorflow/models/image/imagenet/TUTORIAL_DIR/test/m1.jpg...\n",
      "[[ 0.03563154  0.06915791  0.0589055  ...,  0.0322684   0.02149785\n",
      "   0.01222531]\n",
      " [ 0.12276179  0.08668246  0.00668728 ...,  0.62063199  0.2759625\n",
      "   0.27663097]\n",
      " [ 0.04738982  0.01012483  0.08766451 ...,  0.26588807  0.08982687\n",
      "   0.23470475]\n",
      " ..., \n",
      " [ 0.22977982  0.19699839  0.51948231 ...,  0.19563991  0.24374159\n",
      "   0.16314985]\n",
      " [ 0.07530254  0.23286977  0.56110466 ...,  0.49757239  0.24520685\n",
      "   0.08601382]\n",
      " [ 0.15626726  0.06978234  0.33328548 ...,  0.05446688  0.02542708\n",
      "   0.0334721 ]]\n",
      "['m', 'm', 'm', 'l', 'l', 'l', 'l', 'm']\n"
     ]
    }
   ],
   "source": [
    "features1,labels1 = extract_features1(list_images1)\n",
    "print(features1)\n",
    "print(labels1)"
   ]
  },
  {
   "cell_type": "code",
   "execution_count": 6,
   "metadata": {
    "collapsed": false
   },
   "outputs": [
    {
     "name": "stdout",
     "output_type": "stream",
     "text": [
      "Processing /home/king/new tensorflow/tensorflow/tensorflow/models/image/imagenet/TUTORIAL_DIR/images/resized_image.jpg...\n",
      "Tensor(\"pool_3:0\", shape=(1, 1, 1, 2048), dtype=float32)\n",
      "[[[[ 0.09843913  0.22412665  0.07319251 ...,  0.15629759  0.06582196\n",
      "     0.07086884]]]]\n"
     ]
    }
   ],
   "source": [
    "create_graph()\n",
    "image = '/home/king/new tensorflow/tensorflow/tensorflow/models/image/imagenet/TUTORIAL_DIR/images/resized_image.jpg'\n",
    "with tf.Session() as sess:\n",
    "    print('Processing %s...' % (image))\n",
    "    image_data = gfile.FastGFile(image, 'rb').read()\n",
    "    \n",
    "    next_to_last_tensor = sess.graph.get_tensor_by_name('pool_3:0')\n",
    "    print(next_to_last_tensor)\n",
    "    predictions = sess.run(next_to_last_tensor,{'DecodeJpeg/contents:0': image_data})\n",
    "    print(predictions)"
   ]
  },
  {
   "cell_type": "code",
   "execution_count": 42,
   "metadata": {
    "collapsed": false
   },
   "outputs": [],
   "source": [
    "import PIL\n",
    "from PIL import Image\n",
    "for ind, image in enumerate(list_images):\n",
    "    img = Image.open(image)\n",
    "    img = img.resize((150, 150), PIL.Image.ANTIALIAS)\n",
    "    img.save('resized_image'+str(ind)+'.jpg')"
   ]
  },
  {
   "cell_type": "code",
   "execution_count": 55,
   "metadata": {
    "collapsed": true
   },
   "outputs": [],
   "source": [
    "pickle.dump(features, open('features', 'wb'))\n",
    "pickle.dump(labels, open('labels', 'wb'))\n"
   ]
  },
  {
   "cell_type": "code",
   "execution_count": 56,
   "metadata": {
    "collapsed": true
   },
   "outputs": [],
   "source": [
    "pickle.dump(features1, open('features', 'wb'))\n",
    "pickle.dump(labels1, open('labels', 'wb'))"
   ]
  },
  {
   "cell_type": "code",
   "execution_count": 57,
   "metadata": {
    "collapsed": true
   },
   "outputs": [],
   "source": [
    "features = pickle.load(open('features'))\n",
    "labels = pickle.load(open('labels'))\n"
   ]
  },
  {
   "cell_type": "code",
   "execution_count": 58,
   "metadata": {
    "collapsed": true
   },
   "outputs": [],
   "source": [
    "features1 = pickle.load(open('features'))\n",
    "labels1 = pickle.load(open('labels'))"
   ]
  },
  {
   "cell_type": "code",
   "execution_count": 75,
   "metadata": {
    "collapsed": false
   },
   "outputs": [],
   "source": [
    "X_train, X_test, y_train, y_test = cross_validation.train_test_split(features, labels, test_size=0.0, random_state=0)\n",
    "X_train1, X_test1, y_train1, y_test1 = cross_validation.train_test_split(features1, labels1, test_size=0.825, random_state=0)"
   ]
  },
  {
   "cell_type": "code",
   "execution_count": 82,
   "metadata": {
    "collapsed": false
   },
   "outputs": [
    {
     "name": "stdout",
     "output_type": "stream",
     "text": [
      "['l', 'm', 'm', 'm', 'l', 'm', 'l']\n",
      "=======================================================\n",
      "['l' 'm' 'm' 'm' 'l' 'm' 'l']\n"
     ]
    }
   ],
   "source": [
    "clf = LinearSVC(C=1.0, loss='squared_hinge', penalty='l2',multi_class='ovr')\n",
    "clf.fit(X_train, y_train)\n",
    "#print(X_train)\n",
    "print(y_test1)\n",
    "y_pred = clf.predict(X_test1)\n",
    "print(\"=======================================================\")\n",
    "print(y_pred)"
   ]
  },
  {
   "cell_type": "code",
   "execution_count": 79,
   "metadata": {
    "collapsed": false
   },
   "outputs": [
    {
     "name": "stdout",
     "output_type": "stream",
     "text": [
      "Accuracy: 100.0%\n"
     ]
    }
   ],
   "source": [
    "print(\"Accuracy: {0:0.1f}%\".format(accuracy_score(y_test1,y_pred)*100))"
   ]
  },
  {
   "cell_type": "code",
   "execution_count": 80,
   "metadata": {
    "collapsed": true
   },
   "outputs": [],
   "source": [
    "def plot_confusion_matrix(y_true,y_pred):\n",
    "    cm_array = confusion_matrix(y_true,y_pred)\n",
    "    true_labels = np.unique(y_true)\n",
    "    pred_labels = np.unique(y_pred)\n",
    "    plt.imshow(cm_array[:-1,:-1], interpolation='nearest', cmap=plt.cm.Blues)\n",
    "    plt.title(\"Confusion matrix\", fontsize=16)\n",
    "    cbar = plt.colorbar(fraction=0.046, pad=0.04)\n",
    "    cbar.set_label('Number of images', rotation=270, labelpad=30, fontsize=12)\n",
    "    xtick_marks = np.arange(len(true_labels))\n",
    "    ytick_marks = np.arange(len(pred_labels))\n",
    "    plt.xticks(xtick_marks, true_labels, rotation=90)\n",
    "    plt.yticks(ytick_marks,pred_labels)\n",
    "    plt.tight_layout()\n",
    "    plt.ylabel('True label', fontsize=14)\n",
    "    plt.xlabel('Predicted label', fontsize=14)\n",
    "    fig_size = plt.rcParams[\"figure.figsize\"]\n",
    "    fig_size[0] = 12\n",
    "    fig_size[1] = 12\n",
    "    plt.rcParams[\"figure.figsize\"] = fig_size"
   ]
  },
  {
   "cell_type": "code",
   "execution_count": 81,
   "metadata": {
    "collapsed": false,
    "scrolled": true
   },
   "outputs": [
    {
     "data": {
      "image/png": "[encoded data removed]",
      "text/plain": [
       "<matplotlib.figure.Figure at 0x7f87508e6790>"
      ]
     },
     "metadata": {},
     "output_type": "display_data"
    }
   ],
   "source": [
    "plot_confusion_matrix(y_test1,y_pred)"
   ]
  },
  {
   "cell_type": "code",
   "execution_count": null,
   "metadata": {
    "collapsed": true
   },
   "outputs": [],
   "source": []
  }
 ],
 "metadata": {
  "anaconda-cloud": {},
  "kernelspec": {
   "display_name": "Python [Root]",
   "language": "python",
   "name": "Python [Root]"
  },
  "language_info": {
   "codemirror_mode": {
    "name": "ipython",
    "version": 2
   },
   "file_extension": ".py",
   "mimetype": "text/x-python",
   "name": "python",
   "nbconvert_exporter": "python",
   "pygments_lexer": "ipython2",
   "version": "2.7.12"
  }
 },
 "nbformat": 4,
 "nbformat_minor": 0
}
