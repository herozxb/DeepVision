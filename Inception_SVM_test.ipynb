{
 "cells": [
  {
   "cell_type": "code",
   "execution_count": 1,
   "metadata": {
    "collapsed": false
   },
   "outputs": [],
   "source": [
    "import os\n",
    "import re\n",
    "\n",
    "import tensorflow as tf\n",
    "import tensorflow.python.platform\n",
    "from tensorflow.python.platform import gfile\n",
    "import numpy as np\n",
    "import pandas as pd\n",
    "import sklearn\n",
    "from sklearn import cross_validation\n",
    "from sklearn.metrics import accuracy_score, confusion_matrix\n",
    "from sklearn.svm import SVC, LinearSVC\n",
    "import matplotlib.pyplot as plt\n",
    "%matplotlib inline\n",
    "import pickle"
   ]
  },
  {
   "cell_type": "code",
   "execution_count": 2,
   "metadata": {
    "collapsed": false
   },
   "outputs": [
    {
     "name": "stdout",
     "output_type": "stream",
     "text": [
      "['/home/king/DeepLearning/DeepVision/models/tutorials/image/imagenet/TUTORIAL_DIR/images/w3.jpg', '/home/king/DeepLearning/DeepVision/models/tutorials/image/imagenet/TUTORIAL_DIR/images/w4.jpg', '/home/king/DeepLearning/DeepVision/models/tutorials/image/imagenet/TUTORIAL_DIR/images/l1.jpg', '/home/king/DeepLearning/DeepVision/models/tutorials/image/imagenet/TUTORIAL_DIR/images/w1.jpg', '/home/king/DeepLearning/DeepVision/models/tutorials/image/imagenet/TUTORIAL_DIR/images/l2.jpg', '/home/king/DeepLearning/DeepVision/models/tutorials/image/imagenet/TUTORIAL_DIR/images/w2.jpg']\n"
     ]
    }
   ],
   "source": [
    "model_dir = '/home/king/DeepLearning/DeepVision/models/tutorials/image/imagenet/TUTORIAL_DIR/imagenet/'\n",
    "images_dir = '/home/king/DeepLearning/DeepVision/models/tutorials/image/imagenet/TUTORIAL_DIR/images/'\n",
    "list_images = [images_dir+f for f in os.listdir(images_dir) if re.search('jpg|jpeg', f)]\n",
    "print(list_images)\n",
    "#print(unicode(os.listdir(images_dir)[0],\"utf-8\"))\n",
    "#print([f for f in os.listdir(images_dir)] )#if re.search('jpg|JPG', f))"
   ]
  },
  {
   "cell_type": "code",
   "execution_count": 3,
   "metadata": {
    "collapsed": false
   },
   "outputs": [
    {
     "name": "stdout",
     "output_type": "stream",
     "text": [
      "['/home/king/DeepLearning/DeepVision/models/tutorials/image/imagenet/TUTORIAL_DIR/test/w32.jpg', '/home/king/DeepLearning/DeepVision/models/tutorials/image/imagenet/TUTORIAL_DIR/test/l12.jpg', '/home/king/DeepLearning/DeepVision/models/tutorials/image/imagenet/TUTORIAL_DIR/test/w22.jpg', '/home/king/DeepLearning/DeepVision/models/tutorials/image/imagenet/TUTORIAL_DIR/test/l22.jpg', '/home/king/DeepLearning/DeepVision/models/tutorials/image/imagenet/TUTORIAL_DIR/test/w12.jpg', '/home/king/DeepLearning/DeepVision/models/tutorials/image/imagenet/TUTORIAL_DIR/test/w42.jpg']\n"
     ]
    }
   ],
   "source": [
    "model_dir = '/home/king/DeepLearning/DeepVision/models/tutorials/image/imagenet/TUTORIAL_DIR/imagenet/'\n",
    "images_dir = '/home/king/DeepLearning/DeepVision/models/tutorials/image/imagenet/TUTORIAL_DIR/test/'\n",
    "list_images1 = [images_dir+f for f in os.listdir(images_dir) if re.search('jpg|jpeg', f)]\n",
    "print(list_images1)"
   ]
  },
  {
   "cell_type": "code",
   "execution_count": 4,
   "metadata": {
    "collapsed": true
   },
   "outputs": [],
   "source": [
    "def create_graph():\n",
    "    with gfile.FastGFile(os.path.join( model_dir, 'classify_image_graph_def.pb'), 'rb') as f:\n",
    "        graph_def = tf.GraphDef()\n",
    "        graph_def.ParseFromString(f.read())\n",
    "        _ = tf.import_graph_def(graph_def, name='')"
   ]
  },
  {
   "cell_type": "code",
   "execution_count": 5,
   "metadata": {
    "collapsed": true
   },
   "outputs": [],
   "source": [
    "def extract_features(list_images):\n",
    "    nb_features = 2048\n",
    "    features = np.empty((len(list_images),nb_features))\n",
    "    labels = []\n",
    "\n",
    "    create_graph()\n",
    "\n",
    "    with tf.Session() as sess:\n",
    "\n",
    "        next_to_last_tensor = sess.graph.get_tensor_by_name('pool_3:0')\n",
    "        print(next_to_last_tensor)\n",
    "        for ind, image in enumerate(list_images):\n",
    "            print(ind)\n",
    "            \n",
    "            if (ind%1 == 0):\n",
    "                print('Processing %s...' % (image))\n",
    "            if not gfile.Exists(image):\n",
    "                tf.logging.fatal('File does not exist %s', image)\n",
    "\n",
    "            image_data = gfile.FastGFile(image, 'rb').read()\n",
    "            predictions = sess.run(next_to_last_tensor,{'DecodeJpeg/contents:0': image_data})\n",
    "            features[ind,:] = np.squeeze(predictions)\n",
    "            labels.append(re.split('_\\w',image.split('images/')[1][0])[0])\n",
    "            #labels.append(str(ind))\n",
    "        return features, labels\n",
    "    \n",
    "    \n",
    "def extract_features1(list_images):\n",
    "    nb_features = 2048\n",
    "    features = np.empty((len(list_images),nb_features))\n",
    "    labels = []\n",
    "\n",
    "    create_graph()\n",
    "\n",
    "    with tf.Session() as sess:\n",
    "\n",
    "        next_to_last_tensor = sess.graph.get_tensor_by_name('pool_3:0')\n",
    "        print(next_to_last_tensor)\n",
    "        for ind, image in enumerate(list_images):\n",
    "            print(ind)\n",
    "            \n",
    "            if (ind%1 == 0):\n",
    "                print('Processing %s...' % (image))\n",
    "            if not gfile.Exists(image):\n",
    "                tf.logging.fatal('File does not exist %s', image)\n",
    "\n",
    "            image_data = gfile.FastGFile(image, 'rb').read()\n",
    "            predictions = sess.run(next_to_last_tensor,{'DecodeJpeg/contents:0': image_data})\n",
    "            features[ind,:] = np.squeeze(predictions)\n",
    "            labels.append(re.split('_\\w',image.split('test/')[1][0])[0])\n",
    "            #labels.append(str(ind))\n",
    "        return features, labels"
   ]
  },
  {
   "cell_type": "code",
   "execution_count": 6,
   "metadata": {
    "collapsed": false
   },
   "outputs": [
    {
     "name": "stdout",
     "output_type": "stream",
     "text": [
      "Tensor(\"pool_3:0\", shape=(1, 1, 1, 2048), dtype=float32)\n",
      "0\n",
      "Processing /home/king/DeepLearning/DeepVision/models/tutorials/image/imagenet/TUTORIAL_DIR/images/w3.jpg...\n",
      "1\n",
      "Processing /home/king/DeepLearning/DeepVision/models/tutorials/image/imagenet/TUTORIAL_DIR/images/w4.jpg...\n",
      "2\n",
      "Processing /home/king/DeepLearning/DeepVision/models/tutorials/image/imagenet/TUTORIAL_DIR/images/l1.jpg...\n",
      "3\n",
      "Processing /home/king/DeepLearning/DeepVision/models/tutorials/image/imagenet/TUTORIAL_DIR/images/w1.jpg...\n",
      "4\n",
      "Processing /home/king/DeepLearning/DeepVision/models/tutorials/image/imagenet/TUTORIAL_DIR/images/l2.jpg...\n",
      "5\n",
      "Processing /home/king/DeepLearning/DeepVision/models/tutorials/image/imagenet/TUTORIAL_DIR/images/w2.jpg...\n",
      "[[0.3555539  0.50857168 0.63174373 ... 0.60597217 0.58060032 0.30671123]\n",
      " [0.6719197  0.29546505 0.4758167  ... 0.84033346 0.00775583 0.13520625]\n",
      " [0.46656391 0.68050802 0.43136528 ... 0.11066197 0.14071111 0.13320234]\n",
      " [0.27992278 0.1384397  0.08369043 ... 0.64568913 0.16410938 0.38071203]\n",
      " [0.40995485 0.15970489 0.04411843 ... 0.60794133 0.98907763 0.98376238]\n",
      " [0.17588954 0.19013175 0.3432909  ... 0.46045831 0.23564036 0.01208868]]\n",
      "['w', 'w', 'l', 'w', 'l', 'w']\n"
     ]
    }
   ],
   "source": [
    "features,labels = extract_features(list_images)\n",
    "print(features)\n",
    "print(labels)"
   ]
  },
  {
   "cell_type": "code",
   "execution_count": 7,
   "metadata": {
    "collapsed": false
   },
   "outputs": [
    {
     "name": "stdout",
     "output_type": "stream",
     "text": [
      "Tensor(\"pool_3:0\", shape=(1, 1, 1, 2048), dtype=float32)\n",
      "0\n",
      "Processing /home/king/DeepLearning/DeepVision/models/tutorials/image/imagenet/TUTORIAL_DIR/test/w32.jpg...\n",
      "1\n",
      "Processing /home/king/DeepLearning/DeepVision/models/tutorials/image/imagenet/TUTORIAL_DIR/test/l12.jpg...\n",
      "2\n",
      "Processing /home/king/DeepLearning/DeepVision/models/tutorials/image/imagenet/TUTORIAL_DIR/test/w22.jpg...\n",
      "3\n",
      "Processing /home/king/DeepLearning/DeepVision/models/tutorials/image/imagenet/TUTORIAL_DIR/test/l22.jpg...\n",
      "4\n",
      "Processing /home/king/DeepLearning/DeepVision/models/tutorials/image/imagenet/TUTORIAL_DIR/test/w12.jpg...\n",
      "5\n",
      "Processing /home/king/DeepLearning/DeepVision/models/tutorials/image/imagenet/TUTORIAL_DIR/test/w42.jpg...\n",
      "[[0.31673449 0.34028953 0.753313   ... 0.73051196 0.26639581 0.21832292]\n",
      " [0.11238895 0.1224974  0.32951522 ... 0.81839436 0.3834646  0.07008538]\n",
      " [0.2895399  0.33873001 0.4128781  ... 0.57155031 0.14514376 0.24866773]\n",
      " [0.14201017 0.1697218  0.12953095 ... 0.         0.19650076 0.11784299]\n",
      " [0.12873507 0.12188216 0.0826818  ... 0.37055522 0.57225388 0.51791406]\n",
      " [0.27063856 0.0135628  0.08689415 ... 0.86280584 0.01751088 0.34588429]]\n",
      "['w', 'l', 'w', 'l', 'w', 'w']\n"
     ]
    }
   ],
   "source": [
    "features1,labels1 = extract_features1(list_images1)\n",
    "print(features1)\n",
    "print(labels1)"
   ]
  },
  {
   "cell_type": "code",
   "execution_count": 8,
   "metadata": {
    "collapsed": false
   },
   "outputs": [
    {
     "name": "stdout",
     "output_type": "stream",
     "text": [
      "Processing /home/king/DeepLearning/DeepVision/resized_image0.jpg...\n",
      "Tensor(\"pool_3:0\", shape=(1, 1, 1, 2048), dtype=float32)\n",
      "[[[[0.6392621  0.5341328  0.6785944  ... 0.7030274  0.8636828\n",
      "    0.18189038]]]]\n"
     ]
    }
   ],
   "source": [
    "create_graph()\n",
    "image = '/home/king/DeepLearning/DeepVision/resized_image0.jpg'\n",
    "with tf.Session() as sess:\n",
    "    print('Processing %s...' % (image))\n",
    "    image_data = gfile.FastGFile(image, 'rb').read()\n",
    "    \n",
    "    next_to_last_tensor = sess.graph.get_tensor_by_name('pool_3:0')\n",
    "    print(next_to_last_tensor)\n",
    "    predictions = sess.run(next_to_last_tensor,{'DecodeJpeg/contents:0': image_data})\n",
    "    print(predictions)"
   ]
  },
  {
   "cell_type": "code",
   "execution_count": 10,
   "metadata": {
    "collapsed": false
   },
   "outputs": [],
   "source": [
    "import PIL\n",
    "from PIL import Image\n",
    "for ind, image in enumerate(list_images):\n",
    "    img = Image.open(image)\n",
    "    img = img.resize((150, 150), PIL.Image.ANTIALIAS)\n",
    "    img.save('resized_image'+str(ind)+'.jpg')"
   ]
  },
  {
   "cell_type": "code",
   "execution_count": 11,
   "metadata": {
    "collapsed": true
   },
   "outputs": [],
   "source": [
    "pickle.dump(features, open('features', 'wb'))\n",
    "pickle.dump(labels, open('labels', 'wb'))\n"
   ]
  },
  {
   "cell_type": "code",
   "execution_count": 12,
   "metadata": {
    "collapsed": true
   },
   "outputs": [],
   "source": [
    "pickle.dump(features1, open('features', 'wb'))\n",
    "pickle.dump(labels1, open('labels', 'wb'))"
   ]
  },
  {
   "cell_type": "code",
   "execution_count": 13,
   "metadata": {
    "collapsed": true
   },
   "outputs": [],
   "source": [
    "features = pickle.load(open('features'))\n",
    "labels = pickle.load(open('labels'))\n"
   ]
  },
  {
   "cell_type": "code",
   "execution_count": 14,
   "metadata": {
    "collapsed": true
   },
   "outputs": [],
   "source": [
    "features1 = pickle.load(open('features'))\n",
    "labels1 = pickle.load(open('labels'))"
   ]
  },
  {
   "cell_type": "code",
   "execution_count": 15,
   "metadata": {
    "collapsed": false
   },
   "outputs": [],
   "source": [
    "X_train, X_test, y_train, y_test = cross_validation.train_test_split(features, labels, test_size=0.0, random_state=0)\n",
    "X_train1, X_test1, y_train1, y_test1 = cross_validation.train_test_split(features1, labels1, test_size=0.825, random_state=0)"
   ]
  },
  {
   "cell_type": "code",
   "execution_count": 16,
   "metadata": {
    "collapsed": false
   },
   "outputs": [
    {
     "name": "stdout",
     "output_type": "stream",
     "text": [
      "['w', 'w', 'l', 'l', 'w']\n",
      "=======================================================\n",
      "['w' 'w' 'l' 'l' 'w']\n"
     ]
    }
   ],
   "source": [
    "clf = LinearSVC(C=1.0, loss='squared_hinge', penalty='l2',multi_class='ovr')\n",
    "clf.fit(X_train, y_train)\n",
    "#print(X_train)\n",
    "print(y_test1)\n",
    "y_pred = clf.predict(X_test1)\n",
    "print(\"=======================================================\")\n",
    "print(y_pred)"
   ]
  },
  {
   "cell_type": "code",
   "execution_count": 17,
   "metadata": {
    "collapsed": false
   },
   "outputs": [
    {
     "name": "stdout",
     "output_type": "stream",
     "text": [
      "Accuracy: 100.0%\n"
     ]
    }
   ],
   "source": [
    "print(\"Accuracy: {0:0.1f}%\".format(accuracy_score(y_test1,y_pred)*100))"
   ]
  },
  {
   "cell_type": "code",
   "execution_count": 18,
   "metadata": {
    "collapsed": true
   },
   "outputs": [],
   "source": [
    "def plot_confusion_matrix(y_true,y_pred):\n",
    "    cm_array = confusion_matrix(y_true,y_pred)\n",
    "    true_labels = np.unique(y_true)\n",
    "    pred_labels = np.unique(y_pred)\n",
    "    plt.imshow(cm_array[:-1,:-1], interpolation='nearest', cmap=plt.cm.Blues)\n",
    "    plt.title(\"Confusion matrix\", fontsize=16)\n",
    "    cbar = plt.colorbar(fraction=0.046, pad=0.04)\n",
    "    cbar.set_label('Number of images', rotation=270, labelpad=30, fontsize=12)\n",
    "    xtick_marks = np.arange(len(true_labels))\n",
    "    ytick_marks = np.arange(len(pred_labels))\n",
    "    plt.xticks(xtick_marks, true_labels, rotation=90)\n",
    "    plt.yticks(ytick_marks,pred_labels)\n",
    "    plt.tight_layout()\n",
    "    plt.ylabel('True label', fontsize=14)\n",
    "    plt.xlabel('Predicted label', fontsize=14)\n",
    "    fig_size = plt.rcParams[\"figure.figsize\"]\n",
    "    fig_size[0] = 12\n",
    "    fig_size[1] = 12\n",
    "    plt.rcParams[\"figure.figsize\"] = fig_size"
   ]
  },
  {
   "cell_type": "code",
   "execution_count": 19,
   "metadata": {
    "collapsed": false,
    "scrolled": true
   },
   "outputs": [
    {
     "data": {
      "image/png": "[encoded data removed]",
      "text/plain": [
       "<matplotlib.figure.Figure at 0x7f3d601b8050>"
      ]
     },
     "metadata": {},
     "output_type": "display_data"
    }
   ],
   "source": [
    "plot_confusion_matrix(y_test1,y_pred)"
   ]
  },
  {
   "cell_type": "code",
   "execution_count": null,
   "metadata": {
    "collapsed": true
   },
   "outputs": [],
   "source": []
  }
 ],
 "metadata": {
  "anaconda-cloud": {},
  "kernelspec": {
   "display_name": "Python [Root]",
   "language": "python",
   "name": "Python [Root]"
  },
  "language_info": {
   "codemirror_mode": {
    "name": "ipython",
    "version": 2
   },
   "file_extension": ".py",
   "mimetype": "text/x-python",
   "name": "python",
   "nbconvert_exporter": "python",
   "pygments_lexer": "ipython2",
   "version": "2.7.12"
  }
 },
 "nbformat": 4,
 "nbformat_minor": 0
}
