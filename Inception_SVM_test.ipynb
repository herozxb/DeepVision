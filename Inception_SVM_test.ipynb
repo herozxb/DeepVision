{
 "cells": [
  {
   "cell_type": "code",
   "execution_count": 1,
   "metadata": {
    "collapsed": false
   },
   "outputs": [],
   "source": [
    "import os\n",
    "import re\n",
    "\n",
    "import tensorflow as tf\n",
    "import tensorflow.python.platform\n",
    "from tensorflow.python.platform import gfile\n",
    "import numpy as np\n",
    "import pandas as pd\n",
    "import sklearn\n",
    "from sklearn import cross_validation\n",
    "from sklearn.metrics import accuracy_score, confusion_matrix\n",
    "from sklearn.svm import SVC, LinearSVC\n",
    "import matplotlib.pyplot as plt\n",
    "%matplotlib inline\n",
    "import pickle"
   ]
  },
  {
   "cell_type": "code",
   "execution_count": 2,
   "metadata": {
    "collapsed": false
   },
   "outputs": [
    {
     "name": "stdout",
     "output_type": "stream",
     "text": [
      "['/home/king/DeepLearning/tensorflow/tensorflow/models/image/imagenet/TUTORIAL_DIR/images/1.jpeg', '/home/king/DeepLearning/tensorflow/tensorflow/models/image/imagenet/TUTORIAL_DIR/images/image1.jpg', '/home/king/DeepLearning/tensorflow/tensorflow/models/image/imagenet/TUTORIAL_DIR/images/resized_image.jpg']\n"
     ]
    }
   ],
   "source": [
    "model_dir = '/home/king/DeepLearning/tensorflow/tensorflow/models/image/imagenet/TUTORIAL_DIR/imagenet'\n",
    "images_dir = '/home/king/DeepLearning/tensorflow/tensorflow/models/image/imagenet/TUTORIAL_DIR/images/'\n",
    "list_images = [images_dir+f for f in os.listdir(images_dir) if re.search('jpg|jpeg', f)]\n",
    "print(list_images)\n",
    "#print(unicode(os.listdir(images_dir)[0],\"utf-8\"))\n",
    "#print([f for f in os.listdir(images_dir)] )#if re.search('jpg|JPG', f))"
   ]
  },
  {
   "cell_type": "code",
   "execution_count": 3,
   "metadata": {
    "collapsed": true
   },
   "outputs": [],
   "source": [
    "def create_graph():\n",
    "    with gfile.FastGFile(os.path.join( model_dir, 'classify_image_graph_def.pb'), 'rb') as f:\n",
    "        graph_def = tf.GraphDef()\n",
    "        graph_def.ParseFromString(f.read())\n",
    "        _ = tf.import_graph_def(graph_def, name='')"
   ]
  },
  {
   "cell_type": "code",
   "execution_count": 4,
   "metadata": {
    "collapsed": true
   },
   "outputs": [],
   "source": [
    "def extract_features(list_images):\n",
    "    nb_features = 2048\n",
    "    features = np.empty((len(list_images),nb_features))\n",
    "    labels = []\n",
    "\n",
    "    create_graph()\n",
    "\n",
    "    with tf.Session() as sess:\n",
    "\n",
    "        next_to_last_tensor = sess.graph.get_tensor_by_name('pool_3:0')\n",
    "        print(next_to_last_tensor)\n",
    "        for ind, image in enumerate(list_images):\n",
    "            print(ind)\n",
    "            \n",
    "            if (ind%1 == 0):\n",
    "                print('Processing %s...' % (image))\n",
    "            if not gfile.Exists(image):\n",
    "                tf.logging.fatal('File does not exist %s', image)\n",
    "\n",
    "            image_data = gfile.FastGFile(image, 'rb').read()\n",
    "            #print(image_data)\n",
    "            #predictions = sess.run(next_to_last_tensor,{'DecodeJpeg/contents:0': image_data})\n",
    "            #features[ind,:] = np.squeeze(predictions)\n",
    "            #labels.append(re.split('_\\d+',image.split('/')[1])[0])\n",
    "\n",
    "        return features, labels"
   ]
  },
  {
   "cell_type": "code",
   "execution_count": null,
   "metadata": {
    "collapsed": false
   },
   "outputs": [
    {
     "name": "stdout",
     "output_type": "stream",
     "text": [
      "Tensor(\"pool_3:0\", shape=(1, 1, 1, 2048), dtype=float32)\n",
      "0\n",
      "Processing /home/king/DeepLearning/tensorflow/tensorflow/models/image/imagenet/TUTORIAL_DIR/images/image1.jpg...\n"
     ]
    }
   ],
   "source": [
    "features,labels = extract_features(list_images)"
   ]
  },
  {
   "cell_type": "code",
   "execution_count": null,
   "metadata": {
    "collapsed": false
   },
   "outputs": [
    {
     "name": "stdout",
     "output_type": "stream",
     "text": [
      "Processing /home/king/DeepLearning/tensorflow/tensorflow/models/image/imagenet/TUTORIAL_DIR/images/1.jpeg...\n",
      "Tensor(\"pool_3:0\", shape=(1, 1, 1, 2048), dtype=float32)\n"
     ]
    }
   ],
   "source": [
    "create_graph()\n",
    "image = '/home/king/DeepLearning/tensorflow/tensorflow/models/image/imagenet/TUTORIAL_DIR/images/1.jpeg'\n",
    "with tf.Session() as sess:\n",
    "    print('Processing %s...' % (image))\n",
    "    image_data = gfile.FastGFile(image, 'rb').read()\n",
    "    \n",
    "    next_to_last_tensor = sess.graph.get_tensor_by_name('pool_3:0')\n",
    "    print(next_to_last_tensor)\n",
    "    predictions = sess.run(next_to_last_tensor,{'DecodeJpeg/contents:0': image_data})\n",
    "    print(predictions)"
   ]
  },
  {
   "cell_type": "code",
   "execution_count": 5,
   "metadata": {
    "collapsed": false
   },
   "outputs": [],
   "source": [
    "import PIL\n",
    "from PIL import Image\n",
    "\n",
    "img = Image.open('/home/king/DeepLearning/tensorflow/tensorflow/models/image/imagenet/TUTORIAL_DIR/images/resized_image.jpg')\n",
    "img = img.resize((150, 150), PIL.Image.ANTIALIAS)\n",
    "img.save('resized_image.jpg')"
   ]
  },
  {
   "cell_type": "code",
   "execution_count": null,
   "metadata": {
    "collapsed": true
   },
   "outputs": [],
   "source": []
  }
 ],
 "metadata": {
  "anaconda-cloud": {},
  "kernelspec": {
   "display_name": "Python [default]",
   "language": "python",
   "name": "python3"
  },
  "language_info": {
   "codemirror_mode": {
    "name": "ipython",
    "version": 3
   },
   "file_extension": ".py",
   "mimetype": "text/x-python",
   "name": "python",
   "nbconvert_exporter": "python",
   "pygments_lexer": "ipython3",
   "version": "3.5.2"
  }
 },
 "nbformat": 4,
 "nbformat_minor": 0
}
