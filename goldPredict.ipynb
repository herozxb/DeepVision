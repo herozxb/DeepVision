{
 "cells": [
  {
   "cell_type": "code",
   "execution_count": 1,
   "metadata": {
    "collapsed": true
   },
   "outputs": [],
   "source": [
    "import quandl"
   ]
  },
  {
   "cell_type": "code",
   "execution_count": 19,
   "metadata": {
    "collapsed": false
   },
   "outputs": [],
   "source": [
    "data=quandl.get(\"LBMA/GOLD\", authtoken=\"ZbxGsy8jS4AxssbNsHEp\", start_date=\"2006-01-02\")"
   ]
  },
  {
   "cell_type": "code",
   "execution_count": 6,
   "metadata": {
    "collapsed": false
   },
   "outputs": [
    {
     "name": "stdout",
     "output_type": "stream",
     "text": [
      "[u'dataset_code', u'column_names', u'newest_available_date', u'description', u'database_id', u'refreshed_at', u'frequency', u'database_code', u'oldest_available_date', u'premium', u'type', u'id', u'name']\n"
     ]
    }
   ],
   "source": [
    "metadata = quandl.Dataset(\"LBMA/GOLD\").data_fields()\n",
    "print metadata"
   ]
  },
  {
   "cell_type": "code",
   "execution_count": 10,
   "metadata": {
    "collapsed": false
   },
   "outputs": [
    {
     "name": "stdout",
     "output_type": "stream",
     "text": [
      "<quandl.model.data.Data object at 0x0000000009E46860>\n"
     ]
    }
   ],
   "source": [
    "print quandl.Dataset(\"LBMA/GOLD\").data()[0]"
   ]
  },
  {
   "cell_type": "code",
   "execution_count": 12,
   "metadata": {
    "collapsed": false
   },
   "outputs": [
    {
     "name": "stdout",
     "output_type": "stream",
     "text": [
      "            USD (AM)  USD (PM)  GBP (AM)  GBP (PM)  EURO (AM)  EURO (PM)\n",
      "Date                                                                    \n",
      "2006-01-03    520.75    530.00   300.803   305.740    437.973    443.515\n",
      "2006-01-04    534.35    529.50   304.386   300.921    442.893    438.110\n",
      "2006-01-05    531.60    524.75   303.511   298.833    439.339    434.036\n",
      "2006-01-06    529.50    535.25   301.795   302.572    437.965    440.173\n",
      "2006-01-09    541.00    541.50   306.082   306.625    447.551    448.076\n",
      "2006-01-10    545.25    543.50   308.138   307.496    450.508    450.104\n",
      "2006-01-11    542.25    544.40   309.186   309.529    449.515    449.992\n",
      "2006-01-12    547.50    542.50   309.095   308.326    450.691    451.444\n",
      "2006-01-13    547.25    548.25   309.688   309.781    453.510    454.489\n",
      "2006-01-16    559.40    561.75   315.867   318.200    460.601    463.758\n",
      "2006-01-17    558.05    553.25   316.534   314.347    460.818    458.862\n",
      "2006-01-18    544.75    545.00   308.064   308.782    449.204    450.227\n",
      "2006-01-19    547.70    554.75   311.600   315.917    453.131    459.230\n",
      "2006-01-20    559.25    567.25   317.900   321.152    462.879    468.802\n",
      "2006-01-23    558.50    554.50   313.359   310.731    454.990    451.621\n",
      "2006-01-24    556.65    557.25   312.024   312.010    453.372    453.971\n",
      "2006-01-25    562.25    561.75   313.756   314.090    456.631    457.824\n",
      "2006-01-26    562.25    556.50   314.898   311.242    458.830    454.137\n",
      "2006-01-27    559.75    561.75   314.378   315.147    458.286    460.526\n",
      "2006-01-30    560.30    565.00   317.361   319.353    463.518    467.174\n",
      "2006-01-31    569.80    568.75   321.231   320.820    470.792    469.111\n",
      "2006-02-01    567.20    568.25   319.010   319.601    467.601    469.318\n",
      "2006-02-02    571.85    572.15   322.078   322.247    473.699    474.144\n",
      "2006-02-03    571.85    569.00   321.988   322.562    473.582    474.167\n",
      "2006-02-06    570.00    569.75   324.694   325.571    475.000    475.982\n",
      "2006-02-07    568.25    558.70   324.807   320.245    473.937    466.555\n",
      "2006-02-08    548.65    548.75   314.647   315.102    458.239    459.013\n",
      "2006-02-09    559.00    560.25   320.951   322.112    466.611    468.515\n",
      "2006-02-10    558.75    557.00   319.834   317.198    466.597    463.780\n",
      "2006-02-13    546.60    549.30   314.409   315.363    459.907    461.597\n",
      "...              ...       ...       ...       ...        ...        ...\n",
      "2016-11-24   1187.25   1186.10   953.600   950.300   1125.040   1121.460\n",
      "2016-11-25   1187.50   1187.70   953.330   955.390   1121.830   1120.000\n",
      "2016-11-28   1189.10   1187.00   956.510   956.600   1117.990   1121.240\n",
      "2016-11-29   1187.30   1186.55   952.450   949.830   1119.980   1119.510\n",
      "2016-11-30   1187.40   1178.10   952.060   946.370   1115.440   1111.890\n",
      "2016-12-01   1168.75   1161.85   930.090   919.950   1099.680   1095.970\n",
      "2016-12-02   1171.65   1173.50   929.000   927.420   1100.880   1102.030\n",
      "2016-12-05   1164.90   1162.20   915.840   913.610   1095.360   1082.590\n",
      "2016-12-06   1171.15   1172.50   918.180   921.350   1086.940   1092.420\n",
      "2016-12-07   1171.25   1177.65   929.620   935.410   1092.190   1096.390\n",
      "2016-12-08   1174.75   1171.05   925.470   929.460   1088.640   1101.720\n",
      "2016-12-09   1168.90   1163.60   927.640   924.950   1100.750   1102.630\n",
      "2016-12-12   1154.40   1156.10   916.820   912.630   1089.410   1089.160\n",
      "2016-12-13   1157.35   1158.55   911.180   910.620   1090.800   1088.810\n",
      "2016-12-14   1160.95   1162.25   917.380   915.040   1091.990   1091.820\n",
      "2016-12-15   1132.45   1126.95   904.370   903.810   1080.700   1081.650\n",
      "2016-12-16   1134.85   1131.60   911.170   911.160   1084.800   1085.090\n",
      "2016-12-19   1137.60   1136.25   913.150   917.980   1089.140   1089.210\n",
      "2016-12-20   1132.75   1125.70   915.940   913.730   1090.840   1085.400\n",
      "2016-12-21   1134.40   1133.65   919.200   915.080   1091.070   1085.130\n",
      "2016-12-22   1130.55   1131.35   916.200   917.300   1080.470   1080.210\n",
      "2016-12-23   1131.00       NaN   921.990       NaN   1082.250        NaN\n",
      "2016-12-28   1139.75   1134.60   931.290   929.690   1091.880   1092.510\n",
      "2016-12-29   1146.80   1145.90   935.560   937.120   1094.850   1095.710\n",
      "2016-12-30   1159.10       NaN   942.580       NaN   1098.360        NaN\n",
      "2017-01-03   1148.65   1151.00   935.120   940.600   1103.280   1109.560\n",
      "2017-01-04   1165.90   1164.25   949.980   947.700   1117.400   1113.140\n",
      "2017-01-05   1173.05   1176.70   953.220   955.250   1116.160   1116.690\n",
      "2017-01-06   1178.00   1175.85   951.350   954.080   1112.270   1114.000\n",
      "2017-01-09   1176.10   1178.50   968.750   970.850   1118.590   1119.220\n",
      "\n",
      "[2785 rows x 6 columns]\n"
     ]
    }
   ],
   "source": [
    "print data"
   ]
  },
  {
   "cell_type": "code",
   "execution_count": 16,
   "metadata": {
    "collapsed": false
   },
   "outputs": [
    {
     "name": "stdout",
     "output_type": "stream",
     "text": [
      "Date\n",
      "2006-01-03     520.75\n",
      "2006-01-04     534.35\n",
      "2006-01-05     531.60\n",
      "2006-01-06     529.50\n",
      "2006-01-09     541.00\n",
      "2006-01-10     545.25\n",
      "2006-01-11     542.25\n",
      "2006-01-12     547.50\n",
      "2006-01-13     547.25\n",
      "2006-01-16     559.40\n",
      "2006-01-17     558.05\n",
      "2006-01-18     544.75\n",
      "2006-01-19     547.70\n",
      "2006-01-20     559.25\n",
      "2006-01-23     558.50\n",
      "2006-01-24     556.65\n",
      "2006-01-25     562.25\n",
      "2006-01-26     562.25\n",
      "2006-01-27     559.75\n",
      "2006-01-30     560.30\n",
      "2006-01-31     569.80\n",
      "2006-02-01     567.20\n",
      "2006-02-02     571.85\n",
      "2006-02-03     571.85\n",
      "2006-02-06     570.00\n",
      "2006-02-07     568.25\n",
      "2006-02-08     548.65\n",
      "2006-02-09     559.00\n",
      "2006-02-10     558.75\n",
      "2006-02-13     546.60\n",
      "               ...   \n",
      "2016-11-24    1187.25\n",
      "2016-11-25    1187.50\n",
      "2016-11-28    1189.10\n",
      "2016-11-29    1187.30\n",
      "2016-11-30    1187.40\n",
      "2016-12-01    1168.75\n",
      "2016-12-02    1171.65\n",
      "2016-12-05    1164.90\n",
      "2016-12-06    1171.15\n",
      "2016-12-07    1171.25\n",
      "2016-12-08    1174.75\n",
      "2016-12-09    1168.90\n",
      "2016-12-12    1154.40\n",
      "2016-12-13    1157.35\n",
      "2016-12-14    1160.95\n",
      "2016-12-15    1132.45\n",
      "2016-12-16    1134.85\n",
      "2016-12-19    1137.60\n",
      "2016-12-20    1132.75\n",
      "2016-12-21    1134.40\n",
      "2016-12-22    1130.55\n",
      "2016-12-23    1131.00\n",
      "2016-12-28    1139.75\n",
      "2016-12-29    1146.80\n",
      "2016-12-30    1159.10\n",
      "2017-01-03    1148.65\n",
      "2017-01-04    1165.90\n",
      "2017-01-05    1173.05\n",
      "2017-01-06    1178.00\n",
      "2017-01-09    1176.10\n",
      "Name: USD (AM), dtype: float64\n"
     ]
    }
   ],
   "source": [
    "print data[\"USD (AM)\"]"
   ]
  },
  {
   "cell_type": "code",
   "execution_count": 20,
   "metadata": {
    "collapsed": false
   },
   "outputs": [
    {
     "name": "stdout",
     "output_type": "stream",
     "text": [
      "80.75\n"
     ]
    }
   ],
   "source": [
    "temp =data[\"USD (AM)\"][0]\n",
    "maxResult = 0\n",
    "for data_ in data[\"USD (AM)\"]:\n",
    "    result = data_ - temp\n",
    "    if result >= maxResult:\n",
    "        maxResult = result\n",
    "    temp =data_\n",
    "print maxResult"
   ]
  },
  {
   "cell_type": "code",
   "execution_count": 21,
   "metadata": {
    "collapsed": false
   },
   "outputs": [
    {
     "name": "stdout",
     "output_type": "stream",
     "text": [
      "-133.5\n"
     ]
    }
   ],
   "source": [
    "temp =data[\"USD (AM)\"][0]\n",
    "minResult = 0\n",
    "for data_ in data[\"USD (AM)\"]:\n",
    "    result = data_ - temp\n",
    "    if result <= minResult:\n",
    "        minResult = result\n",
    "    temp =data_\n",
    "print minResult"
   ]
  },
  {
   "cell_type": "code",
   "execution_count": 4,
   "metadata": {
    "collapsed": false
   },
   "outputs": [
    {
     "name": "stdout",
     "output_type": "stream",
     "text": [
      "0\n",
      "1\n",
      "2\n",
      "3\n",
      "4\n"
     ]
    }
   ],
   "source": [
    "for i in range(5):\n",
    "    print i"
   ]
  },
  {
   "cell_type": "code",
   "execution_count": 8,
   "metadata": {
    "collapsed": false
   },
   "outputs": [
    {
     "name": "stdout",
     "output_type": "stream",
     "text": [
      "(2750L,)\n"
     ]
    }
   ],
   "source": [
    "import keras\n",
    "import numpy as np\n",
    "data = np.empty((2785-36+1,1,6,6),dtype=\"float32\")\n",
    "label = np.empty((2785-36+1),dtype=\"uint8\")\n",
    "print label.shape"
   ]
  },
  {
   "cell_type": "code",
   "execution_count": 13,
   "metadata": {
    "collapsed": false
   },
   "outputs": [
    {
     "name": "stderr",
     "output_type": "stream",
     "text": [
      "C:\\Users\\xibo\\Anaconda2\\lib\\site-packages\\ipykernel\\__main__.py:6: VisibleDeprecationWarning: using a non-integer number instead of an integer will result in an error in the future\n"
     ]
    },
    {
     "ename": "IndexError",
     "evalue": "only integers, slices (`:`), ellipsis (`...`), numpy.newaxis (`None`) and integer or boolean arrays are valid indices",
     "output_type": "error",
     "traceback": [
      "\u001b[1;31m---------------------------------------------------------------------------\u001b[0m",
      "\u001b[1;31mIndexError\u001b[0m                                Traceback (most recent call last)",
      "\u001b[1;32m<ipython-input-13-9cdaa0835ed1>\u001b[0m in \u001b[0;36m<module>\u001b[1;34m()\u001b[0m\n\u001b[0;32m      4\u001b[0m     \u001b[1;32mfor\u001b[0m \u001b[0mj\u001b[0m \u001b[1;32min\u001b[0m \u001b[0mrange\u001b[0m\u001b[1;33m(\u001b[0m\u001b[1;36m6\u001b[0m\u001b[1;33m)\u001b[0m\u001b[1;33m:\u001b[0m\u001b[1;33m\u001b[0m\u001b[0m\n\u001b[0;32m      5\u001b[0m         \u001b[1;32mfor\u001b[0m \u001b[0mk\u001b[0m \u001b[1;32min\u001b[0m \u001b[0mrange\u001b[0m\u001b[1;33m(\u001b[0m\u001b[1;36m6\u001b[0m\u001b[1;33m)\u001b[0m\u001b[1;33m:\u001b[0m\u001b[1;33m\u001b[0m\u001b[0m\n\u001b[1;32m----> 6\u001b[1;33m             \u001b[0mdata\u001b[0m\u001b[1;33m[\u001b[0m\u001b[0mi\u001b[0m\u001b[1;33m,\u001b[0m\u001b[1;36m0\u001b[0m\u001b[1;33m,\u001b[0m\u001b[0mj\u001b[0m\u001b[1;33m,\u001b[0m\u001b[0mk\u001b[0m\u001b[1;33m]\u001b[0m \u001b[1;33m=\u001b[0m \u001b[0mdata\u001b[0m\u001b[1;33m[\u001b[0m\u001b[1;34m\"USD (AM)\"\u001b[0m\u001b[1;33m]\u001b[0m\u001b[1;33m[\u001b[0m\u001b[0mint\u001b[0m\u001b[1;33m(\u001b[0m\u001b[0mi\u001b[0m\u001b[1;33m+\u001b[0m\u001b[0mj\u001b[0m\u001b[1;33m*\u001b[0m\u001b[1;36m6\u001b[0m\u001b[1;33m+\u001b[0m\u001b[0mk\u001b[0m\u001b[1;33m)\u001b[0m\u001b[1;33m]\u001b[0m\u001b[1;33m\u001b[0m\u001b[0m\n\u001b[0m\u001b[0;32m      7\u001b[0m \u001b[1;33m\u001b[0m\u001b[0m\n\u001b[0;32m      8\u001b[0m     \u001b[0mresult_label\u001b[0m \u001b[1;33m=\u001b[0m  \u001b[0mdata\u001b[0m\u001b[1;33m[\u001b[0m\u001b[1;34m\"USD (AM)\"\u001b[0m\u001b[1;33m]\u001b[0m\u001b[1;33m[\u001b[0m\u001b[0mint\u001b[0m\u001b[1;33m(\u001b[0m\u001b[0mi\u001b[0m\u001b[1;33m+\u001b[0m\u001b[1;36m36\u001b[0m\u001b[1;33m)\u001b[0m\u001b[1;33m]\u001b[0m \u001b[1;33m-\u001b[0m \u001b[0mdata\u001b[0m\u001b[1;33m[\u001b[0m\u001b[1;34m\"USD (AM)\"\u001b[0m\u001b[1;33m]\u001b[0m\u001b[1;33m[\u001b[0m\u001b[0mint\u001b[0m\u001b[1;33m(\u001b[0m\u001b[0mi\u001b[0m\u001b[1;33m+\u001b[0m\u001b[1;36m35\u001b[0m\u001b[1;33m)\u001b[0m\u001b[1;33m]\u001b[0m\u001b[1;33m\u001b[0m\u001b[0m\n",
      "\u001b[1;31mIndexError\u001b[0m: only integers, slices (`:`), ellipsis (`...`), numpy.newaxis (`None`) and integer or boolean arrays are valid indices"
     ]
    }
   ],
   "source": [
    "\n",
    "for i in range(2785-35):\n",
    "    \n",
    "    for j in range(6):\n",
    "        for k in range(6):\n",
    "            data[i,0,j,k] = data[\"USD (AM)\"][int(i+j*6+k)]\n",
    "            \n",
    "    result_label =  data[\"USD (AM)\"][int(i+36)] - data[\"USD (AM)\"][int(i+35)]\n",
    "    if(result_label>=0 and result_label<1):\n",
    "        label[i] = 0\n",
    "    elif(result_label>=1 and result_label<2):\n",
    "        label[i] = 1\n",
    "    elif(result_label>=2 and result_label<4):\n",
    "        label[i] = 2\n",
    "    elif(result_label>=4 and result_label<8):\n",
    "        label[i] = 3\n",
    "    elif(result_label>=8 and result_label<16):\n",
    "        label[i] = 4\n",
    "    elif(result_label>=16):\n",
    "        label[i] = 5\n",
    "    elif(result_label>=-1 and result_label<0):\n",
    "        label[i] = 6\n",
    "    elif(result_label>=-2 and result_label<-1):\n",
    "        label[i] = 7\n",
    "    elif(result_label>=-4 and result_label<-2):\n",
    "        label[i] = 8\n",
    "    elif(result_label>=-8 and result_label<-4):\n",
    "        label[i] = 9\n",
    "    elif(result_label>=-16 and result_label<-8):\n",
    "        label[i] = 10\n",
    "    elif(result_label<-16):\n",
    "        label[i] = 11\n",
    "        "
   ]
  },
  {
   "cell_type": "code",
   "execution_count": 16,
   "metadata": {
    "collapsed": false
   },
   "outputs": [
    {
     "name": "stderr",
     "output_type": "stream",
     "text": [
      "C:\\Users\\xibo\\Anaconda2\\lib\\site-packages\\ipykernel\\__main__.py:3: VisibleDeprecationWarning: using a non-integer number instead of an integer will result in an error in the future\n",
      "  app.launch_new_instance()\n"
     ]
    },
    {
     "ename": "IndexError",
     "evalue": "only integers, slices (`:`), ellipsis (`...`), numpy.newaxis (`None`) and integer or boolean arrays are valid indices",
     "output_type": "error",
     "traceback": [
      "\u001b[1;31m---------------------------------------------------------------------------\u001b[0m",
      "\u001b[1;31mIndexError\u001b[0m                                Traceback (most recent call last)",
      "\u001b[1;32m<ipython-input-16-9fcfe1abf33d>\u001b[0m in \u001b[0;36m<module>\u001b[1;34m()\u001b[0m\n\u001b[0;32m      1\u001b[0m \u001b[1;32mfor\u001b[0m \u001b[0mj\u001b[0m \u001b[1;32min\u001b[0m \u001b[0mrange\u001b[0m\u001b[1;33m(\u001b[0m\u001b[1;36m6\u001b[0m\u001b[1;33m)\u001b[0m\u001b[1;33m:\u001b[0m\u001b[1;33m\u001b[0m\u001b[0m\n\u001b[0;32m      2\u001b[0m     \u001b[1;32mfor\u001b[0m \u001b[0mk\u001b[0m \u001b[1;32min\u001b[0m \u001b[0mrange\u001b[0m\u001b[1;33m(\u001b[0m\u001b[1;36m6\u001b[0m\u001b[1;33m)\u001b[0m\u001b[1;33m:\u001b[0m\u001b[1;33m\u001b[0m\u001b[0m\n\u001b[1;32m----> 3\u001b[1;33m         \u001b[1;32mprint\u001b[0m \u001b[0mdata\u001b[0m\u001b[1;33m[\u001b[0m\u001b[1;34m\"USD (AM)\"\u001b[0m\u001b[1;33m]\u001b[0m\u001b[1;33m[\u001b[0m\u001b[0mint\u001b[0m\u001b[1;33m(\u001b[0m\u001b[0mj\u001b[0m\u001b[1;33m)\u001b[0m\u001b[1;33m*\u001b[0m\u001b[1;36m6\u001b[0m\u001b[1;33m+\u001b[0m\u001b[0mint\u001b[0m\u001b[1;33m(\u001b[0m\u001b[0mk\u001b[0m\u001b[1;33m)\u001b[0m\u001b[1;33m]\u001b[0m\u001b[1;33m\u001b[0m\u001b[0m\n\u001b[0m",
      "\u001b[1;31mIndexError\u001b[0m: only integers, slices (`:`), ellipsis (`...`), numpy.newaxis (`None`) and integer or boolean arrays are valid indices"
     ]
    }
   ],
   "source": [
    "    for j in range(6):\n",
    "        for k in range(6):\n",
    "            print data[\"USD (AM)\"][int(int(j)*6+int(k))]"
   ]
  },
  {
   "cell_type": "code",
   "execution_count": null,
   "metadata": {
    "collapsed": true
   },
   "outputs": [],
   "source": []
  }
 ],
 "metadata": {
  "anaconda-cloud": {},
  "kernelspec": {
   "display_name": "Python [Root]",
   "language": "python",
   "name": "Python [Root]"
  },
  "language_info": {
   "codemirror_mode": {
    "name": "ipython",
    "version": 2
   },
   "file_extension": ".py",
   "mimetype": "text/x-python",
   "name": "python",
   "nbconvert_exporter": "python",
   "pygments_lexer": "ipython2",
   "version": "2.7.12"
  }
 },
 "nbformat": 4,
 "nbformat_minor": 0
}
